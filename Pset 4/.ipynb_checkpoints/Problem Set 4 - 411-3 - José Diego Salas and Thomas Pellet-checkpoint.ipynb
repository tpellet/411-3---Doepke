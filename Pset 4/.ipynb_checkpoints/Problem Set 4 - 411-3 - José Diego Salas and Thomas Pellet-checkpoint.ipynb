{
 "cells": [
  {
   "cell_type": "code",
   "execution_count": 4,
   "metadata": {
    "scrolled": true
   },
   "outputs": [],
   "source": [
    "import numpy as np\n",
    "from scipy.optimize import linprog\n",
    "import matplotlib.pyplot as plt\n",
    "import numba"
   ]
  },
  {
   "cell_type": "markdown",
   "metadata": {},
   "source": [
    "# Education Subsidies with Private Information"
   ]
  },
  {
   "cell_type": "code",
   "execution_count": null,
   "metadata": {},
   "outputs": [],
   "source": []
  },
  {
   "cell_type": "markdown",
   "metadata": {},
   "source": [
    "# Insuring Preference Shocks"
   ]
  },
  {
   "cell_type": "code",
   "execution_count": null,
   "metadata": {},
   "outputs": [],
   "source": []
  },
  {
   "cell_type": "markdown",
   "metadata": {},
   "source": [
    "# Computing Private Information Problems"
   ]
  },
  {
   "cell_type": "code",
   "execution_count": 37,
   "metadata": {},
   "outputs": [],
   "source": [
    "def makegrid(N):\n",
    "    a = np.array([0.2, 0.4])\n",
    "\n",
    "    q = np.array([1, 2])\n",
    "\n",
    "    c = np.linspace(.1, 2, N)\n",
    "    w = np.linspace(0, 1.1, N)\n",
    "    \n",
    "    return a, q, c\n",
    "\n",
    "a, q, c = makegrid(20)\n",
    "\n",
    "Π = np.array([[0.8, 0.2],\n",
    "            [0.2, 0.9]])   # First row for a = 0.2, first column for q = 1\n",
    "\n",
    "@numba.njit()\n",
    "def utility(c,a):\n",
    "    return np.sqrt(c) * (1 - a)\n",
    "\n"
   ]
  },
  {
   "cell_type": "markdown",
   "metadata": {},
   "source": [
    "## Write down constraints"
   ]
  },
  {
   "cell_type": "code",
   "execution_count": null,
   "metadata": {},
   "outputs": [],
   "source": []
  },
  {
   "cell_type": "code",
   "execution_count": 40,
   "metadata": {},
   "outputs": [],
   "source": [
    "#Maximization q -c\n",
    "factor = np.kron(q,np.ones(len(c))) - np.kron(np.ones(len(q)),c)\n",
    "factor = np.kron(factor, np.ones(len(a)))\n",
    "\n",
    "#Probability distribution constraint\n",
    "A_ub = np.ones(factor)\n",
    "A = 1\n",
    "\n",
    "# Bayes Rule constraint\n",
    "# sum over \n",
    "\n",
    "#Need a\n",
    "b = np.ravel(Π)   # Loop over a first, then q\n",
    "\n",
    "b = 0"
   ]
  },
  {
   "cell_type": "code",
   "execution_count": 43,
   "metadata": {},
   "outputs": [
    {
     "name": "stdout",
     "output_type": "stream",
     "text": [
      "0.9\n"
     ]
    }
   ],
   "source": [
    "print(factor[1])"
   ]
  },
  {
   "cell_type": "code",
   "execution_count": null,
   "metadata": {},
   "outputs": [],
   "source": [
    "res = linprog(factor, A_ub=A, b_ub=b, bounds=[x0_bounds, x1_bounds])"
   ]
  },
  {
   "cell_type": "code",
   "execution_count": 46,
   "metadata": {},
   "outputs": [
    {
     "data": {
      "text/plain": [
       "array([0.8, 0.2, 0.2, 0.9])"
      ]
     },
     "execution_count": 46,
     "metadata": {},
     "output_type": "execute_result"
    }
   ],
   "source": [
    "np.ravel(Π)"
   ]
  },
  {
   "cell_type": "code",
   "execution_count": null,
   "metadata": {},
   "outputs": [],
   "source": []
  }
 ],
 "metadata": {
  "kernelspec": {
   "display_name": "Python 3",
   "language": "python",
   "name": "python3"
  },
  "language_info": {
   "codemirror_mode": {
    "name": "ipython",
    "version": 3
   },
   "file_extension": ".py",
   "mimetype": "text/x-python",
   "name": "python",
   "nbconvert_exporter": "python",
   "pygments_lexer": "ipython3",
   "version": "3.8.2"
  }
 },
 "nbformat": 4,
 "nbformat_minor": 4
}
