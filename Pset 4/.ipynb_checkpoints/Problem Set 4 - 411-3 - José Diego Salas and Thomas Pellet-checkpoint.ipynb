{
 "cells": [
  {
   "cell_type": "code",
   "execution_count": 75,
   "metadata": {
    "scrolled": true
   },
   "outputs": [],
   "source": [
    "import numpy as np\n",
    "from scipy.optimize import linprog\n",
    "import matplotlib.pyplot as plt\n",
    "import numba"
   ]
  },
  {
   "cell_type": "markdown",
   "metadata": {},
   "source": [
    "# Education Subsidies with Private Information"
   ]
  },
  {
   "cell_type": "markdown",
   "metadata": {},
   "source": [
    "## The rich agent problem"
   ]
  },
  {
   "cell_type": "markdown",
   "metadata": {},
   "source": [
    "$$\n",
    "\\max_{\\pi} -\\frac{\\pi}{R} + 3 \\ln(1 + \\pi) + (1+\\epsilon) (1 - \\ln(1+\\pi))\n",
    "$$\n",
    "\n",
    "Taking first order conditions we get:\n",
    "\n",
    "$$\n",
    "1 + \\pi^*_r = (2-\\epsilon) R\n",
    "$$"
   ]
  },
  {
   "cell_type": "markdown",
   "metadata": {},
   "source": [
    "## The poor agent problem"
   ]
  },
  {
   "cell_type": "markdown",
   "metadata": {},
   "source": [
    "$$\n",
    "\\max_{\\pi} -\\pi + 3 \\ln(1 + \\pi) + (1 -\\epsilon) (1 - log(1+\\pi))\n",
    "$$\n",
    "\n",
    "Taking first order conditions we get:\n",
    "\n",
    "$$\n",
    "1 + \\pi^*_p = (2 + \\epsilon) = \\frac{2 + \\epsilon}{2 - \\epsilon} (2 - \\epsilon) < R (2 - \\epsilon) = 1 + \\pi^*_r\n",
    "$$\n",
    "\n",
    "Therefore we have that rich agents invest more in education than poor agents in this model."
   ]
  },
  {
   "cell_type": "markdown",
   "metadata": {},
   "source": [
    "## Introducing an education subsidy"
   ]
  },
  {
   "cell_type": "markdown",
   "metadata": {},
   "source": [
    "If types are observable, only the problem of the poor agent will change with the introduction of the education subsidy. The poor agent problem becomes:\n",
    "$$\n",
    "\\max_{\\pi} -\\frac{\\pi}{1+T} + (3 - T) \\ln(1 + \\pi) + (1 -\\epsilon) (1 - \\ln(1+\\pi))\n",
    "$$\n",
    "\n",
    "Taking first order conditions we get:\n",
    "\n",
    "$$\n",
    "1 + \\pi^*_p(T) = (2 - T + \\epsilon) (1 + T) = (2 + \\epsilon) + (1 + \\epsilon) T - T^2\n",
    "$$\n",
    "\n",
    "In this setup, effort is a concave function of the subsidy. Effort increases up to $ T^* = \\frac{1+\\epsilon}{2}$ where it reaches a maximum and starts decresing.\n",
    "Therefore maximum effort $ 1 + \\pi^*_p(T^*) = 2 + \\epsilon + \\frac{(1 + \\epsilon)^2}{4}$.\n",
    "\n",
    "For a planner minimizing the square difference $(\\pi^*_r - \\pi^*_p(T))^2$, if $\\pi^*_r > \\pi^*_p(T^*)$ it is optimal for the planner to set $T = T^*$"
   ]
  },
  {
   "cell_type": "markdown",
   "metadata": {},
   "source": [
    "## Adding private information"
   ]
  },
  {
   "cell_type": "markdown",
   "metadata": {},
   "source": [
    "Now the planner does not observe the type of each agent. An education subsidy scheme has to provide incentives for the rich agent not to participate in the educational subsidy. The planner problem under private information becomes:\n",
    "$$\\min_{T} (\\pi^*_r - \\pi^*_p(T))^2$$\n",
    "\n",
    "subject to:\n",
    "\n",
    "$$ -\\frac{\\pi_p(T)}{1+T} + (3 - T) \\ln(1 + \\pi_p(T)) + (1 -\\epsilon) (1 - \\ln(1+\\pi_p(T))) \\geq -\\pi_p(0) + 3 \\ln(1 + \\pi_p(0)) + (1 -\\epsilon) (1 - \\ln(1+\\pi_p(0)))$$\n",
    "\n",
    "$$ -\\frac{\\pi_r(T)}{R+T} + (3 - T) \\ln(1 + \\pi_r(T)) + (1 +\\epsilon) (1 - \\ln(1+\\pi_r(T))) \\leq -\\frac{\\pi_r(0)}{R} + 3 \\ln(1 + \\pi_r(0)) + (1 +\\epsilon) (1 - \\ln(1+\\pi_r(0)))$$\n",
    "\n",
    "where we already now $\\pi_p(0), \\pi_p(T), \\pi_r(0)$"
   ]
  },
  {
   "cell_type": "markdown",
   "metadata": {},
   "source": [
    "The rich problem conditional on participating to the education program is:\n",
    "$$\n",
    "\\max_{\\pi} -\\frac{\\pi}{1+T} + (3 - T) \\ln(1 + \\pi) + (1 +\\epsilon) (1 - \\ln(1+\\pi))\n",
    "$$\n",
    "\n",
    "Taking first order conditions we get:\n",
    "\n",
    "$$\n",
    "1 + \\pi^*_r(T) = (R + T) (2 - T - \\epsilon) = (2 - \\epsilon)R + (2 - R -\\epsilon) T - T^2\n",
    "$$\n"
   ]
  },
  {
   "cell_type": "markdown",
   "metadata": {},
   "source": [
    "We can rewrite the planner problem as:\n",
    "$$\\min_{T} (\\pi^*_r - \\pi^*_p(T))^2$$\n",
    "\n",
    "subject to:\n",
    "\n",
    "$$ -\\frac{(2 + \\epsilon) + (1 + \\epsilon) T - T^2 - 1}{1+T} + (3 - T) \\ln((2 + \\epsilon) + (1 + \\epsilon) T - T^2) + (1 -\\epsilon) (1 - \\ln((2 + \\epsilon) + (1 + \\epsilon) T - T^2)) \\geq -(1 + \\epsilon) + 3 \\ln(2 + \\epsilon) + (1 -\\epsilon) (1 - \\ln(2 + \\epsilon))$$\n",
    "\n",
    "$$ -\\frac{(2 - \\epsilon)R + (2 - R -\\epsilon) T - T^2 - 1 }{R+T} + (3 - T) \\ln((2 - \\epsilon)R + (2 - R -\\epsilon) T - T^2) + (1 +\\epsilon) (1 - \\ln((2 - \\epsilon)R + (2 - R -\\epsilon) T - T^2) \\leq -\\frac{(2-\\epsilon) R - 1}{R} + 3 \\ln((2-\\epsilon) R) + (1 +\\epsilon) (1 - \\ln((2-\\epsilon) R))$$\n",
    "\n"
   ]
  },
  {
   "cell_type": "code",
   "execution_count": 183,
   "metadata": {
    "scrolled": true
   },
   "outputs": [
    {
     "name": "stderr",
     "output_type": "stream",
     "text": [
      "<ipython-input-183-ab2fbe9fa436>:12: RuntimeWarning: invalid value encountered in log\n",
      "  RHS =  - (p_r(T))/(T+R) + np.log(p_r(T)) * (2 - ϵ - T)\n"
     ]
    },
    {
     "data": {
      "image/png": "[encoded data removed]",
      "text/plain": [
       "<Figure size 720x288 with 2 Axes>"
      ]
     },
     "metadata": {
      "needs_background": "light"
     },
     "output_type": "display_data"
    }
   ],
   "source": [
    "ϵ = 0.18\n",
    "R = 1.5\n",
    "T = np.linspace(0,2, 200)\n",
    "\n",
    "p_r = lambda T: (2-ϵ)*R + (2 - ϵ - R)*T - T**2\n",
    "p_p = lambda T: (2+ϵ) + (1 + ϵ)*T - T**2\n",
    "\n",
    "LHS_r = np.ones_like(T)*(-(2 - ϵ) + np.log((2-ϵ)*R)*(2-ϵ))\n",
    "RHS_p = np.ones_like(T)*(-(2 + ϵ) + np.log(2+ϵ)*(2+ϵ))\n",
    "\n",
    "def TT_r(T):\n",
    "    RHS =  - (p_r(T))/(T+R) + np.log(p_r(T)) * (2 - ϵ - T)\n",
    "    return RHS\n",
    "\n",
    "\n",
    "def TT_p(T):\n",
    "    LHS =  - p_p(T)/(T+1) + np.log(p_p(T))*(2 + ϵ - T)\n",
    "    return LHS\n",
    "\n",
    "\n",
    "\n",
    "_, (ax1, ax2) = plt.subplots(1, 2, figsize=(10, 4))\n",
    "ax1.set_title('Rich agent')\n",
    "ax2.set_title('Poor agent')\n",
    "\n",
    "ax1.plot(TT_r(T))\n",
    "ax1.plot(LHS_r)\n",
    "ax2.plot(TT_p(T))\n",
    "ax2.plot(RHS_p)\n",
    "ax1.set(xlabel=\"T\", ylabel=\"Truth telling constraint\")\n",
    "plt.tight_layout()\n"
   ]
  },
  {
   "cell_type": "code",
   "execution_count": 176,
   "metadata": {},
   "outputs": [
    {
     "data": {
      "text/plain": [
       "Text(0, 0.5, 'effort')"
      ]
     },
     "execution_count": 176,
     "metadata": {},
     "output_type": "execute_result"
    },
    {
     "data": {
      "image/png": "[encoded data removed]",
      "text/plain": [
       "<Figure size 432x288 with 1 Axes>"
      ]
     },
     "metadata": {
      "needs_background": "light"
     },
     "output_type": "display_data"
    }
   ],
   "source": [
    "plt.plot(p_p(T))\n",
    "plt.title(\"Optimal effort of the poor agent\")\n",
    "plt.xlabel(\"T\")\n",
    "plt.ylabel(\"effort\")"
   ]
  },
  {
   "cell_type": "markdown",
   "metadata": {},
   "source": [
    "# Insuring Preference Shocks"
   ]
  },
  {
   "cell_type": "markdown",
   "metadata": {},
   "source": [
    "The problem can be formulated as:\n",
    "$$\n",
    "P(w) = \\max_{c_1, c_2, w_1, w_2} \\frac{1}{2} (- c_1 + \\tilde{\\beta} P(w_1) - c_2 + \\tilde{\\beta} P(w_2)\n",
    "$$\n",
    "\n",
    "subject to:\n",
    "$$\n",
    "\\theta_1 \\ln(c_1) + \\beta_1 w_1 \\geq \\theta_1 \\ln(c_2) + \\beta_1 w_2\n",
    "$$\n",
    "\n",
    "$$\n",
    "\\theta_2 \\ln(c_2) + \\beta_2 w_2 \\geq \\theta_2 \\ln(c_1) + \\beta_2 w_1\n",
    "$$\n",
    "\n",
    "$$\n",
    "\\frac{1}{2} ( \\theta_1 \\ln(c_1) + \\beta_1 w_1 + \\theta_2 \\ln(c_2) + \\beta_2 w_2)  \\geq w\n",
    "$$\n",
    "\n",
    "Observe that the first two constraints that we can't have $c_1 > c_2$ and $w_1 > w_2$ or $c_1 < c_2$ and $w_1 < w_2$ simultaneously or one agent would have an incentive to lie.\n",
    "\n",
    "Now adding the two budget constraints we get: \n",
    "\n",
    "$$\n",
    "(\\theta_1 - \\theta_2) (\\ln(c_1) - \\ln(c_2)) \\geq (\\beta_1 - \\beta_2) (w_2 - w_1)\n",
    "$$\n",
    "\n",
    "If $w_2 < w_1$ and $c_1 < c_2$ the left hand side is negative while the right hand side is positive, contradicting the inequality. Therefore we have $w_1 < w_2$ and $c_2 < c_1$"
   ]
  },
  {
   "cell_type": "markdown",
   "metadata": {},
   "source": [
    "Taking first order conditions we have:\n",
    "$$\n",
    "-\\frac{1}{2} + \\mu_1 \\frac{\\theta_1}{c_1} - \\mu_2 \\frac{\\theta_2}{c_1} + \\frac{\\lambda}{2} \\frac{\\theta_1}{c_1} = 0\n",
    "$$\n",
    "\n",
    "$$\n",
    "-\\frac{1}{2} + \\mu_2 \\frac{\\theta_2}{c_2} - \\mu_1 \\frac{\\theta_1}{c_2} + \\frac{\\lambda}{2} \\frac{\\theta_2}{c_2} = 0\n",
    "$$\n",
    "\n",
    "$$\n",
    "\\frac{1}{2} \\tilde{\\beta}P^{'}(w_1) + \\mu_1 \\beta_1 - \\mu_2 \\beta_2 + \\beta_1 \\frac{\\lambda}{2}  = 0\n",
    "$$\n",
    "\n",
    "$$\n",
    "\\frac{1}{2} \\tilde{\\beta}P^{'}(w_2) + \\mu_2 \\beta_2 - \\mu_1 \\beta_1 + \\beta_2 \\frac{\\lambda}{2}  = 0\n",
    "$$\n",
    "\n",
    "and the envelope condition $P^{'}(w) = -\\lambda$.\n",
    "\n",
    "Summing the last two equations we get: \n",
    "\n",
    "$$\n",
    "\\frac{1}{2} \\tilde{\\beta}(P^{'}(w_1) + P^{'}(w_2)) + (\\beta_1 + \\beta_2) \\frac{\\lambda}{2}  = 0\n",
    "$$\n",
    "\n",
    "so that:\n",
    "$$\n",
    "P^{'}(w) = \\mathbb{E}\\left[P^{'}(w^{'})\\right]\n",
    "$$\n",
    "\n",
    "and therefore $P^{'}$ is a martingale and converges over time. To show that we have immiseration, we are going to show that utility promises spread out. "
   ]
  },
  {
   "cell_type": "markdown",
   "metadata": {},
   "source": [
    "Suppose it is not spread out so that $w_1 = w_2 = w$. By the truth telling constraints we obtain that $c_1 = c_2$ as well. \n",
    "Now looking at the other two optimization constraints and using that $c_1 = c_2$ we get:\n",
    "\n",
    "$$\n",
    "\\mu_1 \\theta_1 - \\mu_2 \\theta_2 + \\frac{\\lambda}{2} \\theta_1 = \\mu_2 \\theta_2 - \\mu_1 \\theta_1 + \\frac{\\lambda}{2} \\theta_2\n",
    "$$\n",
    "\n",
    "implying that \n",
    "$$\n",
    "\\theta_1 = \\theta_2\n",
    "$$\n",
    "which is a contradiction. \n",
    "\n",
    "Hence we have $w_1 \\leq w \\leq w_2$. Using the result from class we have that \n",
    "$ \\lim_{t \\to \\infty} P^{'}(w) = 0$ and $ \\lim_{t \\to \\infty} w = -\\infty$ as expected.\n"
   ]
  },
  {
   "cell_type": "markdown",
   "metadata": {},
   "source": [
    "# Computing Private Information Problems"
   ]
  },
  {
   "cell_type": "code",
   "execution_count": 249,
   "metadata": {},
   "outputs": [],
   "source": [
    "def makegrid(N):\n",
    "    a = np.array([0.2, 0.4])\n",
    "\n",
    "    q = np.array([1, 2])\n",
    "\n",
    "    c = np.linspace(.1, 2, N)\n",
    "    \n",
    "    return a, q, c\n",
    "\n",
    "a, q, c = makegrid(20)\n",
    "\n",
    "Π = np.array([[0.8, 0.2],\n",
    "            [0.2, 0.8]])   # First row for a = 0.2, first column for q = 1\n",
    "\n",
    "@numba.njit()\n",
    "def utility(c,a):\n",
    "    return (np.sqrt(c)) * (1 - a)\n",
    "\n"
   ]
  },
  {
   "cell_type": "markdown",
   "metadata": {},
   "source": [
    "## Write down constraints"
   ]
  },
  {
   "cell_type": "code",
   "execution_count": 253,
   "metadata": {
    "scrolled": true
   },
   "outputs": [],
   "source": [
    "w0 = np.array([1])\n",
    "np.set_printoptions(suppress=True)\n",
    "factor = np.kron(q,np.ones(len(c))) - np.kron(np.ones(len(q)),c)\n",
    "# print(factor.shape)\n",
    "factor = - np.kron(factor, np.ones(len(a)))\n",
    "\n",
    "# print(factor)"
   ]
  },
  {
   "cell_type": "code",
   "execution_count": 254,
   "metadata": {},
   "outputs": [],
   "source": [
    "#set up equality constraint (2)\n",
    "def bayes_constraint(a,q,c):\n",
    "    constraint = np.empty((len(a)*len(q), 80))    # 2*2 constraints here, multiplying a vector of size 2*2*20\n",
    "    index = 0\n",
    "    for ia, a_cur in enumerate(a):\n",
    "        for iq, q_cur in enumerate(q):\n",
    "            p  = Π[ia, iq]                                # The conditional probability\n",
    "            qc = np.kron(p,np.ones(len(c)*len(q)))       # Right hand side factor of the equality\n",
    "#             print(qc)\n",
    "            RHS = np.kron(qc, [(ia==0)*1, (ia==1)*1])   # Keep non-zero coefficients for abar only\n",
    "            LHS = np.kron(np.kron([(iq==0)*1,(iq==1)*1],np.ones(len(c))), [(ia==0)*1, (ia==1)*1])\n",
    "            constraint[index, :] = LHS - RHS\n",
    "            index += 1\n",
    "    \n",
    "    A_eq_2 = constraint[[1,3],:]\n",
    "    return A_eq_2\n",
    "\n",
    "# test2 = bayes_constraint(a,q,c)\n",
    "# print(test2)\n",
    "# print(test2 @ np.ones(80))"
   ]
  },
  {
   "cell_type": "code",
   "execution_count": 255,
   "metadata": {},
   "outputs": [],
   "source": [
    "#set up inequality constraint (1)\n",
    "def promise_keeping(c,a):\n",
    "    U = np.empty(len(c)*len(a))\n",
    "    index = 0\n",
    "    for ic, c_cur in enumerate(c):\n",
    "        for ia, a_cur in enumerate(a):\n",
    "            U[index] = utility(c_cur, a_cur)\n",
    "            index +=1\n",
    "    U = - np.kron(np.ones(len(q)), U)\n",
    "    return U\n",
    "\n",
    "U = promise_keeping(c,a)\n",
    "# print(U.shape)"
   ]
  },
  {
   "cell_type": "code",
   "execution_count": 256,
   "metadata": {},
   "outputs": [],
   "source": [
    "#set up inequality constraint (2)\n",
    "def incentive(c,a):\n",
    "    EU = np.empty(len(c)*len(a)*len(q))\n",
    "    U = np.empty(len(c)*len(a)*len(q))\n",
    "    index = 0\n",
    "    #compute expected utility\n",
    "    for iq, q_cur in enumerate(q):\n",
    "        for ic, c_cur in enumerate(c):\n",
    "            for ia, a_cur in enumerate(a):\n",
    "                EU[index] = utility(c_cur, a[1-ia])* (Π[1-ia,iq] / Π[ia,iq])\n",
    "                index += 1\n",
    "                \n",
    "    indexU = 0\n",
    "    for iq, q_cur in enumerate(q):\n",
    "        for ic, c_cur in enumerate(c):\n",
    "            for ia, a_cur in enumerate(a):\n",
    "                U[indexU] = utility(c_cur, a_cur)\n",
    "                indexU +=1\n",
    "                \n",
    "    matfactor = np.kron(np.kron(np.ones(len(q)),np.ones(len(c))), np.array([[1,0],[0,1]]))\n",
    "#     print(matfactor)\n",
    "#     print(\"EU\",np.multiply(matfactor,EU[np.newaxis, :]))\n",
    "#     print(\"U\",np.multiply(matfactor,U[np.newaxis, :]))\n",
    "    constraint = np.multiply(matfactor,EU[np.newaxis, :]) - np.multiply(matfactor,U[np.newaxis, :])\n",
    "    \n",
    "    return constraint\n",
    "\n",
    "\n",
    "# test1 = incentive(c,a)\n",
    "# print(test1 @ np.ones(80))"
   ]
  },
  {
   "cell_type": "code",
   "execution_count": 270,
   "metadata": {},
   "outputs": [
    {
     "name": "stdout",
     "output_type": "stream",
     "text": [
      "(3, 80)\n",
      "(3,)\n",
      "(3, 80)\n",
      "(3,)\n",
      "[-0.  0.  0.]\n"
     ]
    }
   ],
   "source": [
    "\n",
    "def set_constraints(w0, a, c, q, info=False):\n",
    "    # Maximization over sum Pi q - c = minimization over sum Pi c - q\n",
    "    factor = np.kron(q,np.ones(len(c))) - np.kron(np.ones(len(q)),c)\n",
    "    factor = - np.kron(factor, np.ones(len(a)))\n",
    "\n",
    "    # equality constraint 1: Probability distribution constraint, sum over all possible states\n",
    "    A_eq_1 = np.ones(len(factor))\n",
    "\n",
    "\n",
    "    #equality constraint 2: Bayes Rule\n",
    "    A_eq_2 = bayes_constraint(a,q,c)\n",
    "\n",
    "    beq = np.concatenate((np.array([1]), np.zeros(len(q)*len(a) - 2)))\n",
    "    \n",
    "    \n",
    "    #inequality constraint 1: Promise keeping constraint\n",
    "    A_ub_1 = promise_keeping(c,a)   # Loop over a first, then c, then duplicate for each q\n",
    "    \n",
    "    if info == False:\n",
    "        #inequality constraint 2: promise keeping constraint\n",
    "        A_ub_2 = incentive(c,a)\n",
    "\n",
    "\n",
    "    if info == True:\n",
    "        A_ub_2 = np.zeros((len(a)*(len(a)-1),len(factor)))    # No incentive compatibility constraint under full info\n",
    "    \n",
    "    \n",
    "    bub = np.concatenate(( np.array([- w0]), np.zeros(len(a)*(len(a)-1))))\n",
    "\n",
    "    \n",
    "    Aeq = np.concatenate((A_eq_1[np.newaxis, :], A_eq_2))\n",
    "    Aub = np.concatenate((A_ub_1[np.newaxis, :],A_ub_2))\n",
    "                   \n",
    "    return factor, Aub, bub, Aeq, beq\n",
    "\n",
    "\n",
    "factor, Aub, bub, Aeq, beq = set_constraints(w0[0], a, c, q)\n",
    "print(Aeq.shape)\n",
    "print(beq.shape)\n",
    "print(Aub.shape)\n",
    "print(bub.shape)\n",
    "print(bub)"
   ]
  },
  {
   "cell_type": "code",
   "execution_count": 271,
   "metadata": {},
   "outputs": [],
   "source": [
    "def linear_solve(w0, info=False):\n",
    "    a, q, c = makegrid(len(w0))\n",
    "    sol = np.empty((len(w0),80))\n",
    "    res = np.empty(len(w0), dtype='object')\n",
    "    \n",
    "    for iw, w_cur in enumerate(w0):\n",
    "        factor, Aub, bub, Aeq, beq = set_constraints(w_cur, a, c, q, info)\n",
    "        res[iw] = linprog(c=factor, A_ub=Aub, b_ub=bub, A_eq = Aeq, b_eq=beq, method=\"revised simplex\")\n",
    "        sol[iw,:] = res[iw].x   #w,q,c,q\n",
    "#         print(\"Equality constraint\",res.con)\n",
    "#         print(\"Inequality constraint\", res.slack)\n",
    "#         print(\"Success?\", res.success)\n",
    "    return sol.reshape(20,2,20,2), res   #w,q,c,q\n",
    "    \n"
   ]
  },
  {
   "cell_type": "code",
   "execution_count": 272,
   "metadata": {
    "scrolled": true
   },
   "outputs": [],
   "source": [
    "w0 = np.linspace(0, 1.1, 20)\n",
    "\n",
    "π, result  = linear_solve(w0)\n",
    "\n"
   ]
  },
  {
   "cell_type": "code",
   "execution_count": 268,
   "metadata": {},
   "outputs": [
    {
     "data": {
      "image/png": "[encoded data removed]",
      "text/plain": [
       "<Figure size 432x288 with 1 Axes>"
      ]
     },
     "metadata": {
      "needs_background": "light"
     },
     "output_type": "display_data"
    }
   ],
   "source": [
    "slacks = np.empty((3,len(w0)))\n",
    "for iw in range(len(w0)):\n",
    "    slacks[:, iw] = result[iw].slack\n",
    "\n",
    "\n",
    "fig, ax = plt.subplots()\n",
    "ax.plot(w0, slacks.T)\n",
    "ax.set_title('Private information - Slackness', fontsize=14)\n",
    "ax.set_xlabel('Outside option ($w_0$)', fontsize=14)\n",
    "ax.set_ylabel('Slackness', fontsize=14)\n",
    "ax.legend(labels=['Promise keeping', 'Incentive Comp. Low a', 'Incentive Comp. High a'])\n",
    "plt.show()"
   ]
  },
  {
   "cell_type": "markdown",
   "metadata": {},
   "source": [
    "The promise keeping constraint is not binding for low values of $w_0$. The incentive compatibility constraint for high effort is always binding since high effort lowers utility everything else equal. The incentive compatibility constraint for low effort types is binding only when the outside option is poor. This suggests that in the low effort state with poor outside option, the agent would be willing to put more effort. "
   ]
  },
  {
   "cell_type": "code",
   "execution_count": 323,
   "metadata": {},
   "outputs": [
    {
     "name": "stdout",
     "output_type": "stream",
     "text": [
      "[0.         0.         0.         0.         0.         0.\n",
      " 0.         0.         0.         0.         0.         0.\n",
      " 0.         0.         0.         0.         0.         0.09261416\n",
      " 0.10738584 0.        ]\n"
     ]
    }
   ],
   "source": [
    "π_ = π*(π > 0.00001)   # Disregard grid error\n",
    "print(nonzero[19,1,:,0])            #Example of randomization for a = 0.2 and q = 2\n"
   ]
  },
  {
   "cell_type": "code",
   "execution_count": 324,
   "metadata": {
    "scrolled": true
   },
   "outputs": [
    {
     "name": "stdout",
     "output_type": "stream",
     "text": [
      "[[[0 1]\n",
      "  [0 2]]\n",
      "\n",
      " [[0 1]\n",
      "  [0 2]]\n",
      "\n",
      " [[0 1]\n",
      "  [0 2]]\n",
      "\n",
      " [[0 1]\n",
      "  [0 2]]\n",
      "\n",
      " [[0 1]\n",
      "  [0 2]]\n",
      "\n",
      " [[0 2]\n",
      "  [0 2]]\n",
      "\n",
      " [[0 2]\n",
      "  [0 2]]\n",
      "\n",
      " [[0 2]\n",
      "  [0 2]]\n",
      "\n",
      " [[0 2]\n",
      "  [0 2]]\n",
      "\n",
      " [[1 2]\n",
      "  [1 1]]\n",
      "\n",
      " [[1 2]\n",
      "  [1 1]]\n",
      "\n",
      " [[1 2]\n",
      "  [1 1]]\n",
      "\n",
      " [[1 2]\n",
      "  [1 1]]\n",
      "\n",
      " [[1 2]\n",
      "  [1 1]]\n",
      "\n",
      " [[1 2]\n",
      "  [1 1]]\n",
      "\n",
      " [[1 2]\n",
      "  [1 1]]\n",
      "\n",
      " [[2 0]\n",
      "  [1 0]]\n",
      "\n",
      " [[2 0]\n",
      "  [1 0]]\n",
      "\n",
      " [[1 0]\n",
      "  [2 0]]\n",
      "\n",
      " [[1 0]\n",
      "  [2 0]]]\n"
     ]
    }
   ],
   "source": [
    "randomized =np.count_nonzero(π_, axis=2)\n",
    "print(randomized)"
   ]
  },
  {
   "cell_type": "markdown",
   "metadata": {},
   "source": [
    "We can see that consumption is randomized in a few cases where the vector of probabilities given a, q and w0 is non-zero for more than one cell. But this happens for contiguous consumption levels on the grid, suggesting that it is an artefact due to the finite grid. The true pure strategy would in fact be in between these two consumption grid points. In some sense it can be interpreted as an interpolation estimate."
   ]
  },
  {
   "cell_type": "code",
   "execution_count": 325,
   "metadata": {
    "scrolled": true
   },
   "outputs": [
    {
     "data": {
      "image/png": "[encoded data removed]",
      "text/plain": [
       "<Figure size 432x288 with 1 Axes>"
      ]
     },
     "metadata": {
      "needs_background": "light"
     },
     "output_type": "display_data"
    }
   ],
   "source": [
    "fig, ax = plt.subplots()\n",
    "\n",
    "vecpi = π.reshape(20, 80)\n",
    "veca = np.kron(np.ones(2 * 20), a)\n",
    "\n",
    "effs = vecpi @ veca\n",
    "\n",
    "hlinelow = a[0] * np.ones_like(w0)\n",
    "hlinehigh = a[1] * np.ones_like(w0)\n",
    "\n",
    "ax.plot(w0, effs, lw=2)\n",
    "ax.plot(w0, np.array([hlinelow, hlinehigh]).T, 'k--', lw=1)\n",
    "ax.set_title('Private Information - Average effort', fontsize=14)\n",
    "ax.set_xlabel('Outside option ($w_0$)', fontsize=14)\n",
    "ax.set_ylabel('Effort ($a$)', fontsize=14)\n",
    "plt.show()"
   ]
  },
  {
   "cell_type": "markdown",
   "metadata": {},
   "source": [
    "## Full information case"
   ]
  },
  {
   "cell_type": "code",
   "execution_count": 273,
   "metadata": {},
   "outputs": [],
   "source": [
    "π_full, result_full  = linear_solve(w0, info=True)"
   ]
  },
  {
   "cell_type": "code",
   "execution_count": 276,
   "metadata": {
    "scrolled": true
   },
   "outputs": [
    {
     "data": {
      "image/png": "[encoded data removed]",
      "text/plain": [
       "<Figure size 432x288 with 1 Axes>"
      ]
     },
     "metadata": {
      "needs_background": "light"
     },
     "output_type": "display_data"
    }
   ],
   "source": [
    "slack_full = np.empty((3,len(w0)))\n",
    "for iw in range(len(w0)):\n",
    "    slack_full[:, iw] = result[iw].slack\n",
    "\n",
    "\n",
    "fig, ax = plt.subplots()\n",
    "ax.plot(w0, slack_full[0,:], label=\"Promise keeping\")\n",
    "ax.set_title('Full information - Promise keeping condition', fontsize=14)\n",
    "ax.set_xlabel('Outside option ($w_0$)', fontsize=14)\n",
    "ax.set_ylabel('Slackness', fontsize=14)\n",
    "# ax.legend(labels='Promise keeping')\n",
    "plt.show()"
   ]
  },
  {
   "cell_type": "markdown",
   "metadata": {},
   "source": [
    "As the outside option becomes more attractive, the participation constraint becomes binding for the full information planner as well. It starts binding at the same stage as before."
   ]
  },
  {
   "cell_type": "code",
   "execution_count": 311,
   "metadata": {
    "scrolled": true
   },
   "outputs": [
    {
     "name": "stdout",
     "output_type": "stream",
     "text": [
      "[0.         0.         0.         0.         0.         0.\n",
      " 0.         0.         0.         0.         0.         0.\n",
      " 0.         0.         0.         0.         0.         0.09261416\n",
      " 0.10738584 0.        ]\n"
     ]
    }
   ],
   "source": [
    "πzero = π_full*(π_full > 0.00001)   # Disregard grid error\n",
    "print(nonzero[19,1,:,0])            #Example of randomization for a = 0.2 and q = 2\n"
   ]
  },
  {
   "cell_type": "code",
   "execution_count": 312,
   "metadata": {},
   "outputs": [
    {
     "name": "stdout",
     "output_type": "stream",
     "text": [
      "[[[0 1]\n",
      "  [0 1]]\n",
      "\n",
      " [[0 1]\n",
      "  [0 1]]\n",
      "\n",
      " [[0 1]\n",
      "  [0 1]]\n",
      "\n",
      " [[0 1]\n",
      "  [0 1]]\n",
      "\n",
      " [[0 1]\n",
      "  [0 2]]\n",
      "\n",
      " [[0 1]\n",
      "  [0 2]]\n",
      "\n",
      " [[0 1]\n",
      "  [0 2]]\n",
      "\n",
      " [[0 1]\n",
      "  [0 2]]\n",
      "\n",
      " [[0 1]\n",
      "  [0 2]]\n",
      "\n",
      " [[0 1]\n",
      "  [0 2]]\n",
      "\n",
      " [[1 1]\n",
      "  [1 1]]\n",
      "\n",
      " [[1 1]\n",
      "  [1 1]]\n",
      "\n",
      " [[1 1]\n",
      "  [1 1]]\n",
      "\n",
      " [[1 1]\n",
      "  [1 1]]\n",
      "\n",
      " [[1 1]\n",
      "  [1 1]]\n",
      "\n",
      " [[1 1]\n",
      "  [1 1]]\n",
      "\n",
      " [[1 1]\n",
      "  [1 1]]\n",
      "\n",
      " [[1 0]\n",
      "  [2 0]]\n",
      "\n",
      " [[1 0]\n",
      "  [2 0]]\n",
      "\n",
      " [[1 0]\n",
      "  [2 0]]]\n"
     ]
    }
   ],
   "source": [
    "test =np.count_nonzero(πzero, axis=2)\n",
    "print(test)"
   ]
  },
  {
   "cell_type": "markdown",
   "metadata": {},
   "source": [
    "We can see that consumption is randomized in a few cases where the vector of probabilities given a, q and w0 is non-zero for more than one cell. But this happens for contiguous consumption levels on the grid, suggesting that it is an artefact due to the finite grid. The true pure strategy would in fact be in between these two consumption grid points. In some sense it can be interpreted as an interpolation estimate."
   ]
  },
  {
   "cell_type": "markdown",
   "metadata": {},
   "source": [
    "## Comparing full information and private information"
   ]
  },
  {
   "cell_type": "code",
   "execution_count": 314,
   "metadata": {},
   "outputs": [],
   "source": [
    "vecpi_full = π_full.reshape(20, 80)\n",
    "veca_full = np.kron(np.ones(2 * 20), a)\n",
    "\n",
    "effs_full = vecpi_full @ veca_full"
   ]
  },
  {
   "cell_type": "code",
   "execution_count": 318,
   "metadata": {
    "scrolled": false
   },
   "outputs": [
    {
     "data": {
      "image/png": "[encoded data removed]",
      "text/plain": [
       "<Figure size 432x288 with 1 Axes>"
      ]
     },
     "metadata": {
      "needs_background": "light"
     },
     "output_type": "display_data"
    }
   ],
   "source": [
    "plt.plot(w0, effs, lw=2, label=\"Private\")\n",
    "plt.plot(w0, effs_full, lw=2, label=\"Full\")\n",
    "plt.plot(w0, np.array([hlinelow, hlinehigh]).T, 'k--', lw=1)\n",
    "plt.title('Private Information - Average effort', fontsize=14)\n",
    "plt.xlabel('Outside option ($w_0$)', fontsize=14)\n",
    "plt.ylabel('Effort ($a$)', fontsize=14)\n",
    "plt.legend(loc='best')\n",
    "plt.show()"
   ]
  },
  {
   "cell_type": "markdown",
   "metadata": {},
   "source": [
    "Average effort is weakly superior given outside option in the full information setting."
   ]
  },
  {
   "cell_type": "code",
   "execution_count": 320,
   "metadata": {},
   "outputs": [],
   "source": [
    "vecc = np.kron(np.kron(np.ones(len(q)),c), np.ones(len(a)))\n",
    "cons_full = vecpi_full @ vecc\n",
    "\n",
    "cons = vecpi @ vecc"
   ]
  },
  {
   "cell_type": "code",
   "execution_count": 322,
   "metadata": {},
   "outputs": [
    {
     "data": {
      "image/png": "[encoded data removed]",
      "text/plain": [
       "<Figure size 432x288 with 1 Axes>"
      ]
     },
     "metadata": {
      "needs_background": "light"
     },
     "output_type": "display_data"
    }
   ],
   "source": [
    "plt.plot(w0, cons, lw=2, label=\"Private\")\n",
    "plt.plot(w0, cons_full, lw=2, label=\"Full\")\n",
    "plt.title('Private Information - Average consumption', fontsize=14)\n",
    "plt.xlabel('Outside option ($w_0$)', fontsize=14)\n",
    "plt.ylabel('Consumption ($c$)', fontsize=14)\n",
    "plt.legend(loc='best')\n",
    "plt.show()"
   ]
  },
  {
   "cell_type": "markdown",
   "metadata": {},
   "source": [
    "The planner can lower consumption in some states of the world under full information to an extent that would not be possible under incentive compatibility constraint. "
   ]
  },
  {
   "cell_type": "code",
   "execution_count": null,
   "metadata": {},
   "outputs": [],
   "source": []
  }
 ],
 "metadata": {
  "kernelspec": {
   "display_name": "Python 3",
   "language": "python",
   "name": "python3"
  },
  "language_info": {
   "codemirror_mode": {
    "name": "ipython",
    "version": 3
   },
   "file_extension": ".py",
   "mimetype": "text/x-python",
   "name": "python",
   "nbconvert_exporter": "python",
   "pygments_lexer": "ipython3",
   "version": "3.8.2"
  }
 },
 "nbformat": 4,
 "nbformat_minor": 4
}
