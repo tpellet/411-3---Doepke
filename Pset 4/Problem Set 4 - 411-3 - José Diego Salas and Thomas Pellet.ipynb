{
 "cells": [
  {
   "cell_type": "code",
   "execution_count": 75,
   "metadata": {
    "scrolled": true
   },
   "outputs": [],
   "source": [
    "import numpy as np\n",
    "from scipy.optimize import linprog\n",
    "import matplotlib.pyplot as plt\n",
    "import numba"
   ]
  },
  {
   "cell_type": "markdown",
   "metadata": {},
   "source": [
    "# Education Subsidies with Private Information"
   ]
  },
  {
   "cell_type": "markdown",
   "metadata": {},
   "source": [
    "## The rich agent problem"
   ]
  },
  {
   "cell_type": "markdown",
   "metadata": {},
   "source": [
    "$$\n",
    "\\max_{\\pi} -\\frac{\\pi}{R} + 3 \\ln(1 + \\pi) + (1+\\epsilon) (1 - \\ln(1+\\pi))\n",
    "$$\n",
    "\n",
    "Taking first order conditions we get:\n",
    "\n",
    "$$\n",
    "1 + \\pi^*_r = (2-\\epsilon) R\n",
    "$$"
   ]
  },
  {
   "cell_type": "markdown",
   "metadata": {},
   "source": [
    "## The poor agent problem"
   ]
  },
  {
   "cell_type": "markdown",
   "metadata": {},
   "source": [
    "$$\n",
    "\\max_{\\pi} -\\pi + 3 \\ln(1 + \\pi) + (1 -\\epsilon) (1 - log(1+\\pi))\n",
    "$$\n",
    "\n",
    "Taking first order conditions we get:\n",
    "\n",
    "$$\n",
    "1 + \\pi^*_p = (2 + \\epsilon) = \\frac{2 + \\epsilon}{2 - \\epsilon} (2 - \\epsilon) < R (2 - \\epsilon) = 1 + \\pi^*_r\n",
    "$$\n",
    "\n",
    "Therefore we have that rich agents invest more in education than poor agents in this model."
   ]
  },
  {
   "cell_type": "markdown",
   "metadata": {},
   "source": [
    "## Introducing an education subsidy"
   ]
  },
  {
   "cell_type": "markdown",
   "metadata": {},
   "source": [
    "If types are observable, only the problem of the poor agent will change with the introduction of the education subsidy. The poor agent problem becomes:\n",
    "$$\n",
    "\\max_{\\pi} -\\frac{\\pi}{1+T} + (3 - T) \\ln(1 + \\pi) + (1 -\\epsilon) (1 - \\ln(1+\\pi))\n",
    "$$\n",
    "\n",
    "Taking first order conditions we get:\n",
    "\n",
    "$$\n",
    "1 + \\pi^*_p(T) = (2 - T + \\epsilon) (1 + T) = (2 + \\epsilon) + (1 + \\epsilon) T - T^2\n",
    "$$\n",
    "\n",
    "In this setup, effort is a concave function of the subsidy. Effort increases up to $ T^* = \\frac{1+\\epsilon}{2}$ where it reaches a maximum and starts decresing.\n",
    "Therefore maximum effort $ 1 + \\pi^*_p(T^*) = 2 + \\epsilon + \\frac{(1 + \\epsilon)^2}{4}$.\n",
    "\n",
    "For a planner minimizing the square difference $(\\pi^*_r - \\pi^*_p(T))^2$, if $\\pi^*_r > \\pi^*_p(T^*)$ it is optimal for the planner to set $T = T^*$"
   ]
  },
  {
   "cell_type": "markdown",
   "metadata": {},
   "source": [
    "## Adding private information"
   ]
  },
  {
   "cell_type": "markdown",
   "metadata": {},
   "source": [
    "Now the planner does not observe the type of each agent. An education subsidy scheme has to provide incentives for the rich agent not to participate in the educational subsidy. The planner problem under private information becomes:\n",
    "$$\\min_{T} (\\pi^*_r - \\pi^*_p(T))^2$$\n",
    "\n",
    "subject to:\n",
    "\n",
    "$$ -\\frac{\\pi_p(T)}{1+T} + (3 - T) \\ln(1 + \\pi_p(T)) + (1 -\\epsilon) (1 - \\ln(1+\\pi_p(T))) \\geq -\\pi_p(0) + 3 \\ln(1 + \\pi_p(0)) + (1 -\\epsilon) (1 - \\ln(1+\\pi_p(0)))$$\n",
    "\n",
    "$$ -\\frac{\\pi_r(T)}{R+T} + (3 - T) \\ln(1 + \\pi_r(T)) + (1 +\\epsilon) (1 - \\ln(1+\\pi_r(T))) \\leq -\\frac{\\pi_r(0)}{R} + 3 \\ln(1 + \\pi_r(0)) + (1 +\\epsilon) (1 - \\ln(1+\\pi_r(0)))$$\n",
    "\n",
    "where we already now $\\pi_p(0), \\pi_p(T), \\pi_r(0)$"
   ]
  },
  {
   "cell_type": "markdown",
   "metadata": {},
   "source": [
    "The rich problem conditional on participating to the education program is:\n",
    "$$\n",
    "\\max_{\\pi} -\\frac{\\pi}{1+T} + (3 - T) \\ln(1 + \\pi) + (1 +\\epsilon) (1 - \\ln(1+\\pi))\n",
    "$$\n",
    "\n",
    "Taking first order conditions we get:\n",
    "\n",
    "$$\n",
    "1 + \\pi^*_r(T) = (R + T) (2 - T - \\epsilon) = (2 - \\epsilon)R + (2 - R -\\epsilon) T - T^2\n",
    "$$\n"
   ]
  },
  {
   "cell_type": "markdown",
   "metadata": {},
   "source": [
    "We can rewrite the planner problem as:\n",
    "$$\\min_{T} (\\pi^*_r - \\pi^*_p(T))^2$$\n",
    "\n",
    "subject to:\n",
    "\n",
    "$$ -\\frac{(2 + \\epsilon) + (1 + \\epsilon) T - T^2 - 1}{1+T} + (3 - T) \\ln((2 + \\epsilon) + (1 + \\epsilon) T - T^2) + (1 -\\epsilon) (1 - \\ln((2 + \\epsilon) + (1 + \\epsilon) T - T^2)) \\geq -(1 + \\epsilon) + 3 \\ln(2 + \\epsilon) + (1 -\\epsilon) (1 - \\ln(2 + \\epsilon))$$\n",
    "\n",
    "$$ -\\frac{(2 - \\epsilon)R + (2 - R -\\epsilon) T - T^2 - 1 }{R+T} + (3 - T) \\ln((2 - \\epsilon)R + (2 - R -\\epsilon) T - T^2) + (1 +\\epsilon) (1 - \\ln((2 - \\epsilon)R + (2 - R -\\epsilon) T - T^2) \\leq -\\frac{(2-\\epsilon) R - 1}{R} + 3 \\ln((2-\\epsilon) R) + (1 +\\epsilon) (1 - \\ln((2-\\epsilon) R))$$\n",
    "\n"
   ]
  },
  {
   "cell_type": "markdown",
   "metadata": {},
   "source": [
    "# Insuring Preference Shocks"
   ]
  },
  {
   "cell_type": "markdown",
   "metadata": {},
   "source": [
    "The problem can be formulated as:\n",
    "$$\n",
    "P(w) = \\max_{c_1, c_2, w_1, w_2} \\frac{1}{2} (- c_1 + \\tilde{\\beta} P(w_1) - c_2 + \\tilde{\\beta} P(w_2)\n",
    "$$\n",
    "\n",
    "subject to:\n",
    "$$\n",
    "\\theta_1 \\ln(c_1) + \\beta_1 w_1 \\geq \\theta_1 \\ln(c_2) + \\beta_1 w_2\n",
    "$$\n",
    "\n",
    "$$\n",
    "\\theta_2 \\ln(c_2) + \\beta_2 w_2 \\geq \\theta_2 \\ln(c_1) + \\beta_2 w_1\n",
    "$$\n",
    "\n",
    "$$\n",
    "\\frac{1}{2} ( \\theta_1 \\ln(c_1) + \\beta_1 w_1 + \\theta_2 \\ln(c_2) + \\beta_2 w_2)  \\geq w\n",
    "$$\n",
    "\n",
    "Observe that the first two constraints that we can't have $c_1 > c_2$ and $w_1 > w_2$ or $c_1 < c_2$ and $w_1 < w_2$ simultaneously or one agent would have an incentive to lie.\n",
    "\n",
    "Now adding the two budget constraints we get: \n",
    "\n",
    "$$\n",
    "(\\theta_1 - \\theta_2) (\\ln(c_1) - \\ln(c_2)) \\geq (\\beta_1 - \\beta_2) (w_2 - w_1)\n",
    "$$\n",
    "\n",
    "If $w_2 < w_1$ and $c_1 < c_2$ the left hand side is negative while the right hand side is positive, contradicting the inequality. Therefore we have $w_1 < w_2$ and $c_2 < c_1$"
   ]
  },
  {
   "cell_type": "markdown",
   "metadata": {},
   "source": [
    "Taking first order conditions we have:\n",
    "$$\n",
    "-\\frac{1}{2} + \\mu_1 \\frac{\\theta_1}{c_1} - \\mu_2 \\frac{\\theta_2}{c_1} + \\frac{\\lambda}{2} \\frac{\\theta_1}{c_1} = 0\n",
    "$$\n",
    "\n",
    "$$\n",
    "-\\frac{1}{2} + \\mu_2 \\frac{\\theta_2}{c_2} - \\mu_1 \\frac{\\theta_1}{c_2} + \\frac{\\lambda}{2} \\frac{\\theta_2}{c_2} = 0\n",
    "$$\n",
    "\n",
    "$$\n",
    "\\frac{1}{2} \\tilde{\\beta}P^{'}(w_1) + \\mu_1 \\beta_1 - \\mu_2 \\beta_2 + \\beta_1 \\frac{\\lambda}{2}  = 0\n",
    "$$\n",
    "\n",
    "$$\n",
    "\\frac{1}{2} \\tilde{\\beta}P^{'}(w_2) + \\mu_2 \\beta_2 - \\mu_1 \\beta_1 + \\beta_2 \\frac{\\lambda}{2}  = 0\n",
    "$$\n",
    "\n",
    "and the envelope condition $P^{'}(w) = -\\lambda$.\n",
    "\n",
    "Summing the last two equations we get: \n",
    "\n",
    "$$\n",
    "\\frac{1}{2} \\tilde{\\beta}(P^{'}(w_1) + P^{'}(w_2)) + (\\beta_1 + \\beta_2) \\frac{\\lambda}{2}  = 0\n",
    "$$\n",
    "\n",
    "so that:\n",
    "$$\n",
    "P^{'}(w) = \\mathbb{E}\\left[P^{'}(w^{'})\\right]\n",
    "$$\n",
    "\n",
    "and therefore $P^{'}$ is a martingale and converges over time. To show that we have immiseration, we are going to show that utility promises spread out. "
   ]
  },
  {
   "cell_type": "markdown",
   "metadata": {},
   "source": [
    "Suppose it is not spread out so that $w_1 = w_2 = w$. By the truth telling constraints we obtain that $c_1 = c_2$ as well. \n",
    "Now looking at the other two optimization constraints and using that $c_1 = c_2$ we get:\n",
    "\n",
    "$$\n",
    "\\mu_1 \\theta_1 - \\mu_2 \\theta_2 + \\frac{\\lambda}{2} \\theta_1 = \\mu_2 \\theta_2 - \\mu_1 \\theta_1 + \\frac{\\lambda}{2} \\theta_2\n",
    "$$\n",
    "\n",
    "implying that \n",
    "$$\n",
    "\\theta_1 = \\theta_2\n",
    "$$\n",
    "which is a contradiction. \n",
    "\n",
    "Hence we have $w_1 \\leq w \\leq w_2$. Using the result from class we have that \n",
    "$ \\lim_{t \\to \\infty} P^{'}(w) = 0$ and $ \\lim_{t \\to \\infty} w = -\\infty$ as expected.\n"
   ]
  },
  {
   "cell_type": "markdown",
   "metadata": {},
   "source": [
    "# Computing Private Information Problems"
   ]
  },
  {
   "cell_type": "code",
   "execution_count": 128,
   "metadata": {},
   "outputs": [],
   "source": [
    "def makegrid(N):\n",
    "    a = np.array([0.2, 0.4])\n",
    "\n",
    "    q = np.array([1, 2])\n",
    "\n",
    "    c = np.linspace(.1, 2, N)\n",
    "    \n",
    "    return a, q, c\n",
    "\n",
    "a, q, c = makegrid(20)\n",
    "\n",
    "Π = np.array([[0.8, 0.2],\n",
    "            [0.2, 0.9]])   # First row for a = 0.2, first column for q = 1\n",
    "\n",
    "@numba.njit()\n",
    "def utility(c,a):\n",
    "    return (np.sqrt(c)) * (1 - a)\n",
    "\n"
   ]
  },
  {
   "cell_type": "markdown",
   "metadata": {},
   "source": [
    "## Write down constraints"
   ]
  },
  {
   "cell_type": "code",
   "execution_count": 129,
   "metadata": {
    "scrolled": true
   },
   "outputs": [
    {
     "name": "stdout",
     "output_type": "stream",
     "text": [
      "(40,)\n",
      "[-0.9 -0.9 -0.8 -0.8 -0.7 -0.7 -0.6 -0.6 -0.5 -0.5 -0.4 -0.4 -0.3 -0.3\n",
      " -0.2 -0.2 -0.1 -0.1 -0.  -0.   0.1  0.1  0.2  0.2  0.3  0.3  0.4  0.4\n",
      "  0.5  0.5  0.6  0.6  0.7  0.7  0.8  0.8  0.9  0.9  1.   1.  -1.9 -1.9\n",
      " -1.8 -1.8 -1.7 -1.7 -1.6 -1.6 -1.5 -1.5 -1.4 -1.4 -1.3 -1.3 -1.2 -1.2\n",
      " -1.1 -1.1 -1.  -1.  -0.9 -0.9 -0.8 -0.8 -0.7 -0.7 -0.6 -0.6 -0.5 -0.5\n",
      " -0.4 -0.4 -0.3 -0.3 -0.2 -0.2 -0.1 -0.1 -0.  -0. ]\n"
     ]
    }
   ],
   "source": [
    "w0 = np.array([1])\n",
    "np.set_printoptions(suppress=True)\n",
    "factor = np.kron(q,np.ones(len(c))) - np.kron(np.ones(len(q)),c)\n",
    "print(factor.shape)\n",
    "factor = - np.kron(factor, np.ones(len(a)))\n",
    "\n",
    "print(factor)"
   ]
  },
  {
   "cell_type": "code",
   "execution_count": 130,
   "metadata": {},
   "outputs": [
    {
     "name": "stdout",
     "output_type": "stream",
     "text": [
      "[ 12. -16.]\n"
     ]
    }
   ],
   "source": [
    "#set up equality constraint (2)\n",
    "def bayes_constraint(a,q,c):\n",
    "    constraint = np.empty((len(a)*len(q), 80))    # 2*2 constraints here, multiplying a vector of size 2*2*20\n",
    "    index = 0\n",
    "    for ia, a_cur in enumerate(a):\n",
    "        for iq, q_cur in enumerate(q):\n",
    "            p  = Π[ia, iq]                                # The conditional probability\n",
    "            qc = np.kron(p,np.ones(len(c)*len(q)))        # Right hand side factor of the equality\n",
    "            RHS = + np.kron(qc, [(ia==0)*1, (ia==1)*1])   # Keep non-zero coefficients for abar only\n",
    "            LHS = np.kron(np.kron([(iq==0)*1,(iq==1)*1],np.ones(len(c))), [(ia==0)*1, (ia==1)*1])\n",
    "            constraint[index, :] = LHS - RHS\n",
    "            index += 1\n",
    "    \n",
    "    A_eq_2 = constraint[[1,3],:]\n",
    "    return A_eq_2\n",
    "\n",
    "test2 = bayes_constraint(a,q,c)\n",
    "print(test2 @ np.ones(80))"
   ]
  },
  {
   "cell_type": "code",
   "execution_count": 131,
   "metadata": {},
   "outputs": [
    {
     "name": "stdout",
     "output_type": "stream",
     "text": [
      "(80,)\n"
     ]
    }
   ],
   "source": [
    "#set up inequality constraint (1)\n",
    "def promise_keeping(c,a):\n",
    "    U = np.empty(len(c)*len(a))\n",
    "    index = 0\n",
    "    for ic, c_cur in enumerate(c):\n",
    "        for ia, a_cur in enumerate(a):\n",
    "            U[index] = utility(c_cur, a_cur)\n",
    "            index +=1\n",
    "    U = - np.kron(np.ones(len(q)), U)\n",
    "    return U\n",
    "\n",
    "U = promise_keeping(c,a)\n",
    "print(U.shape)"
   ]
  },
  {
   "cell_type": "code",
   "execution_count": 132,
   "metadata": {},
   "outputs": [
    {
     "name": "stdout",
     "output_type": "stream",
     "text": [
      "[24.375618   42.46774337]\n"
     ]
    }
   ],
   "source": [
    "#set up inequality constraint (2)\n",
    "def incentive(c,a):\n",
    "    EU = np.empty(len(c)*len(a)*len(q))\n",
    "    U = np.empty(len(c)*len(a)*len(q))\n",
    "    index = 0\n",
    "    #compute expected utility\n",
    "    for iq, q_cur in enumerate(q):\n",
    "        for ic, c_cur in enumerate(c):\n",
    "            for ia, a_cur in enumerate(a):\n",
    "                EU[index] = utility(c_cur, a[1-ia])* (Π[1-ia,iq] / Π[ia,iq])\n",
    "                index += 1\n",
    "                \n",
    "    indexU = 0\n",
    "    for iq, q_cur in enumerate(q):\n",
    "        for ic, c_cur in enumerate(c):\n",
    "            for ia, a_cur in enumerate(a):\n",
    "                U[indexU] = utility(c_cur, a_cur)\n",
    "                indexU +=1\n",
    "                \n",
    "    matfactor = np.kron(np.kron(np.ones(len(q)),np.ones(len(c))), np.array([[1,0],[0,1]]))\n",
    "#     print(matfactor)\n",
    "#     print(\"EU\",np.multiply(matfactor,EU[np.newaxis, :]))\n",
    "#     print(\"U\",np.multiply(matfactor,U[np.newaxis, :]))\n",
    "    constraint = np.multiply(matfactor,EU[np.newaxis, :]) - np.multiply(matfactor,U[np.newaxis, :])\n",
    "    \n",
    "    return constraint\n",
    "\n",
    "\n",
    "test1 = incentive(c,a)\n",
    "print(test1 @ np.ones(80))"
   ]
  },
  {
   "cell_type": "code",
   "execution_count": 133,
   "metadata": {},
   "outputs": [
    {
     "name": "stdout",
     "output_type": "stream",
     "text": [
      "(3, 80)\n",
      "(3,)\n",
      "(3, 80)\n",
      "(3,)\n",
      "[-1.  0.  0.]\n"
     ]
    }
   ],
   "source": [
    "\n",
    "def set_constraints(w0, a, c, q):\n",
    "    # Maximization over sum Pi q - c = minimization over sum Pi c - q\n",
    "    factor = np.kron(q,np.ones(len(c))) - np.kron(np.ones(len(q)),c)\n",
    "    factor = - np.kron(factor, np.ones(len(a)))\n",
    "\n",
    "    # equality constraint 1: Probability distribution constraint, sum over all possible states\n",
    "    A_eq_1 = np.ones(len(factor))\n",
    "\n",
    "\n",
    "    #equality constraint 2: Bayes Rule\n",
    "    A_eq_2 = bayes_constraint(a,q,c)\n",
    "\n",
    "    beq = np.concatenate((np.array([1]), np.zeros(len(q)*len(a) - 2)))\n",
    "    \n",
    "    \n",
    "    #inequality constraint 1: Promise keeping constraint\n",
    "    A_ub_1 = promise_keeping(c,a)   # Loop over a first, then c, then duplicate for each q\n",
    "    \n",
    "\n",
    "    #inequality constraint 2: promise keeping constraint\n",
    "    A_ub_2 = incentive(c,a)\n",
    "\n",
    "\n",
    "    bub = np.concatenate(( np.array([- w0]), np.zeros(len(a)*(len(a)-1))))\n",
    "    \n",
    "    \n",
    "    Aeq = np.concatenate((A_eq_1[np.newaxis, :], A_eq_2))\n",
    "    Aub = np.concatenate((A_ub_1[np.newaxis, :],A_ub_2))\n",
    "                   \n",
    "    return factor, Aub, bub, Aeq, beq\n",
    "\n",
    "\n",
    "factor, Aub, bub, Aeq, beq = set_constraints(w0[0], a, c, q)\n",
    "print(Aeq.shape)\n",
    "print(beq.shape)\n",
    "print(Aub.shape)\n",
    "print(bub.shape)\n",
    "print(bub)"
   ]
  },
  {
   "cell_type": "code",
   "execution_count": 134,
   "metadata": {},
   "outputs": [],
   "source": [
    "def linear_solve(w0):\n",
    "    a, q, c = makegrid(len(w0))\n",
    "    sol = np.empty((len(w0),80))\n",
    "    \n",
    "    for iw, w_cur in enumerate(w0):\n",
    "        factor, Aub, bub, Aeq, beq = set_constraints(w_cur, a, c, q)\n",
    "        res = linprog(c=factor, A_ub=Aub, b_ub=bub, A_eq = Aeq, b_eq=beq, method=\"revised simplex\")\n",
    "        sol[iw,:] = res.x\n",
    "        print(\"Equality constraint\",res.con)\n",
    "        print(\"Inequality constraint\", res.slack)\n",
    "        print(\"Success?\", res.success)\n",
    "    return sol\n",
    "    \n"
   ]
  },
  {
   "cell_type": "code",
   "execution_count": 135,
   "metadata": {
    "scrolled": true
   },
   "outputs": [
    {
     "name": "stdout",
     "output_type": "stream",
     "text": [
      "Equality constraint [0. 0. 0.]\n",
      "Inequality constraint [0.18973666 0.         0.03794733]\n",
      "Success? True\n",
      "Equality constraint [-0. -0.  0.]\n",
      "Inequality constraint [ 0.13184192 -0.          0.03794733]\n",
      "Success? True\n",
      "Equality constraint [-0. -0.  0.]\n",
      "Inequality constraint [ 0.07394719 -0.          0.03794733]\n",
      "Success? True\n",
      "Equality constraint [-0. -0.  0.]\n",
      "Inequality constraint [ 0.01605245 -0.          0.03794733]\n",
      "Success? True\n",
      "Equality constraint [ 0. -0.  0.]\n",
      "Inequality constraint [ 0.        -0.         0.0673919]\n",
      "Success? True\n",
      "Equality constraint [ 0. -0.  0.]\n",
      "Inequality constraint [ 0.         -0.          0.03816978]\n",
      "Success? True\n",
      "Equality constraint [ 0. -0.  0.]\n",
      "Inequality constraint [-0.         -0.          0.07891052]\n",
      "Success? True\n",
      "Equality constraint [-0. -0. -0.]\n",
      "Inequality constraint [ 0.        -0.         0.0714818]\n",
      "Success? True\n",
      "Equality constraint [-0. -0. -0.]\n",
      "Inequality constraint [ 0.        -0.         0.0998854]\n",
      "Success? True\n",
      "Equality constraint [ 0. -0.  0.]\n",
      "Inequality constraint [ 0.         -0.          0.11380941]\n",
      "Success? True\n",
      "Equality constraint [ 0. -0. -0.]\n",
      "Inequality constraint [-0.          0.00389496  0.1113381 ]\n",
      "Success? True\n",
      "Equality constraint [-0. -0. -0.]\n",
      "Inequality constraint [0.         0.02705285 0.09645088]\n",
      "Success? True\n",
      "Equality constraint [-0. -0. -0.]\n",
      "Inequality constraint [0.         0.05021075 0.08156366]\n",
      "Success? True\n",
      "Equality constraint [ 0. -0. -0.]\n",
      "Inequality constraint [0.         0.07336864 0.06667644]\n",
      "Success? True\n",
      "Equality constraint [ 0. -0. -0.]\n",
      "Inequality constraint [0.         0.09652653 0.05178922]\n",
      "Success? True\n",
      "Equality constraint [ 0. -0. -0.]\n",
      "Inequality constraint [-0.          0.11968443  0.03690201]\n",
      "Success? True\n",
      "Equality constraint [ 0. -0. -0.]\n",
      "Inequality constraint [0.         0.14284232 0.02201479]\n",
      "Success? True\n",
      "Equality constraint [ 0.  0. -0.]\n",
      "Inequality constraint [0.         0.16600022 0.00712757]\n",
      "Success? True\n",
      "Equality constraint [-0.  0.  0.]\n",
      "Inequality constraint [ 0.          0.18175188 -0.        ]\n",
      "Success? True\n",
      "Equality constraint [0. 0. 0.]\n",
      "Inequality constraint [ 0.          0.19076351 -0.        ]\n",
      "Success? True\n"
     ]
    }
   ],
   "source": [
    "w0 = np.linspace(0, 1.1, 20)\n",
    "\n",
    "π  = linear_solve(w0)\n",
    "\n"
   ]
  },
  {
   "cell_type": "code",
   "execution_count": 138,
   "metadata": {},
   "outputs": [
    {
     "name": "stdout",
     "output_type": "stream",
     "text": [
      "[1. 1. 1. 1. 1. 1. 1. 1. 1. 1. 1. 1. 1. 1. 1. 1. 1. 1. 1. 1.]\n"
     ]
    }
   ],
   "source": [
    "print(np.sum(π, axis=1))"
   ]
  },
  {
   "cell_type": "code",
   "execution_count": 139,
   "metadata": {},
   "outputs": [
    {
     "data": {
      "text/plain": [
       "array([1., 0., 0.])"
      ]
     },
     "execution_count": 139,
     "metadata": {},
     "output_type": "execute_result"
    }
   ],
   "source": [
    "Aeq @ π[0, :]"
   ]
  },
  {
   "cell_type": "code",
   "execution_count": 143,
   "metadata": {},
   "outputs": [
    {
     "ename": "NameError",
     "evalue": "name 'ax1' is not defined",
     "output_type": "error",
     "traceback": [
      "\u001b[0;31m---------------------------------------------------------------------------\u001b[0m",
      "\u001b[0;31mNameError\u001b[0m                                 Traceback (most recent call last)",
      "\u001b[0;32m<ipython-input-143-a236f20b7a7f>\u001b[0m in \u001b[0;36m<module>\u001b[0;34m\u001b[0m\n\u001b[1;32m      3\u001b[0m \u001b[0mplt\u001b[0m\u001b[0;34m.\u001b[0m\u001b[0mplot\u001b[0m\u001b[0;34m(\u001b[0m\u001b[0mc\u001b[0m\u001b[0;34m,\u001b[0m \u001b[0mπ\u001b[0m\u001b[0;34m[\u001b[0m\u001b[0;36m0\u001b[0m\u001b[0;34m,\u001b[0m\u001b[0mind\u001b[0m\u001b[0;34m]\u001b[0m\u001b[0;34m)\u001b[0m\u001b[0;34m\u001b[0m\u001b[0;34m\u001b[0m\u001b[0m\n\u001b[1;32m      4\u001b[0m \u001b[0mplt\u001b[0m\u001b[0;34m.\u001b[0m\u001b[0mtitle\u001b[0m\u001b[0;34m(\u001b[0m\u001b[0;34m'Planner problem with partial information'\u001b[0m\u001b[0;34m)\u001b[0m\u001b[0;34m\u001b[0m\u001b[0;34m\u001b[0m\u001b[0m\n\u001b[0;32m----> 5\u001b[0;31m \u001b[0max1\u001b[0m\u001b[0;34m.\u001b[0m\u001b[0mset\u001b[0m\u001b[0;34m(\u001b[0m\u001b[0mxlabel\u001b[0m\u001b[0;34m=\u001b[0m\u001b[0;34m\"reservation utility\"\u001b[0m\u001b[0;34m,\u001b[0m \u001b[0mylabel\u001b[0m\u001b[0;34m=\u001b[0m\u001b[0;34m\"Consumption\"\u001b[0m\u001b[0;34m)\u001b[0m\u001b[0;34m\u001b[0m\u001b[0;34m\u001b[0m\u001b[0m\n\u001b[0m\u001b[1;32m      6\u001b[0m \u001b[0max2\u001b[0m\u001b[0;34m.\u001b[0m\u001b[0mset\u001b[0m\u001b[0;34m(\u001b[0m\u001b[0mxlabel\u001b[0m\u001b[0;34m=\u001b[0m\u001b[0;34m\"Consumption\"\u001b[0m\u001b[0;34m,\u001b[0m \u001b[0mylabel\u001b[0m\u001b[0;34m=\u001b[0m\u001b[0;34m\"Planner odds\"\u001b[0m\u001b[0;34m)\u001b[0m\u001b[0;34m\u001b[0m\u001b[0;34m\u001b[0m\u001b[0m\n\u001b[1;32m      7\u001b[0m \u001b[0mplt\u001b[0m\u001b[0;34m.\u001b[0m\u001b[0mtight_layout\u001b[0m\u001b[0;34m(\u001b[0m\u001b[0;34m)\u001b[0m\u001b[0;34m\u001b[0m\u001b[0;34m\u001b[0m\u001b[0m\n",
      "\u001b[0;31mNameError\u001b[0m: name 'ax1' is not defined"
     ]
    },
    {
     "data": {
      "image/png": "[encoded data removed]",
      "text/plain": [
       "<Figure size 432x288 with 1 Axes>"
      ]
     },
     "metadata": {
      "needs_background": "light"
     },
     "output_type": "display_data"
    }
   ],
   "source": [
    "ind = np.arange(0,40,2)\n",
    "\n",
    "plt.plot(c, π[0,ind])\n",
    "plt.title('Planner problem with partial information')\n",
    "plt.xlabel(\"reservation utility\")\n",
    ", ylabel=\"Consumption\")\n",
    "ax2.set(xlabel=\"Consumption\", ylabel=\"Planner odds\")\n",
    "plt.tight_layout()"
   ]
  },
  {
   "cell_type": "code",
   "execution_count": 148,
   "metadata": {},
   "outputs": [
    {
     "data": {
      "text/plain": [
       "array([ 0.        ,  0.        ,  0.        ,  0.        ,  0.        ,\n",
       "        0.        ,  0.        ,  0.        ,  0.        ,  0.        ,\n",
       "        0.        ,  0.        ,  0.        ,  0.        ,  0.        ,\n",
       "        0.        ,  0.        ,  0.09780055,  0.        ,  0.        ,\n",
       "        0.        ,  0.        ,  0.        ,  0.        ,  0.        ,\n",
       "        0.        ,  0.        ,  0.        ,  0.        ,  0.        ,\n",
       "        0.01759562,  0.        ,  0.        ,  0.        ,  0.        ,\n",
       "        0.        ,  0.        ,  0.        ,  0.        ,  0.        ,\n",
       "        0.        ,  0.        ,  0.        ,  0.        ,  0.        ,\n",
       "        0.        ,  0.        ,  0.        ,  0.        ,  0.        ,\n",
       "        0.        ,  0.        ,  0.        ,  0.        ,  0.        ,\n",
       "        0.        ,  0.        ,  0.88020493,  0.        ,  0.        ,\n",
       "        0.        ,  0.        ,  0.        ,  0.        ,  0.        ,\n",
       "        0.        ,  0.        ,  0.        ,  0.        ,  0.        ,\n",
       "        0.0043989 ,  0.        ,  0.        ,  0.        ,  0.        ,\n",
       "        0.        ,  0.        ,  0.        , -0.        ,  0.        ])"
      ]
     },
     "execution_count": 148,
     "metadata": {},
     "output_type": "execute_result"
    }
   ],
   "source": [
    "π[10,:]"
   ]
  }
 ],
 "metadata": {
  "kernelspec": {
   "display_name": "Python 3",
   "language": "python",
   "name": "python3"
  },
  "language_info": {
   "codemirror_mode": {
    "name": "ipython",
    "version": 3
   },
   "file_extension": ".py",
   "mimetype": "text/x-python",
   "name": "python",
   "nbconvert_exporter": "python",
   "pygments_lexer": "ipython3",
   "version": "3.8.2"
  }
 },
 "nbformat": 4,
 "nbformat_minor": 4
}
