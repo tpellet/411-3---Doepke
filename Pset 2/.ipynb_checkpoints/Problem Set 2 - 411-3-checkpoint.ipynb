{
 "cells": [
  {
   "cell_type": "code",
   "execution_count": 1,
   "metadata": {},
   "outputs": [],
   "source": [
    "import numpy as np\n",
    "# import scipy \n",
    "# from scipy.optimize import brentq    #equation solver\n",
    "from scipy import optimize\n",
    "# from scipy.stats import norm\n",
    "# from scipy.optimize import minimize\n",
    "import matplotlib.pyplot as plt\n",
    "# import numpy.polynomial.chebyshev as chebyshev\n",
    "import numba\n",
    "from scipy import interpolate"
   ]
  },
  {
   "cell_type": "markdown",
   "metadata": {},
   "source": [
    "# Solving the Aiyagari model with Python"
   ]
  },
  {
   "cell_type": "markdown",
   "metadata": {},
   "source": [
    "## The consumer problem"
   ]
  },
  {
   "cell_type": "markdown",
   "metadata": {},
   "source": [
    "$$\n",
    "\\max_{\\left\\{c_t, a_{t+1}\\right\\}_{t=0}^\\infty} \\mathbb{E}_t \\left[\\sum_{t=0}^{\\infty} \\beta^t \\frac{c_t^{1- \\sigma}}{1-\\sigma}\\right]\n",
    "$$\n",
    "subject to: \n",
    "\n",
    "$$\n",
    " c_t + a_{t+1}\\leq (1+r) a_t + w l_t ,\\ \\forall t\n",
    "$$\n",
    "\n",
    "and the natural borrowing limit\n",
    "$$\n",
    "a_{t}\\geq - b,\\ \\forall t\n",
    "$$\n",
    "Note that \n",
    "$$\\min_{\\mathbb{L}} l_{t} = 0 ,\\ \\forall t$$\n",
    "\n",
    "so that the natural debt limit is 0 for all consumers. \n",
    "\n",
    "The Bellman equation for this problem is:\n",
    "\n",
    "$$\n",
    "V(l,a) = \\max_{c,a'} \\left[ \\frac{c^{1- \\sigma}}{1-\\sigma} + \\beta \\sum_{l' \\in \\mathbb{L}}  V(l',a') \\Pi(l' | l) \\right]\n",
    "$$ \n",
    "subject to:\n",
    "$$\n",
    " c + a' = (1+r) a + w l\n",
    "$$\n",
    "$$\n",
    "a'\\geq - b\n",
    "$$"
   ]
  },
  {
   "cell_type": "markdown",
   "metadata": {},
   "source": [
    "Solving the representative firm problem we derive wages and the interest rate, net of depreciation:\n",
    "\n",
    "$$\n",
    "w_t = f_l(K_t,L_t) = (1 - \\alpha) \\left(\\frac{K_t}{L_t}\\right)^\\alpha\n",
    "$$\n",
    "\n",
    "$$\n",
    "r = f_k(K_t,L_t) - \\delta = \\alpha \\left(\\frac{L_t}{K_t}\\right)^{1 - \\alpha} - \\delta\n",
    "$$"
   ]
  },
  {
   "cell_type": "markdown",
   "metadata": {},
   "source": [
    "## Stationary recursive equilibrium"
   ]
  },
  {
   "cell_type": "markdown",
   "metadata": {},
   "source": [
    "In the Aiyagari model, a stationary recursive equilibrium is defined by prices $\\{w, r\\}$, aggregate quantities $K, Y, L$ , a value function $V(l,a)$, a policy function $a'(l,a)$ and a law of motion for the distribution of households $\\lambda(l_t, a_t)$:\n",
    "1. Agents solve their maximization problem as defined by the Bellman equation\n",
    "2. Firms optimize their production, so that profits are zero in equilibrium\n",
    "3. The law of motion is stationary\n",
    "4. The resource constraint is satisfied:\n",
    "    * $C + K = (1- \\delta) K + F(K,L)$"
   ]
  },
  {
   "cell_type": "markdown",
   "metadata": {},
   "source": [
    "## Demand for assets\n",
    "Given the relationship between the interest rate and capital in equilibrium, demand for asset as a function of the interest rate $r$ is:\n",
    "$$\n",
    "K(r) = \\left(\\frac{\\alpha}{r + \\delta}\\right)^{\\frac{1}{1-\\alpha}} L\n",
    "$$"
   ]
  },
  {
   "cell_type": "code",
   "execution_count": 2,
   "metadata": {},
   "outputs": [
    {
     "name": "stdout",
     "output_type": "stream",
     "text": [
      "2.334990964546343\n"
     ]
    }
   ],
   "source": [
    "β  = 0.97\n",
    "σ  = 0.6\n",
    "α  = 0.3\n",
    "δ  = 0.1\n",
    "Π     = np.array([[.8, .2], [.5, .5]])\n",
    "lstar = 0.5/0.7\n",
    "kstar = ( (1/β - 1+δ) /(α*(lstar)**(1-α))) ** (1 / (α - 1))\n",
    "print(kstar)\n",
    "\n",
    "@numba.njit\n",
    "def f(K, L):\n",
    "    return K**α * L**(1 - α)\n",
    "\n",
    "@numba.njit\n",
    "def mpk(K):\n",
    "    return α*(lstar/K)**(1-α) - δ\n",
    "\n",
    "@numba.njit\n",
    "def util(c):\n",
    "        return (c**(1-σ))/(1-σ)\n",
    "    \n",
    "@numba.njit\n",
    "def K_D(r):\n",
    "    return (α/(r + δ))**(1/(1-α)) * lstar\n",
    "\n",
    "@numba.njit\n",
    "def wage(K):\n",
    "    return (1 - α) * (K/lstar) ** α\n"
   ]
  },
  {
   "cell_type": "code",
   "execution_count": 164,
   "metadata": {},
   "outputs": [],
   "source": [
    "rgrid = np.linspace(-δ+1E-2, β**-1 -1, 100)\n",
    "kgrid = np.array([K_D(xi) for xi in rgrid])\n"
   ]
  },
  {
   "cell_type": "code",
   "execution_count": 166,
   "metadata": {
    "scrolled": false
   },
   "outputs": [
    {
     "data": {
      "image/png": "[encoded data removed]",
      "text/plain": [
       "<Figure size 432x288 with 1 Axes>"
      ]
     },
     "metadata": {
      "needs_background": "light"
     },
     "output_type": "display_data"
    }
   ],
   "source": [
    "plt.plot(rgrid, kgrid)\n",
    "plt.xlabel(\"Interest rate\")\n",
    "plt.ylabel('Capital demand')\n",
    "plt.title('Demand for assets in equilibrium');"
   ]
  },
  {
   "cell_type": "markdown",
   "metadata": {},
   "source": [
    "Demand for capital by firms is decreasing with the level of the interest rate. "
   ]
  },
  {
   "cell_type": "markdown",
   "metadata": {},
   "source": [
    "## Equilibrium wage"
   ]
  },
  {
   "cell_type": "code",
   "execution_count": 167,
   "metadata": {},
   "outputs": [],
   "source": [
    "wgrid = np.array([wage(xi) for xi in kgrid])\n"
   ]
  },
  {
   "cell_type": "code",
   "execution_count": 168,
   "metadata": {},
   "outputs": [
    {
     "data": {
      "image/png": "[encoded data removed]",
      "text/plain": [
       "<Figure size 432x288 with 1 Axes>"
      ]
     },
     "metadata": {
      "needs_background": "light"
     },
     "output_type": "display_data"
    }
   ],
   "source": [
    "plt.plot(rgrid, wgrid)\n",
    "plt.xlabel(\"Interest rate\")\n",
    "plt.ylabel('Wages')\n",
    "plt.title('Equilibrium wages as a function of interest rates');"
   ]
  },
  {
   "cell_type": "markdown",
   "metadata": {},
   "source": [
    "## Solving the household's problem\n",
    "### Building the grid"
   ]
  },
  {
   "cell_type": "code",
   "execution_count": 169,
   "metadata": {},
   "outputs": [],
   "source": [
    "# # grid\n",
    "# N = 50\n",
    "# alow = 0.1\n",
    "# aup  = 80\n",
    "\n",
    "# def build_grid(alow, aup, N):\n",
    "#     k = np.linspace(alow, aup, N)\n",
    "#     #Define space for two states\n",
    "#     k = np.tile(k, 2)\n",
    "#     #     print(k.shape)\n",
    "#     r = np.array([mpk(xi) for xi in k])\n",
    "#     w = np.array([wage(xi) for xi in k])\n",
    "\n",
    "#     return k, r, w\n",
    "\n",
    "# k, r, w = build_grid(alow, aup, N)"
   ]
  },
  {
   "cell_type": "code",
   "execution_count": 170,
   "metadata": {
    "scrolled": true
   },
   "outputs": [],
   "source": [
    "# plt.plot(r[0:N], k[0:N])\n",
    "# plt.title('test')\n",
    "# plt.xlabel(\"Interest rate\")\n",
    "# plt.ylabel('Capital demand')\n",
    "# # plt.axis('equal')\n",
    "# plt.title('Demand for assets in equilibrium');"
   ]
  },
  {
   "cell_type": "markdown",
   "metadata": {},
   "source": [
    "### Value function algorithm"
   ]
  },
  {
   "cell_type": "code",
   "execution_count": 3,
   "metadata": {},
   "outputs": [],
   "source": [
    "\n",
    "# Compute value function today, from guess Value function tomorrow\n",
    "@numba.njit\n",
    "def Vendog(aplus, a, r, w,Vh, Vl, π):\n",
    "        today = util((1+r)*a + w - aplus)\n",
    "#         print(today)\n",
    "        tomorrow = β * (π[0] * Vh + π[1] * Vl)\n",
    "#         print(Vtomorrow)\n",
    "        bellman = today  + tomorrow # avoid negative consumption\n",
    "    \n",
    "        return  bellman\n",
    "    \n",
    "\n",
    "# Backward iteration\n",
    "@numba.njit\n",
    "def backward_iterate(maxindex, V, a, r, w, Π, N):\n",
    "    maxindex = np.empty_like(V)\n",
    "    Vupdate = np.empty_like(V)\n",
    "    \n",
    "    Vl = V[:N]\n",
    "    Vh = V[N:]\n",
    "    grid = a[:N]\n",
    "    maxindexl = np.empty_like(grid)\n",
    "    maxindexh = np.empty_like(grid)\n",
    "    \n",
    "    for ia, a_cur in enumerate(grid):\n",
    "        \n",
    "        valuel = np.empty_like(grid)\n",
    "        valueh = np.empty_like(grid)\n",
    "        \n",
    "        for ia2, a_cur2 in enumerate(grid):\n",
    "            #compute value function for all availabe saving choices\n",
    "            valuel[ia2] = Vendog(a_cur2, a_cur, r, 0, Vh[ia2], Vl[ia2], Π[1,:])\n",
    "            valueh[ia2] = Vendog(a_cur2, a_cur, r, w, Vh[ia2], Vl[ia2], Π[0,:])\n",
    "#         print(\"Low value\", valuel)\n",
    "#         print(\"high value\", valueh)\n",
    "        # find optimal saving decision\n",
    "        indexl         = np.argmax(valuel)\n",
    "        indexh         = np.argmax(valueh)\n",
    "        maxindexl[ia]  = indexl\n",
    "        maxindexh[ia]  = indexh\n",
    "#         print(maxindex)\n",
    "        # compute new value function\n",
    "        Vl[ia]     = valuel[indexl]\n",
    "        Vh[ia]     = valueh[indexh]\n",
    "        #             print(V[ia])\n",
    "    \n",
    "    Vupdate[:N]   = Vl\n",
    "    Vupdate[N:]   = Vh\n",
    "    maxindexh = maxindexh + N                                            # Shift the indexing\n",
    "    maxindex[:N]  = maxindexl\n",
    "    maxindex[N:]  = maxindexh\n",
    "\n",
    "    return maxindex, Vupdate"
   ]
  },
  {
   "cell_type": "code",
   "execution_count": 4,
   "metadata": {},
   "outputs": [],
   "source": [
    "# Iteration algorithm\n",
    "\n",
    "@numba.njit\n",
    "def ss_policy(r, w, a, Π, N):\n",
    "    maxindex = np.zeros_like(a)\n",
    "    V    = 0.3*a\n",
    "    Vold    = np.zeros_like(a)\n",
    "    \n",
    "    for it in range(1000):\n",
    "#         print(\"Old V\", Vold)\n",
    "        maxindex, V = backward_iterate(maxindex, V, a, r, w, Π, N)\n",
    "#         print(\"New V\", V)\n",
    "#         print(np.linalg.norm(V - Vold))\n",
    "        if it % 10 == 1 and  np.linalg.norm(V - Vold) < 1E-10:\n",
    "\n",
    "            print(\"convergence in\", it, \" iterations!\")\n",
    "            return maxindex.astype(np.int32), V\n",
    "        \n",
    "\n",
    "        Vold = np.copy(V) # avoid updating both Vold and V by making a copy\n",
    "        "
   ]
  },
  {
   "cell_type": "code",
   "execution_count": null,
   "metadata": {},
   "outputs": [
    {
     "name": "stdout",
     "output_type": "stream",
     "text": [
      "4030.652561053645\n",
      "356.53498183697286\n",
      "48.705991229817016\n",
      "27.77841612484046\n",
      "18.247142126669004\n",
      "13.466850023041427\n",
      "10.79167803269718\n",
      "9.084094255309932\n",
      "7.865435651893268\n",
      "6.9315755173583\n",
      "6.181679722276925\n",
      "5.56177000575282\n",
      "5.038740144911631\n",
      "4.590622875506456\n",
      "4.201723302038381\n",
      "3.8609941136774997\n",
      "3.5598323194415795\n",
      "3.291662091990718\n",
      "3.0515316821048444\n",
      "2.835304352403303\n",
      "2.6395650832260857\n",
      "2.4617069774018097\n",
      "2.2994768332514215\n",
      "2.151024105746644\n",
      "2.0148975334705517\n",
      "1.88958663916387\n",
      "1.7740655601142106\n",
      "1.6674164845155022\n",
      "1.5685435915639165\n",
      "1.4769923656886077\n",
      "1.3918834224665682\n",
      "1.3126104561490215\n",
      "1.238918807333455\n",
      "1.1699651818958392\n",
      "1.1056570622609474\n",
      "1.045480983635211\n",
      "0.989088387114158\n",
      "0.9362726462513272\n",
      "0.8866661840915286\n",
      "0.8401018819161399\n",
      "0.7963150618959188\n",
      "0.7551147866218458\n",
      "0.7163208575139506\n",
      "0.6797659627138148\n",
      "0.6453040831147242\n",
      "0.6127924515253343\n",
      "0.5821002759753435\n",
      "0.5531077571259493\n",
      "0.5257043991833735\n",
      "0.4997907760685448\n",
      "0.4752715619802544\n",
      "0.45206536013601806\n",
      "0.4300917737761556\n",
      "0.409269335159118\n",
      "0.3895371378141369\n",
      "0.3708268326681061\n",
      "0.35308142646000845\n",
      "0.33624515290544027\n",
      "0.32027002141825145\n",
      "0.30510333410876617\n",
      "0.29070115384647777\n",
      "0.277019176984235\n",
      "0.2640212502346069\n",
      "0.25166626688515714\n",
      "0.23992105256541021\n",
      "0.2287522212157033\n",
      "0.2181314541377289\n",
      "0.20803016605806543\n",
      "0.1984199573326781\n",
      "0.1892755274429626\n",
      "0.18057197224227534\n",
      "0.1722867749192273\n",
      "0.16439783403582425\n",
      "0.1568846946215777\n",
      "0.14972987683397257\n",
      "0.14291430816869707\n",
      "0.1364205132363743\n",
      "0.13023326791588036\n",
      "0.12433541374845122\n",
      "0.11871465186718783\n",
      "0.11335656970274192\n",
      "0.10824814023915588\n",
      "0.103377279133664\n",
      "0.0987336564847608\n",
      "0.09430413718106076\n",
      "0.09007916052562906\n",
      "0.08604880420492732\n",
      "0.08220392190938869\n",
      "0.07853473217370613\n",
      "0.07503364165801163\n",
      "0.07169240016865508\n",
      "0.06850350119921107\n",
      "0.06546011268770284\n",
      "0.0625559766616899\n",
      "0.05978436785033267\n",
      "0.05713795002388448\n",
      "0.0546109971235795\n",
      "0.05219841325772287\n",
      "0.0498947515462472\n",
      "0.04769434327778015\n"
     ]
    }
   ],
   "source": [
    "N = 1500\n",
    "alow = 0.001\n",
    "aup  = 10\n",
    "a = np.linspace(alow, aup, N)\n",
    "a = np.tile(a, 2)\n",
    "\n",
    "\n",
    "r0 = mpk(kstar)\n",
    "# print(r0)\n",
    "K0 = K_D(r0)\n",
    "w0 = wage(kstar)\n",
    "# print(w0)\n",
    "\n",
    "%time maxindex, V = ss_policy(r0, w0, a, Π, N)\n"
   ]
  },
  {
   "cell_type": "code",
   "execution_count": null,
   "metadata": {},
   "outputs": [],
   "source": [
    "_, (ax1, ax2) = plt.subplots(1, 2, figsize=(10, 4))\n",
    "ax1.set_title('Value function')\n",
    "ax2.set_title('Policy function')\n",
    "ax1.plot(a[:N], V[:N], label=\"Low income\")\n",
    "ax1.plot(a[:N], V[N:], label =\"High income\")\n",
    "ax2.plot(a[:N], a[maxindex[:N]])\n",
    "ax2.plot(a[N:], a[maxindex[N:]])\n",
    "ax1.legend()\n",
    "plt.tight_layout()"
   ]
  },
  {
   "cell_type": "code",
   "execution_count": 15,
   "metadata": {},
   "outputs": [
    {
     "name": "stdout",
     "output_type": "stream",
     "text": [
      "[49 49 49 49 49 49 49 49 49 49  0  0  0  0  0  0  0  0  0  0  0  0  0  0\n",
      "  0  0  0  0  0  0  0  0  0  0  0  0  0  0  0  0  0  0  0  0  0 22 23 23\n",
      " 24 24 99 99 99 99 99 99 99 50 50 50 50 50 50 50 50 50 50 50 50 50 50 50\n",
      " 50 50 50 50 50 50 50 50 50 50 50 50 50 50 50 50 50 50 50 71 72 72 73 73\n",
      " 74 74 75 75]\n"
     ]
    }
   ],
   "source": [
    "print(maxindex)"
   ]
  },
  {
   "cell_type": "code",
   "execution_count": null,
   "metadata": {},
   "outputs": [],
   "source": []
  }
 ],
 "metadata": {
  "kernelspec": {
   "display_name": "Python 3",
   "language": "python",
   "name": "python3"
  },
  "language_info": {
   "codemirror_mode": {
    "name": "ipython",
    "version": 3
   },
   "file_extension": ".py",
   "mimetype": "text/x-python",
   "name": "python",
   "nbconvert_exporter": "python",
   "pygments_lexer": "ipython3",
   "version": "3.8.2"
  }
 },
 "nbformat": 4,
 "nbformat_minor": 4
}
