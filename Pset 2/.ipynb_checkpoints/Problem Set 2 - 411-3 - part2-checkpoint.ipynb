{
 "cells": [
  {
   "cell_type": "code",
   "execution_count": 1,
   "metadata": {},
   "outputs": [],
   "source": [
    "import numpy as np\n",
    "# import scipy \n",
    "# from scipy.optimize import brentq    #equation solver\n",
    "from scipy import optimize\n",
    "# from scipy.stats import norm\n",
    "# from scipy.optimize import minimize\n",
    "import matplotlib.pyplot as plt\n",
    "# import numpy.polynomial.chebyshev as chebyshev\n",
    "import numba\n",
    "from scipy import interpolate"
   ]
  },
  {
   "cell_type": "markdown",
   "metadata": {},
   "source": [
    "# Solving the Aiyagari model with Python"
   ]
  },
  {
   "cell_type": "markdown",
   "metadata": {},
   "source": [
    "## The consumer problem"
   ]
  },
  {
   "cell_type": "markdown",
   "metadata": {},
   "source": [
    "$$\n",
    "\\max_{\\left\\{c_t, a_{t+1}\\right\\}_{t=0}^\\infty} \\mathbb{E}_t \\left[\\sum_{t=0}^{\\infty} \\beta^t \\frac{c_t^{1- \\sigma}}{1-\\sigma}\\right]\n",
    "$$\n",
    "subject to: \n",
    "\n",
    "$$\n",
    "     c_t + a_{t+1}\\leq (1+ r) a_t + w l_t + T,\\ \\forall t\n",
    "$$\n",
    "\n",
    "and the natural borrowing limit\n",
    "$$\n",
    "a_{t}\\geq - b,\\ \\forall t\n",
    "$$\n",
    "Note that \n",
    "$$\\min_{\\mathbb{L}} income_{t} = T ,\\ \\forall t$$\n",
    "\n",
    "so that the natural asset limit is $ - \\frac{T}{r}$ for all consumers. \n",
    "\n",
    "The Bellman equation for this problem is:\n",
    "\n",
    "$$\n",
    "V(l,a) = \\max_{c,a'} \\left[ \\frac{c^{1- \\sigma}}{1-\\sigma} + \\beta \\sum_{l' \\in \\mathbb{L}}  V(l',a') \\Pi(l' | l) \\right]\n",
    "$$ \n",
    "subject to:\n",
    "$$\n",
    " c + a' = (1+ r) a + w l + T\n",
    "$$\n",
    "$$\n",
    "a'\\geq - \\frac{T}{r}\n",
    "$$"
   ]
  },
  {
   "cell_type": "markdown",
   "metadata": {},
   "source": [
    "Solving the representative firm problem we derive wages and the interest rate, net of depreciation:\n",
    "\n",
    "$$\n",
    "w_t = f_l(K_t,L_t) = (1 - \\alpha) \\left(\\frac{K_t}{L_t}\\right)^\\alpha\n",
    "$$\n",
    "\n",
    "$$\n",
    "r = \\frac{f_k(K_t,L_t) - \\delta}{1 + \\tau}= \\frac{ \\alpha  \\left(\\frac{L_t}{K_t}\\right)^{1 - \\alpha} - \\delta}{1 + \\tau}\n",
    "$$"
   ]
  },
  {
   "cell_type": "markdown",
   "metadata": {},
   "source": [
    "## Stationary recursive equilibrium"
   ]
  },
  {
   "cell_type": "markdown",
   "metadata": {},
   "source": [
    "In the Aiyagari model, a stationary recursive equilibrium is defined by prices $\\{w, r\\}$, aggregate quantities $K, Y, L$ , a value function $V(l,a)$, a policy function $a'(l,a)$ and a law of motion for the distribution of households $\\lambda(l_t, a_t)$:\n",
    "1. Agents solve their maximization problem as defined by the Bellman equation\n",
    "2. Firms optimize their production, so that profits are zero in equilibrium\n",
    "3. The law of motion is stationary\n",
    "4. The resource constraint is satisfied:\n",
    "    * $C + K = (1- \\delta) K + F(K,L)$"
   ]
  },
  {
   "cell_type": "markdown",
   "metadata": {},
   "source": [
    "## Demand for assets\n",
    "Given the relationship between the interest rate and capital in equilibrium, demand for asset as a function of the interest rate $r$ and $\\tau$ is:\n",
    "$$\n",
    "K(r) = \\left(\\frac{\\alpha}{(1 + \\tau)(r + \\delta)}\\right)^{\\frac{1}{1-\\alpha}} L\n",
    "$$"
   ]
  },
  {
   "cell_type": "code",
   "execution_count": 3,
   "metadata": {},
   "outputs": [
    {
     "name": "stdout",
     "output_type": "stream",
     "text": [
      "2.334990964546343\n"
     ]
    }
   ],
   "source": [
    "β  = 0.97\n",
    "σ  = 0.6\n",
    "α  = 0.3\n",
    "δ  = 0.1\n",
    "τ  = 0.1\n",
    "Π     = np.array([[.8, .2], [.5, .5]])\n",
    "lstar = 0.5/0.7\n",
    "kstar = ( (1/β - 1+δ) /(α*(lstar)**(1-α))) ** (1 / (α - 1))\n",
    "print(kstar)\n",
    "\n",
    "@numba.njit\n",
    "def f(K, L):\n",
    "    return K**α * L**(1 - α)\n",
    "\n",
    "@numba.njit\n",
    "def mpk(K):\n",
    "    return (α*(lstar/K)**(1-α) - δ) / (1 + τ)\n",
    "\n",
    "@numba.njit\n",
    "def util(c):\n",
    "        return (c**(1-σ))/(1-σ)\n",
    "    \n",
    "@numba.njit\n",
    "def K_D(r):\n",
    "    return (α/((1 + τ)*(r + δ)))**(1/(1-α)) * lstar\n",
    "\n",
    "@numba.njit\n",
    "def wage(K):\n",
    "    return (1 - α) * (K/lstar) ** α\n"
   ]
  },
  {
   "cell_type": "code",
   "execution_count": 4,
   "metadata": {},
   "outputs": [
    {
     "name": "stdout",
     "output_type": "stream",
     "text": [
      "0.028116213683224093\n"
     ]
    }
   ],
   "source": [
    "rstar = mpk(kstar)\n",
    "print(rstar)"
   ]
  },
  {
   "cell_type": "code",
   "execution_count": 5,
   "metadata": {},
   "outputs": [],
   "source": [
    "rgrid = np.linspace(-δ+1E-2, β**-1 -1, 100)\n",
    "kgrid = np.array([K_D(xi) for xi in rgrid])\n"
   ]
  },
  {
   "cell_type": "code",
   "execution_count": 6,
   "metadata": {
    "scrolled": true
   },
   "outputs": [
    {
     "data": {
      "image/png": "[encoded data removed]",
      "text/plain": [
       "<Figure size 432x288 with 1 Axes>"
      ]
     },
     "metadata": {
      "needs_background": "light"
     },
     "output_type": "display_data"
    }
   ],
   "source": [
    "plt.plot(rgrid, kgrid)\n",
    "plt.xlabel(\"Interest rate\")\n",
    "plt.ylabel('Capital demand')\n",
    "plt.title('Demand for assets in equilibrium');"
   ]
  },
  {
   "cell_type": "markdown",
   "metadata": {},
   "source": [
    "## Equilibrium wage"
   ]
  },
  {
   "cell_type": "markdown",
   "metadata": {},
   "source": [
    "## Solving the household's problem\n"
   ]
  },
  {
   "cell_type": "markdown",
   "metadata": {},
   "source": [
    "### Value function algorithm"
   ]
  },
  {
   "cell_type": "code",
   "execution_count": 7,
   "metadata": {},
   "outputs": [],
   "source": [
    "\n",
    "# Compute value function today, from guess Value function tomorrow\n",
    "@numba.njit\n",
    "def Vendog(aplus, a, r, w, tax, Vh, Vl, π):\n",
    "\n",
    "        c = (1+r)*a + w - aplus + tax\n",
    "        if c < 0:\n",
    "            result = -5000000\n",
    "    \n",
    "        else:\n",
    "            today = util(c)\n",
    "    #         print(today)\n",
    "            tomorrow = β * (π[0] * Vh + π[1] * Vl)\n",
    "    #         print(Vtomorrow)\n",
    "            bellman = today  + tomorrow # avoid negative consumption\n",
    "            result = bellman\n",
    "        \n",
    "        return  result\n",
    "    \n",
    "\n",
    "# Backward iteration\n",
    "@numba.njit\n",
    "def backward_iterate(maxindex, V, a, r, w, Π, N):\n",
    "    tax = K_D(r)*τ*(1+r)\n",
    "    maxindex = np.empty_like(V)\n",
    "    Vupdate  = np.empty_like(V)\n",
    "    Vl = V[:N]\n",
    "    Vh = V[N:]\n",
    "    grid = a[:N]\n",
    "    maxindexl = np.empty_like(grid)\n",
    "    maxindexh = np.empty_like(grid)\n",
    "    \n",
    "    for ia, a_cur in enumerate(grid):\n",
    "        \n",
    "        valuel = np.empty_like(grid)\n",
    "        valueh = np.empty_like(grid)\n",
    "        \n",
    "        for ia2, a_cur2 in enumerate(grid):\n",
    "            #compute value function for all availabe saving choices\n",
    "            valuel[ia2] = Vendog(a_cur2, a_cur, r, 0, tax, Vh[ia2], Vl[ia2], Π[1,:])\n",
    "            valueh[ia2] = Vendog(a_cur2, a_cur, r, w, tax, Vh[ia2], Vl[ia2], Π[0,:])\n",
    "\n",
    "        # find optimal saving decision\n",
    "        indexl         = np.argmax(valuel)\n",
    "        indexh         = np.argmax(valueh)\n",
    "        maxindexl[ia]  = indexl\n",
    "        maxindexh[ia]  = indexh\n",
    "\n",
    "        # compute new value function\n",
    "        Vl[ia]     = valuel[indexl]\n",
    "        Vh[ia]     = valueh[indexh]\n",
    "        #             print(V[ia])\n",
    "    \n",
    "    Vupdate[:N]   = Vl\n",
    "    Vupdate[N:]   = Vh\n",
    "    policy        = np.stack((maxindexl, maxindexh))\n",
    "    maxindexh = maxindexh + N                                            # Shift the indexing\n",
    "    maxindex[:N]  = maxindexl\n",
    "    maxindex[N:]  = maxindexh\n",
    "\n",
    "    return maxindex, Vupdate, policy"
   ]
  },
  {
   "cell_type": "code",
   "execution_count": 8,
   "metadata": {},
   "outputs": [],
   "source": [
    "# Iteration algorithm\n",
    "\n",
    "@numba.njit\n",
    "def ss_policy(r, w, a, Π, N):\n",
    "    maxindex = np.zeros_like(a)\n",
    "    V    = 0.3*a\n",
    "    Vold    = np.zeros_like(a)\n",
    "    \n",
    "    for it in range(1000):\n",
    "#         print(\"Old V\", Vold)\n",
    "        maxindex, V, policy = backward_iterate(maxindex, V, a, r, w, Π, N)\n",
    "#         print(\"New V\", V)\n",
    "#         print(np.linalg.norm(V - Vold))\n",
    "        if it % 10 == 1 and  np.linalg.norm(V - Vold) < 1E-10:\n",
    "\n",
    "            print(\"convergence in\", it, \" iterations!\")\n",
    "            return maxindex.astype(np.int32), V, policy.astype(np.int32)\n",
    "        \n",
    "\n",
    "        Vold = np.copy(V) # avoid updating both Vold and V by making a copy\n",
    "        "
   ]
  },
  {
   "cell_type": "code",
   "execution_count": 9,
   "metadata": {},
   "outputs": [
    {
     "name": "stdout",
     "output_type": "stream",
     "text": [
      "convergence in 581  iterations!\n",
      "CPU times: user 3.46 s, sys: 28.8 ms, total: 3.49 s\n",
      "Wall time: 3.49 s\n"
     ]
    }
   ],
   "source": [
    "r0 = mpk(kstar)\n",
    "K0 = K_D(r0)\n",
    "w0 = wage(kstar)\n",
    "\n",
    "N = 150\n",
    "alow = - K0*τ*(1+r0)/r0\n",
    "aup  = 10\n",
    "a = np.linspace(alow, aup, N)\n",
    "a = np.tile(a, 2)\n",
    "\n",
    "%time maxindex, V, policy = ss_policy(r0, w0, a, Π, N)\n"
   ]
  },
  {
   "cell_type": "code",
   "execution_count": 10,
   "metadata": {
    "scrolled": true
   },
   "outputs": [
    {
     "data": {
      "image/png": "[encoded data removed]",
      "text/plain": [
       "<Figure size 720x288 with 2 Axes>"
      ]
     },
     "metadata": {
      "needs_background": "light"
     },
     "output_type": "display_data"
    }
   ],
   "source": [
    "_, (ax1, ax2) = plt.subplots(1, 2, figsize=(10, 4))\n",
    "ax1.set_title('Value function')\n",
    "ax2.set_title('Policy function')\n",
    "ax1.plot(a[:N], V[:N], label=\"Low income\")\n",
    "ax1.plot(a[:N], V[N:], label =\"High income\")\n",
    "ax2.plot(a[:N], a[maxindex[:N]])\n",
    "ax2.plot(a[N:], a[maxindex[N:]])\n",
    "ax2.plot(a[N:], a[N:])\n",
    "ax1.legend()\n",
    "ax1.set(xlabel=\"Capital\", ylabel=\"Utils\")\n",
    "ax2.set(xlabel=\"Capital\", ylabel=\"Savings\")\n",
    "plt.tight_layout()"
   ]
  },
  {
   "cell_type": "markdown",
   "metadata": {},
   "source": [
    "### Simulate the economy to get steady state capital level A"
   ]
  },
  {
   "cell_type": "code",
   "execution_count": 14,
   "metadata": {},
   "outputs": [
    {
     "data": {
      "text/plain": [
       "(1, 103)"
      ]
     },
     "execution_count": 14,
     "metadata": {},
     "output_type": "execute_result"
    }
   ],
   "source": [
    "@numba.njit\n",
    "def update(zi, index, policy):\n",
    "    # first get updated policy for capital\n",
    "    indexplus = policy[zi, index]\n",
    "    \n",
    "    # then do random draw for the state\n",
    "    zi_plus = np.random.binomial(1, Π[(1-zi),0])\n",
    "#     print(Π[(1-zi),0])\n",
    "    return zi_plus, indexplus\n",
    "\n",
    "\n",
    "@numba.njit\n",
    "def montecarlo_means(a, policy, indexstart, zistart, T, T_drop):\n",
    "    \n",
    "    \n",
    "    index   =  indexstart\n",
    "    zi = zistart\n",
    "    \n",
    "    np.random.seed(0)\n",
    "        \n",
    "    for i in range(T_drop):\n",
    "        # burn-in to account for non-randomness of initial condition, don't use these\n",
    "        zi, index = update(zi, index, policy)\n",
    "      \n",
    "    asum = 0\n",
    "\n",
    "    for _ in range(T - T_drop):\n",
    "        asum += a[index]\n",
    "        zi, index = update(zi, index, policy)\n",
    "        \n",
    "    # return averages\n",
    "    return asum/(T-T_drop)\n",
    "\n",
    "update(0, 110, policy)\n",
    "\n",
    "\n"
   ]
  },
  {
   "cell_type": "code",
   "execution_count": 16,
   "metadata": {
    "scrolled": true
   },
   "outputs": [
    {
     "name": "stdout",
     "output_type": "stream",
     "text": [
      "-3.043574945493709\n"
     ]
    }
   ],
   "source": [
    "indexstart = np.argmin(np.abs(a[:N] - kstar))\n",
    "A = montecarlo_means(a, policy, indexstart, 0, 1_000_000, 10_000)\n",
    "print(A)"
   ]
  },
  {
   "cell_type": "markdown",
   "metadata": {},
   "source": [
    "#### Plot aggregate savings supply as a function of r"
   ]
  },
  {
   "cell_type": "code",
   "execution_count": 17,
   "metadata": {},
   "outputs": [
    {
     "name": "stdout",
     "output_type": "stream",
     "text": [
      "Wage 0.9914279853853902\n",
      "convergence in 571  iterations!\n",
      "-5.548024241842884\n",
      "2.279024934118507\n"
     ]
    }
   ],
   "source": [
    "N=300\n",
    "a = np.linspace(alow, aup, N)\n",
    "a = np.tile(a, 2)\n",
    "\n",
    "#Get capital supply for one value of r\n",
    "@numba.njit\n",
    "def price_to_capital(r, Π):\n",
    "    w = wage(K_D(r))\n",
    "#     print(\"Wage\", w)\n",
    "    maxindex, V, policy = ss_policy(r, w, a, Π, N)\n",
    "    \n",
    "    indexstart = np.argmin(np.abs(a[:N] - kstar))\n",
    "    A   = montecarlo_means(a, policy, indexstart, 0, 1_000_000, 10_000)\n",
    "        \n",
    "    return A\n",
    "   \n",
    "test = price_to_capital(0.021063880645345673,Π)\n",
    "print(test)\n",
    "print(K_D(0.021063880645345673))"
   ]
  },
  {
   "cell_type": "code",
   "execution_count": 18,
   "metadata": {},
   "outputs": [],
   "source": [
    "\n",
    "# @numba.jit\n",
    "def capital_supply(rgrid):\n",
    "    \n",
    "    agrid = np.empty_like(rgrid)\n",
    "    \n",
    "    for ir, r_cur in enumerate(rgrid):\n",
    "        agrid[ir] = price_to_capital(rgrid[ir], Π)\n",
    "    \n",
    "    return agrid\n",
    "\n",
    "\n",
    "    "
   ]
  },
  {
   "cell_type": "code",
   "execution_count": 19,
   "metadata": {},
   "outputs": [
    {
     "name": "stdout",
     "output_type": "stream",
     "text": [
      "Wage 1.0760658665649265\n",
      "convergence in 571  iterations!\n",
      "Wage 1.068645160128643\n",
      "convergence in 571  iterations!\n",
      "Wage 1.061392335242759\n",
      "convergence in 571  iterations!\n",
      "Wage 1.0543010358049743\n",
      "convergence in 571  iterations!\n",
      "Wage 1.0473652402373124\n",
      "convergence in 571  iterations!\n",
      "Wage 1.040579239088406\n",
      "convergence in 571  iterations!\n",
      "Wage 1.0339376144466628\n",
      "convergence in 571  iterations!\n",
      "Wage 1.027435220993468\n",
      "convergence in 571  iterations!\n",
      "Wage 1.021067168543945\n",
      "convergence in 571  iterations!\n",
      "Wage 1.0148288059389339\n",
      "convergence in 571  iterations!\n",
      "Wage 1.0087157061660914\n",
      "convergence in 571  iterations!\n",
      "Wage 1.0027236526005878\n",
      "convergence in 571  iterations!\n",
      "Wage 0.9968486262669929\n",
      "convergence in 571  iterations!\n",
      "Wage 0.9910867940338156\n",
      "convergence in 571  iterations!\n",
      "Wage 0.9854344976608997\n",
      "convergence in 581  iterations!\n",
      "Wage 0.9798882436276781\n",
      "convergence in 581  iterations!\n",
      "Wage 0.9744446936772077\n",
      "convergence in 581  iterations!\n",
      "Wage 0.9691006560171049\n",
      "convergence in 581  iterations!\n",
      "Wage 0.9638530771240195\n",
      "convergence in 581  iterations!\n",
      "Wage 0.9586990341032383\n",
      "convergence in 561  iterations!\n"
     ]
    }
   ],
   "source": [
    "rgrid = np.linspace(-δ+1E-1, β**-1 -1, 20)\n",
    "agrid = capital_supply(rgrid)"
   ]
  },
  {
   "cell_type": "code",
   "execution_count": 20,
   "metadata": {},
   "outputs": [
    {
     "data": {
      "image/png": "[encoded data removed]",
      "text/plain": [
       "<Figure size 432x288 with 1 Axes>"
      ]
     },
     "metadata": {
      "needs_background": "light"
     },
     "output_type": "display_data"
    }
   ],
   "source": [
    "kgrid = np.array([K_D(xi) for xi in rgrid])\n",
    "\n",
    "plt.plot(rgrid, agrid)\n",
    "plt.plot(rgrid, kgrid)\n",
    "plt.xlabel(\"Interest rate\")\n",
    "plt.ylabel('Savings supply')\n",
    "plt.title('Savings supply as a function of interest rates');"
   ]
  },
  {
   "cell_type": "markdown",
   "metadata": {},
   "source": [
    "Aggregate saving supply is increasing with the interest rate. And it should intersect with the aggregate demand equation at the steady state level of interest rate. "
   ]
  },
  {
   "cell_type": "markdown",
   "metadata": {},
   "source": [
    "### Finding the stationary equilibrium"
   ]
  },
  {
   "cell_type": "code",
   "execution_count": 21,
   "metadata": {},
   "outputs": [],
   "source": [
    "#compute excess supply\n",
    "@numba.njit\n",
    "def excess_supply(r, Π):\n",
    "    A = price_to_capital(r, Π)\n",
    "    K = K_D(r)\n",
    "    error = A - K\n",
    "#     print(\"Excess supply\", error)\n",
    "    return error\n",
    "    \n",
    "\n",
    "# Find stationary equilibrium r by bisection\n",
    "@numba.njit\n",
    "def stationary_equilibrium(rgrid, iter=20):\n",
    "    r0 = np.mean(rgrid)\n",
    "    K0 = K_D(r0)\n",
    "    w0 = wage(kstar)\n",
    "    r_u = max(rgrid)\n",
    "    r_l = min(rgrid)\n",
    "#     print(\"interval: [\", r_l, \",\", r_u,\"]\")\n",
    "    r_m = (r_u + r_l)/2\n",
    "    f_m = excess_supply(r_m, Π)\n",
    "    f_l = excess_supply(r_l, Π)\n",
    "    f_u = excess_supply(r_u, Π)\n",
    "    iteration_counter = 0\n",
    "    \n",
    "    if f_u*f_l > 0:\n",
    "        print(\"Bisection method fails.\")\n",
    "        return None\n",
    "\n",
    "    while np.abs(r_l - r_u) > 10E-8 and iteration_counter < iter :\n",
    "\n",
    "        if f_l*f_m > 0:   # i.e. same sign\n",
    "            r_l = r_m\n",
    "            f_l = f_m\n",
    "        else:\n",
    "            r_u = r_m\n",
    "        r_m = (r_u + r_l)/2\n",
    "        f_m = excess_supply(r_m, Π)\n",
    "        iteration_counter += 1\n",
    "        print(\"interval: [\", r_l, \",\", r_u,\"]\")\n",
    "        \n",
    "    print(\"convergence of bisection \", iteration_counter, \"iterations!\")\n",
    "    return r_m\n",
    "\n"
   ]
  },
  {
   "cell_type": "code",
   "execution_count": 22,
   "metadata": {},
   "outputs": [
    {
     "name": "stdout",
     "output_type": "stream",
     "text": [
      "Wage 0.9763746470979204\n",
      "convergence in 581  iterations!\n",
      "Wage 0.9951854911729542\n",
      "convergence in 571  iterations!\n",
      "Wage 0.9586990341032383\n",
      "convergence in 561  iterations!\n",
      "Wage 0.9674023043405492\n",
      "convergence in 581  iterations!\n",
      "interval: [ 0.025463917525773247 , 0.030927835051546504 ]\n",
      "Wage 0.963017897670241\n",
      "convergence in 571  iterations!\n",
      "interval: [ 0.028195876288659875 , 0.030927835051546504 ]\n",
      "Wage 0.9608503774156314\n",
      "convergence in 571  iterations!\n",
      "interval: [ 0.02956185567010319 , 0.030927835051546504 ]\n",
      "Wage 0.9597726964888095\n",
      "convergence in 571  iterations!\n",
      "interval: [ 0.03024484536082485 , 0.030927835051546504 ]\n",
      "Wage 0.9603110330376816\n",
      "convergence in 571  iterations!\n",
      "interval: [ 0.03024484536082485 , 0.030586340206185676 ]\n",
      "Wage 0.960041738984781\n",
      "convergence in 571  iterations!\n",
      "interval: [ 0.030415592783505262 , 0.030586340206185676 ]\n",
      "Wage 0.9599071863171511\n",
      "convergence in 571  iterations!\n",
      "interval: [ 0.030500966494845468 , 0.030586340206185676 ]\n",
      "Wage 0.9598399335511879\n",
      "convergence in 561  iterations!\n",
      "interval: [ 0.030543653350515572 , 0.030586340206185676 ]\n",
      "Wage 0.95980631305744\n",
      "convergence in 561  iterations!\n",
      "interval: [ 0.030564996778350624 , 0.030586340206185676 ]\n",
      "Wage 0.9598231228136256\n",
      "convergence in 561  iterations!\n",
      "interval: [ 0.030564996778350624 , 0.03057566849226815 ]\n",
      "Wage 0.9598315280597285\n",
      "convergence in 561  iterations!\n",
      "interval: [ 0.030564996778350624 , 0.030570332635309387 ]\n",
      "Wage 0.9598273254060083\n",
      "convergence in 561  iterations!\n",
      "interval: [ 0.030567664706830006 , 0.030570332635309387 ]\n",
      "Wage 0.9598252241021498\n",
      "convergence in 561  iterations!\n",
      "interval: [ 0.030568998671069696 , 0.030570332635309387 ]\n",
      "Wage 0.9598262747521622\n",
      "convergence in 561  iterations!\n",
      "interval: [ 0.030568998671069696 , 0.03056966565318954 ]\n",
      "Wage 0.9598268000786061\n",
      "convergence in 561  iterations!\n",
      "interval: [ 0.030568998671069696 , 0.03056933216212962 ]\n",
      "Wage 0.9598270627421874\n",
      "convergence in 571  iterations!\n",
      "interval: [ 0.030568998671069696 , 0.03056916541659966 ]\n",
      "Wage 0.9598271940740678\n",
      "convergence in 571  iterations!\n",
      "interval: [ 0.030568998671069696 , 0.030569082043834676 ]\n",
      "convergence of bisection  17 iterations!\n"
     ]
    }
   ],
   "source": [
    "rgrid = np.linspace(-δ+1.2E-1, β**-1 -1, 100)\n",
    "rstar = stationary_equilibrium(rgrid)"
   ]
  },
  {
   "cell_type": "code",
   "execution_count": 23,
   "metadata": {},
   "outputs": [
    {
     "name": "stdout",
     "output_type": "stream",
     "text": [
      "0.030569040357452185\n"
     ]
    }
   ],
   "source": [
    "print(rstar)"
   ]
  },
  {
   "cell_type": "markdown",
   "metadata": {},
   "source": [
    "The interest rate in the stationary equilibrium is lower than the interest rate in the deterministic equilibrium. This is because risks generate precautionary savings, increasing the price of savings in equilibrium."
   ]
  },
  {
   "cell_type": "code",
   "execution_count": 24,
   "metadata": {},
   "outputs": [
    {
     "name": "stdout",
     "output_type": "stream",
     "text": [
      "Wage 0.9598271940740678\n",
      "convergence in 571  iterations!\n",
      "0.006858921923192707\n"
     ]
    }
   ],
   "source": [
    "K = K_D(rstar)\n",
    "A = price_to_capital(rstar, Π)\n",
    "print(K-A)"
   ]
  },
  {
   "cell_type": "code",
   "execution_count": null,
   "metadata": {},
   "outputs": [],
   "source": []
  }
 ],
 "metadata": {
  "kernelspec": {
   "display_name": "Python 3",
   "language": "python",
   "name": "python3"
  },
  "language_info": {
   "codemirror_mode": {
    "name": "ipython",
    "version": 3
   },
   "file_extension": ".py",
   "mimetype": "text/x-python",
   "name": "python",
   "nbconvert_exporter": "python",
   "pygments_lexer": "ipython3",
   "version": "3.8.2"
  }
 },
 "nbformat": 4,
 "nbformat_minor": 4
}
