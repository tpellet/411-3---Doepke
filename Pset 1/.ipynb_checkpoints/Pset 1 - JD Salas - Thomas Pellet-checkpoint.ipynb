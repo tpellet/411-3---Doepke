{
 "cells": [
  {
   "cell_type": "markdown",
   "metadata": {},
   "source": [
    "# Solving a Dynamic Programming Problem"
   ]
  },
  {
   "cell_type": "code",
   "execution_count": 1,
   "metadata": {
    "scrolled": true
   },
   "outputs": [],
   "source": [
    "import numpy as np\n",
    "# import scipy \n",
    "from scipy.optimize import brentq    #equation solver\n",
    "from scipy import optimize\n",
    "from scipy.stats import norm\n",
    "from scipy.optimize import minimize\n",
    "import matplotlib.pyplot as plt\n",
    "import numpy.polynomial.chebyshev as chebyshev\n",
    "import numba\n",
    "from scipy import interpolate"
   ]
  },
  {
   "cell_type": "markdown",
   "metadata": {},
   "source": [
    "## Value Function Iteration"
   ]
  },
  {
   "cell_type": "code",
   "execution_count": 2,
   "metadata": {},
   "outputs": [],
   "source": [
    "alpha  = 0.33\n",
    "beta   = 0.98\n",
    "delta  = 0.13\n",
    "A      = 2\n",
    "\n",
    "@numba.njit\n",
    "def f(k):\n",
    "    return A*k**alpha + (1-delta)*k\n",
    "@numba.njit\n",
    "def fk(k):\n",
    "    return A*alpha*k**(alpha-1) + (1-delta)\n",
    "\n",
    "@numba.njit\n",
    "def util(c):\n",
    "    return np.log(c)\n"
   ]
  },
  {
   "cell_type": "code",
   "execution_count": 3,
   "metadata": {},
   "outputs": [
    {
     "data": {
      "text/plain": [
       "9.091084887868014"
      ]
     },
     "execution_count": 3,
     "metadata": {},
     "output_type": "execute_result"
    }
   ],
   "source": [
    "kstar = ((1/beta - 1 + delta)/A/alpha)**(1/(alpha-1))\n",
    "kstar"
   ]
  },
  {
   "cell_type": "code",
   "execution_count": 4,
   "metadata": {},
   "outputs": [],
   "source": [
    "assert np.isclose(beta*fk(kstar), 1)"
   ]
  },
  {
   "cell_type": "code",
   "execution_count": 5,
   "metadata": {},
   "outputs": [],
   "source": [
    "# grid\n",
    "k = np.linspace(0.01, 15, 1500)"
   ]
  },
  {
   "cell_type": "code",
   "execution_count": 6,
   "metadata": {},
   "outputs": [],
   "source": [
    "# Compute value function today, from guess Value function tomorrow\n",
    "@numba.njit\n",
    "def Vendog(kplus, k, Vplus):\n",
    "        value = util(max(f(k) - kplus, 1E-10)) + beta * Vplus # avoid negative consumption\n",
    "        return  value\n",
    "\n",
    "# Backward iteration\n",
    "@numba.njit\n",
    "def backward_iterate(maxindex, V, k):\n",
    "    \n",
    "    maxindex = np.empty_like(k)\n",
    "    # loop over the grid k\n",
    "    for ik, k_cur in enumerate(k):\n",
    "\n",
    "        value = np.empty_like(k)\n",
    "        \n",
    "        for ik2, k_cur2 in enumerate(k):\n",
    "            \n",
    "            #compute value function for all availabe saving choices\n",
    "            value[ik2] = Vendog(k[ik2], k_cur, V[ik2])\n",
    "        \n",
    "        # find optimal saving decision\n",
    "        index         = np.argmax(value)\n",
    "        maxindex[ik]  = index\n",
    "        # compute new value function\n",
    "        V[ik]     = value[index]\n",
    "\n",
    "    return maxindex, V"
   ]
  },
  {
   "cell_type": "code",
   "execution_count": 7,
   "metadata": {},
   "outputs": [],
   "source": [
    "# Iteration algorithm\n",
    "@numba.njit\n",
    "def ss_policy(k):\n",
    "    \n",
    "    maxindex = np.zeros_like(k)\n",
    "    V    = np.zeros_like(k)\n",
    "    Vold    = np.zeros_like(k)\n",
    "    \n",
    "    for it in range(2000):\n",
    "        \n",
    "        maxindex, V = backward_iterate(maxindex, V, k)   \n",
    "        \n",
    "        if it % 10 == 1 and  np.linalg.norm(V - Vold) < 1E-5:\n",
    "\n",
    "            print(\"convergence in\", it, \" iterations!\")\n",
    "            return maxindex.astype(np.int32), V\n",
    "        \n",
    "\n",
    "        Vold = np.copy(V) # avoid updating both Vold and V by making a copy\n",
    "        \n",
    "        "
   ]
  },
  {
   "cell_type": "code",
   "execution_count": 28,
   "metadata": {
    "scrolled": true
   },
   "outputs": [
    {
     "name": "stdout",
     "output_type": "stream",
     "text": [
      "convergence in 251  iterations!\n",
      "CPU times: user 5.68 s, sys: 16 ms, total: 5.7 s\n",
      "Wall time: 5.69 s\n"
     ]
    }
   ],
   "source": [
    "%time maxindex, V = ss_policy(k)"
   ]
  },
  {
   "cell_type": "code",
   "execution_count": 29,
   "metadata": {},
   "outputs": [
    {
     "data": {
      "image/png": "[encoded data removed]",
      "text/plain": [
       "<Figure size 432x288 with 1 Axes>"
      ]
     },
     "metadata": {
      "needs_background": "light"
     },
     "output_type": "display_data"
    }
   ],
   "source": [
    "plt.plot(k, V)\n",
    "plt.xlabel(\"Capital\")\n",
    "plt.ylabel('Utils')\n",
    "plt.title('Value function');"
   ]
  },
  {
   "cell_type": "code",
   "execution_count": 30,
   "metadata": {
    "scrolled": true
   },
   "outputs": [
    {
     "data": {
      "image/png": "[encoded data removed]",
      "text/plain": [
       "<Figure size 432x288 with 1 Axes>"
      ]
     },
     "metadata": {
      "needs_background": "light"
     },
     "output_type": "display_data"
    }
   ],
   "source": [
    "plt.plot(k, k[maxindex.astype(int)])\n",
    "plt.xlabel(\"Capital\")\n",
    "plt.ylabel(\"Savings\")\n",
    "plt.title('Policy function');"
   ]
  },
  {
   "cell_type": "code",
   "execution_count": 31,
   "metadata": {},
   "outputs": [
    {
     "data": {
      "image/png": "[encoded data removed]",
      "text/plain": [
       "<Figure size 432x288 with 1 Axes>"
      ]
     },
     "metadata": {
      "needs_background": "light"
     },
     "output_type": "display_data"
    }
   ],
   "source": [
    "c = f(k) - k[maxindex.astype(int)]\n",
    "plt.plot(k, c)\n",
    "plt.xlabel(\"Capital\")\n",
    "plt.xlabel(\"Consumption\")\n",
    "plt.title('Consumption');"
   ]
  },
  {
   "cell_type": "code",
   "execution_count": 32,
   "metadata": {},
   "outputs": [
    {
     "data": {
      "text/plain": [
       "array([9.09])"
      ]
     },
     "execution_count": 32,
     "metadata": {},
     "output_type": "execute_result"
    }
   ],
   "source": [
    "## Steady state level of capital\n",
    "kstar = k[k[maxindex] == k]\n",
    "kstar"
   ]
  },
  {
   "cell_type": "code",
   "execution_count": 8,
   "metadata": {},
   "outputs": [],
   "source": [
    "@numba.njit\n",
    "def policy_interp(x, k, maxindex):\n",
    "    policy = np.interp(x, k, k[maxindex])\n",
    "    return policy\n",
    "\n",
    "@numba.njit\n",
    "def timeseries(start, periods, k, maxindex):\n",
    "    series = np.empty(periods)\n",
    "    series[0] = start\n",
    "    for t in range(periods-1):\n",
    "        series[t+1]  = policy_interp(series[t], k, maxindex)\n",
    "    return series\n"
   ]
  },
  {
   "cell_type": "code",
   "execution_count": 34,
   "metadata": {},
   "outputs": [
    {
     "data": {
      "image/png": "[encoded data removed]",
      "text/plain": [
       "<Figure size 432x288 with 1 Axes>"
      ]
     },
     "metadata": {
      "needs_background": "light"
     },
     "output_type": "display_data"
    }
   ],
   "source": [
    "start = np.array([0.1, 1, 10])\n",
    "T = 50\n",
    "\n",
    "for element in start:\n",
    "    series = timeseries(element, T, k, maxindex)\n",
    "    plt.plot(range(T), \n",
    "    series, label=r'$k_0 = {j} $'.format(j=element))\n",
    "plt.legend()\n",
    "plt.xlabel('Period t')\n",
    "plt.ylabel('Capital')\n",
    "plt.title('Dynamic behavior of capital');"
   ]
  },
  {
   "cell_type": "markdown",
   "metadata": {},
   "source": [
    "This model predicts rapid convergence of capital towards the steady state over the medium run. It would predict rapid convergence of wealth across countries."
   ]
  },
  {
   "cell_type": "markdown",
   "metadata": {},
   "source": [
    "### Howard policy improvement"
   ]
  },
  {
   "cell_type": "code",
   "execution_count": 8,
   "metadata": {},
   "outputs": [],
   "source": [
    "# compute utility conditional on policy function\n",
    "@numba.njit\n",
    "def U_pol(maxindex, k):\n",
    "    U = np.empty_like(k)\n",
    "    \n",
    "    for ik, k_cur in enumerate(k):\n",
    "        U[ik] = util(max(f(k_cur) - k[maxindex[ik]], 1E-5))\n",
    "    return U\n",
    "\n",
    "\n",
    "# Howard Value iteration for given policy\n",
    "@numba.njit\n",
    "def Howard(maxindex, k, V_guess, UC):\n",
    "    \n",
    "    V_update = np.empty_like(V_guess)\n",
    "    \n",
    "    for ik, k_cur in enumerate(k):\n",
    "        \n",
    "        V_update[ik] = UC[ik] + beta * V_guess[ik]\n",
    "\n",
    "    return V_update\n",
    "\n"
   ]
  },
  {
   "cell_type": "code",
   "execution_count": 9,
   "metadata": {},
   "outputs": [],
   "source": [
    "# Iteration algorithm\n",
    "@numba.njit\n",
    "def ss_policy_howard(k, howard=1):\n",
    "    \n",
    "    maxindex = np.zeros_like(k)\n",
    "    V    = np.zeros_like(k)\n",
    "    Vold    = np.zeros_like(k)\n",
    "    \n",
    "    for it in range(20000):\n",
    "#         print(it)\n",
    "        maxindex, V = backward_iterate(maxindex, V, k)   \n",
    "        print(np.linalg.norm(V - Vold))\n",
    "        if it % 10 == 1 and  np.linalg.norm(V - Vold) < 1E-5:\n",
    "\n",
    "            print(\"convergence in\", it, \" iterations!\")\n",
    "            return maxindex.astype(np.int32), V\n",
    "        \n",
    "        Vold = np.copy(V) # avoid updating both Vold and V by making a copy\n",
    "        \n",
    "        if it > 10:\n",
    "            ind = maxindex.astype(np.int32)\n",
    "            UC = U_pol(ind, k)        # Compute utility conditional on grid and policy function\n",
    "\n",
    "            for it2 in range(1000):\n",
    "#                 print(\"Number of iterations\", it2)\n",
    "                V = Howard(ind, k, Vold, UC)   \n",
    "#                 print(np.linalg.norm(V - V_old))\n",
    "                if it % 10 == 1 and  np.linalg.norm(V - Vold) < 1E-5:\n",
    "#                     print(\"convergence in\", it2, \" iterations!\")\n",
    "                    V = np.copy(V)\n",
    "                    Vold = np.copy(V)\n",
    "                    break\n",
    "                    \n",
    "                elif it2 == 1000:\n",
    "                \n",
    "                        print('Howard Improvement did not converge!');\n",
    "                    \n",
    "                Vold = np.copy(V)"
   ]
  },
  {
   "cell_type": "code",
   "execution_count": null,
   "metadata": {
    "scrolled": false
   },
   "outputs": [],
   "source": [
    "%time maxindex_howard, V_howard = ss_policy_howard(k)"
   ]
  },
  {
   "cell_type": "markdown",
   "metadata": {},
   "source": [
    "The algorithm is not converging with Howard improvement"
   ]
  },
  {
   "cell_type": "code",
   "execution_count": 118,
   "metadata": {},
   "outputs": [
    {
     "data": {
      "image/png": "[encoded data removed]",
      "text/plain": [
       "<Figure size 432x288 with 1 Axes>"
      ]
     },
     "metadata": {
      "needs_background": "light"
     },
     "output_type": "display_data"
    }
   ],
   "source": [
    "plt.plot(k, V_howard)\n",
    "plt.xlabel(\"Capital\")\n",
    "plt.title('Value function');"
   ]
  },
  {
   "cell_type": "code",
   "execution_count": 119,
   "metadata": {
    "scrolled": true
   },
   "outputs": [
    {
     "data": {
      "image/png": "[encoded data removed]",
      "text/plain": [
       "<Figure size 432x288 with 1 Axes>"
      ]
     },
     "metadata": {
      "needs_background": "light"
     },
     "output_type": "display_data"
    }
   ],
   "source": [
    "plt.plot(k, k[maxindex_howard.astype(int)])\n",
    "plt.xlabel(\"Capital\")\n",
    "plt.xlabel(\"Savings\")\n",
    "plt.title('Policy function');"
   ]
  },
  {
   "cell_type": "markdown",
   "metadata": {},
   "source": [
    "## Policy Function Iteration - Method I"
   ]
  },
  {
   "cell_type": "markdown",
   "metadata": {},
   "source": [
    "### Euler equation\n",
    "\n",
    "First-order and envelope conditions\n",
    "\n",
    "$$\n",
    "\\begin{align}\n",
    "u'(c(k)) &= \\beta [V_k(k_+)] \\\\\n",
    "V_k(k) &= f_k(k) u'(c(k)) \\\\\n",
    "\\end{align}\n",
    "$$\n",
    "\n",
    "can be combined to obtain a Euler equation\n",
    "\n",
    "$$\n",
    "u'(c(k)) = \\beta \\mathbb{E}[f_k(k_+(k))u'(c(k_+(k)))]\n",
    "$$"
   ]
  },
  {
   "cell_type": "code",
   "execution_count": 39,
   "metadata": {},
   "outputs": [],
   "source": [
    "@numba.njit\n",
    "def up(c):\n",
    "    return 1/c"
   ]
  },
  {
   "cell_type": "code",
   "execution_count": 40,
   "metadata": {},
   "outputs": [],
   "source": [
    "# @numba.jit\n",
    "def Euler_err_cubic(kplus, tck, k):\n",
    "    err = up(max(f(k) - kplus, 1E-5)) - beta * fk(kplus) * up(interpolate.splev(kplus, tck))\n",
    "    return err\n",
    "\n",
    "# @numba.jit\n",
    "def backward_iterate_cubic(cplus, k):\n",
    "\n",
    "    kplus = np.empty(len(k))\n",
    "    cendog = np.empty(len(k))\n",
    "    tck = interpolate.splrep(k, cplus)\n",
    "#     fun = lambda x: Euler_err_cubic(x, tck, k)\n",
    "    \n",
    "    for ik, k_cur in enumerate(k):\n",
    "        \n",
    "        res = optimize.root(Euler_err_cubic, cplus[ik], args=(tck, k_cur), method='hybr')\n",
    "        kplus[ik] = res.x                   # Value of the root\n",
    "        cendog[ik] = f(k_cur) - kplus[ik]   # Budget constraint\n",
    "    \n",
    "    return cendog\n"
   ]
  },
  {
   "cell_type": "code",
   "execution_count": 41,
   "metadata": {},
   "outputs": [],
   "source": [
    "\n",
    "def ss_policy_cubic(k):\n",
    "    c = np.empty(len(k))\n",
    "    cplus = 0.2*k\n",
    "    for it in range(1000):\n",
    "\n",
    "        c = backward_iterate_cubic(cplus, k) \n",
    "#         print(np.linalg.norm(cplus - c))\n",
    "        if it % 10 == 1 and  np.linalg.norm(cplus - c) < 1E-10:\n",
    "#             print(f'convergence in {it} iterations!')\n",
    "            return interpolate.splrep(k, c)\n",
    "        cplus = np.copy(c)\n",
    "    "
   ]
  },
  {
   "cell_type": "code",
   "execution_count": 42,
   "metadata": {},
   "outputs": [
    {
     "name": "stdout",
     "output_type": "stream",
     "text": [
      "CPU times: user 48.7 s, sys: 171 ms, total: 48.9 s\n",
      "Wall time: 48.1 s\n"
     ]
    }
   ],
   "source": [
    "%time tck = ss_policy_cubic(k)"
   ]
  },
  {
   "cell_type": "code",
   "execution_count": 43,
   "metadata": {},
   "outputs": [
    {
     "name": "stderr",
     "output_type": "stream",
     "text": [
      "No handles with labels found to put in legend.\n"
     ]
    },
    {
     "data": {
      "image/png": "[encoded data removed]",
      "text/plain": [
       "<Figure size 720x288 with 2 Axes>"
      ]
     },
     "metadata": {
      "needs_background": "light"
     },
     "output_type": "display_data"
    }
   ],
   "source": [
    "c = interpolate.splev(k, tck)\n",
    "savings = f(k) - c\n",
    "_, (ax1, ax2) = plt.subplots(1, 2, figsize=(10, 4))\n",
    "ax1.set_title('Consumption')\n",
    "ax2.set_title('Capital accumulation')\n",
    "ax1.plot(k, c)\n",
    "ax2.plot(k, savings)\n",
    "ax1.legend()\n",
    "plt.tight_layout()"
   ]
  },
  {
   "cell_type": "code",
   "execution_count": 48,
   "metadata": {
    "scrolled": true
   },
   "outputs": [
    {
     "data": {
      "text/plain": [
       "9.091084887881347"
      ]
     },
     "execution_count": 48,
     "metadata": {},
     "output_type": "execute_result"
    }
   ],
   "source": [
    "#Find a fixed point\n",
    "fun = lambda x: f(x) - interpolate.splev(x, tck)\n",
    "kstar = optimize.fixed_point(fun, [7, 10])[0]\n",
    "kstar"
   ]
  },
  {
   "cell_type": "markdown",
   "metadata": {},
   "source": [
    "### Policy Function Iteration - Method II"
   ]
  },
  {
   "cell_type": "code",
   "execution_count": 49,
   "metadata": {},
   "outputs": [],
   "source": [
    "def BC(kplus, kpplus):\n",
    "    #Get consumption from budget constraint\n",
    "    cons = f(kplus) - kpplus\n",
    "    if cons < 0:\n",
    "        return 10E-10\n",
    "    else:\n",
    "        return cons\n",
    "\n",
    "def Euler(cplus, kplus):\n",
    "    # Get consumption from Euler\n",
    "    euler = cplus / (beta * fk(kplus))\n",
    "    return euler\n",
    "\n",
    "def backward_iterate_II(kplus, k, kbar):\n",
    "    # init\n",
    "    kpplus = np.empty(len(k))\n",
    "    cendog = np.empty(len(k))\n",
    "    kendog = np.empty(len(k))\n",
    "    cplus = np.empty(len(k))\n",
    "    \n",
    "    # Use policy function to get K''\n",
    "    tck = interpolate.splrep(k, kplus)\n",
    "    kpplus = interpolate.splev(kplus, tck)\n",
    "#     print(kpplus)\n",
    "\n",
    "    # Use BC tomorrow, Euler today and BC today to get back policy func\n",
    "    for ik, k_cur in enumerate(k):\n",
    "        \n",
    "        cplus[ik]  = BC(kplus[ik], kpplus[ik])    #Budget constraint tomorrow\n",
    "        cendog[ik] = Euler(cplus[ik], kplus[ik])  # Euler equation today\n",
    "        kendog[ik] = min(max(f(k[ik]) - cendog[ik], 0), kbar) # Budget constraint today lower bar = 0, upper bar to define\n",
    "        \n",
    "    return kendog\n"
   ]
  },
  {
   "cell_type": "code",
   "execution_count": 50,
   "metadata": {},
   "outputs": [],
   "source": [
    "def ss_policy_II(k, kbar):\n",
    "    \n",
    "    knew = np.empty(len(k))\n",
    "    kplus = 0.5*k\n",
    "    \n",
    "    for it in range(1000):\n",
    "#         print(\"Iteration number:\", it)\n",
    "        knew = backward_iterate_II(kplus, k, kbar) \n",
    "        \n",
    "        if it % 10 == 1 and  np.linalg.norm(knew - kplus) < 1E-10:\n",
    "            print(f'convergence in {it} iterations!')\n",
    "            tck_out = interpolate.splrep(k, knew)\n",
    "            return tck_out\n",
    "        \n",
    "        kplus = np.copy(knew)\n",
    "    "
   ]
  },
  {
   "cell_type": "code",
   "execution_count": 52,
   "metadata": {},
   "outputs": [
    {
     "name": "stdout",
     "output_type": "stream",
     "text": [
      "convergence in 111 iterations!\n",
      "CPU times: user 560 ms, sys: 2 µs, total: 560 ms\n",
      "Wall time: 558 ms\n"
     ]
    }
   ],
   "source": [
    "%time tck = ss_policy_II(k, 5*kstar)"
   ]
  },
  {
   "cell_type": "code",
   "execution_count": 53,
   "metadata": {},
   "outputs": [
    {
     "name": "stderr",
     "output_type": "stream",
     "text": [
      "No handles with labels found to put in legend.\n"
     ]
    },
    {
     "data": {
      "image/png": "[encoded data removed]",
      "text/plain": [
       "<Figure size 720x288 with 2 Axes>"
      ]
     },
     "metadata": {
      "needs_background": "light"
     },
     "output_type": "display_data"
    }
   ],
   "source": [
    "savings = interpolate.splev(k, tck)\n",
    "c = f(k) - savings\n",
    "_, (ax1, ax2) = plt.subplots(1, 2, figsize=(10, 4))\n",
    "ax1.set_title('Consumption')\n",
    "ax2.set_title('Capital accumulation')\n",
    "ax1.plot(k, c)\n",
    "ax2.plot(k, savings)\n",
    "ax1.legend()\n",
    "plt.tight_layout()"
   ]
  },
  {
   "cell_type": "code",
   "execution_count": 66,
   "metadata": {},
   "outputs": [
    {
     "data": {
      "text/plain": [
       "9.091084887841202"
      ]
     },
     "execution_count": 66,
     "metadata": {},
     "output_type": "execute_result"
    }
   ],
   "source": [
    "#Find a fixed point\n",
    "fun = lambda x: interpolate.splev(x, tck)\n",
    "kstar = optimize.fixed_point(fun, [7, 10])[0]\n",
    "kstar"
   ]
  },
  {
   "cell_type": "markdown",
   "metadata": {},
   "source": [
    "### Endogenous Grid Points Method"
   ]
  },
  {
   "cell_type": "code",
   "execution_count": 55,
   "metadata": {},
   "outputs": [],
   "source": [
    "def up_inv(c):\n",
    "    return 1/c\n",
    "def up(c):\n",
    "    return 1/c"
   ]
  },
  {
   "cell_type": "code",
   "execution_count": 56,
   "metadata": {},
   "outputs": [],
   "source": [
    "def get_cendog(cplus, fk, up, up_inv, beta, k):\n",
    "    return up_inv(beta * (fk(k) *up(cplus)))\n",
    "\n",
    "def backward_iterate_endog(cplus, k):                 # Should interpret k as k tomorrow here\n",
    "    c_endog = up_inv(beta * (fk(k) *up(cplus)))       # if save k tomorrow, what would be the optimal c today\n",
    "    c = np.empty_like(c_endog)\n",
    "    tck = interpolate.splrep(c_endog + k, c_endog)    # cendog + k is production today\n",
    "    c = interpolate.splev(f(k), tck)\n",
    "    return c"
   ]
  },
  {
   "cell_type": "code",
   "execution_count": 57,
   "metadata": {},
   "outputs": [],
   "source": [
    "def ss_policy_endog(k):\n",
    "    c = 0.3*k\n",
    "    for it in range(2000):\n",
    "        c = backward_iterate_endog(c, k)\n",
    "        if it % 10 == 1 and  np.max(np.abs(c - cold)) < 1E-10:\n",
    "            print(f'convergence in {it} iterations!')\n",
    "            return c\n",
    "        cold = c"
   ]
  },
  {
   "cell_type": "code",
   "execution_count": 59,
   "metadata": {},
   "outputs": [
    {
     "name": "stdout",
     "output_type": "stream",
     "text": [
      "convergence in 111 iterations!\n",
      "CPU times: user 63.1 ms, sys: 0 ns, total: 63.1 ms\n",
      "Wall time: 61.5 ms\n"
     ]
    }
   ],
   "source": [
    "%time c = ss_policy_endog(k)"
   ]
  },
  {
   "cell_type": "code",
   "execution_count": 60,
   "metadata": {
    "scrolled": false
   },
   "outputs": [
    {
     "name": "stderr",
     "output_type": "stream",
     "text": [
      "No handles with labels found to put in legend.\n"
     ]
    },
    {
     "data": {
      "image/png": "[encoded data removed]",
      "text/plain": [
       "<Figure size 720x288 with 2 Axes>"
      ]
     },
     "metadata": {
      "needs_background": "light"
     },
     "output_type": "display_data"
    }
   ],
   "source": [
    "\n",
    "savings = f(k) - c\n",
    "_, (ax1, ax2) = plt.subplots(1, 2, figsize=(10, 4))\n",
    "ax1.set_title('Consumption')\n",
    "ax2.set_title('Capital accumulation')\n",
    "ax1.plot(k, c)\n",
    "ax2.plot(k, savings)\n",
    "ax1.legend()\n",
    "plt.tight_layout()"
   ]
  },
  {
   "cell_type": "code",
   "execution_count": 67,
   "metadata": {},
   "outputs": [
    {
     "data": {
      "text/plain": [
       "9.091084888650906"
      ]
     },
     "execution_count": 67,
     "metadata": {},
     "output_type": "execute_result"
    }
   ],
   "source": [
    "#Find a fixed point\n",
    "tck = interpolate.splrep(k, c)\n",
    "fun = lambda x: f(x) - interpolate.splev(x, tck)\n",
    "kstar = optimize.fixed_point(fun, [7, 10])[0]\n",
    "kstar"
   ]
  },
  {
   "cell_type": "markdown",
   "metadata": {},
   "source": [
    "### Comparing methods"
   ]
  },
  {
   "cell_type": "code",
   "execution_count": 69,
   "metadata": {
    "scrolled": true
   },
   "outputs": [
    {
     "name": "stdout",
     "output_type": "stream",
     "text": [
      "convergence in 251  iterations!\n",
      "5.87 s ± 0 ns per loop (mean ± std. dev. of 1 run, 1 loop each)\n",
      "54.9 s ± 0 ns per loop (mean ± std. dev. of 1 run, 1 loop each)\n",
      "5.76 s ± 0 ns per loop (mean ± std. dev. of 1 run, 1 loop each)\n",
      "convergence in 111 iterations!\n",
      "43.5 ms ± 0 ns per loop (mean ± std. dev. of 1 run, 1 loop each)\n",
      "5.87 s ± 0 ns per loop (mean ± std. dev. of 1 run, 1 loop each)\n"
     ]
    }
   ],
   "source": [
    "solving_time1 = %timeit -n1 -r 1 -o ss_policy(k)\n",
    "solving_time2 = %timeit -n1 -r 1 -o ss_policy_cubic(k)\n",
    "solving_time3 = %timeit -n1 -r 1 -o ss_policy_II(k, kstar)\n",
    "solving_time4 = %timeit -n1 -r 1 -o ss_policy_endog(k)\n",
    "print(solving_time1)"
   ]
  },
  {
   "cell_type": "markdown",
   "metadata": {},
   "source": [
    "Using optimize.root for policy function iteration is very costly."
   ]
  },
  {
   "cell_type": "markdown",
   "metadata": {},
   "source": [
    "# Problem 2"
   ]
  },
  {
   "cell_type": "markdown",
   "metadata": {},
   "source": [
    "## a) Stating the problem\n",
    "\n",
    "\n",
    "$$\n",
    "\\max_{\\left\\{c_t, a_{t+1}\\right\\}_{t=0}^\\infty} \\mathop{E_0}  \\left[\\sum_{t=0}^{\\infty} \\beta^t u(c_t)\\right]\n",
    "$$\n",
    "subject to: \n",
    "\n",
    "$$\n",
    "c_t+a_{t+1}\\leq Ra_t+y_t,\\ \\forall t\n",
    "$$\n",
    "\n",
    "\n",
    "\n",
    "The First Order Condition yields the usual Euler equation, which in this case, corresponds to:\n",
    "\n",
    "$$\n",
    "exp(-\\sigma c_t)=R\\beta \\mathop{E_t}\\{exp(-\\sigma c_{t+1})\\}\n",
    "$$\n",
    "\n"
   ]
  },
  {
   "cell_type": "markdown",
   "metadata": {},
   "source": [
    "## b) Computing allocation: Planner's problem\n",
    "\n",
    "When \n",
    "$ \n",
    "\\epsilon=0 \n",
    "$\n",
    "\n",
    "we are back to the deterministic case, and we can take the expectation operators from our equations. \n",
    "\n",
    "The euler equation then becomes:\n",
    "\n",
    "$\n",
    "exp(-\\sigma c_t)=R\\beta \\{exp(-\\sigma c_{t+1})\\}\n",
    "$\n",
    "\n",
    "Now we can substitute in our guess for $c_{t+1}=B(Ra_{t+1}+y_{t})+D$:\n",
    "\n",
    "\n",
    "$$\n",
    "exp(-\\sigma c_t)= R\\beta \\{exp(-\\sigma (B(Ra_{t+1}+y_{t+1})+D))\\}\\\\\n",
    "                = R\\beta \\{exp(-\\sigma B(Ra_{t+1}+\\bar{y})-\\sigma D)\\}\n",
    "$$\n",
    "\n",
    "applying $\\ln()$ at both sides:\n",
    "$$-\\sigma c_t =\\ln(R\\beta) -\\sigma B(Ra_{t+1}+\\bar{y})-\\sigma D$$\n",
    "and now replacing $a_{t+1}$ from the budget constraint:\n",
    "$$-\\sigma c_t =\\ln(R\\beta) -\\sigma B(R(a_t+y_t-c_t)+\\bar{y})-\\sigma D$$\n",
    "So we can leave $c_t$ on one side yielding:\n",
    "$$c_t =\\frac{BR}{1+BR}(Ra_t+y_t)+\\frac{\\sigma D -\\ln(\\beta R)+\\sigma B \\bar{y}}{\\sigma (1+BR)}$$\n",
    "Now, using the method of undetermined coefficients and our guess we get:\n",
    "$$B=\\frac{R-1}{R}$$\n",
    "and\n",
    "$$D=-\\frac{\\ln(\\beta R)}{\\sigma (R-1)}+\\frac{\\bar{y}}{R}$$\n",
    "\n"
   ]
  },
  {
   "cell_type": "markdown",
   "metadata": {},
   "source": [
    "## c) Introducing exogenous market incompleteness\n",
    "\n",
    "When $\\epsilon\\neq0$ we go back to the original case in which:\n",
    "$$\n",
    "exp(-\\sigma c_t)=R\\beta \\mathop{E_t}\\{exp(-\\sigma c_{t+1})\\}\n",
    "$$\n",
    "Again, by substituting our guess we get:\n",
    "$$\n",
    "exp(-\\sigma c_t)= R\\beta \\mathop{E_t}\\{exp(-\\sigma (B(Ra_{t+1}+y_{t+1})+D))\\}\\\\\n",
    "$$\n",
    "And manipulating this equation we get:\n",
    "$$\n",
    "1= R\\beta exp(\\sigma c_t) exp(-\\sigma BR a_{t+1}-\\sigma D)\\mathop{E_t}\\{exp(-\\sigma y_{t+1})\\}\\\\\n",
    "$$\n",
    "Now, we can use the additional fact that $\\epsilon_t$ is an i.i.d. random variable and leverage the fact that this assumption implies that:\n",
    "$$ exp(\\sigma c_t) exp(-\\sigma BR a_{t+1}) = exp(\\sigma(c_t-BRa_{t+1}))$$\n",
    "\n",
    "is also independent of $t$ since $\\mathop{E_t}\\{exp(-\\sigma y_{t+1})\\}$ is constant in time. Now using these two facts we get:\n",
    "\n",
    "\\begin{align*}\n",
    "c_t-BR a_{t+1} &= c_t - BR(Ra_t+y_t-c_t)\\\\ &=c_t (1+BR)-BR(Ra_t+y_t)=c_t(1+BR)-R(c_t-D)\\\\ &=c_t(1+BR-R)+RD\n",
    "\\end{align*}\n",
    "\n",
    "And now, from the fact that the path of consumption is constant as we've discussed before we know that: $1+BR-R=0$ so that we get the same expression for $B$ as in the deterministic case. Using this and plugging it back in the previous equations yields:\n",
    "\n",
    "$$\n",
    "1=R\\beta exp(\\sigma(R-1)D)\\mathop{E_t}[exp(-\\sigma By_{t+1})]\n",
    "$$\n",
    "\n",
    "so that:\n",
    "\n",
    "$$\n",
    "D=-\\tfrac{\\ln(R\\beta)\\mathop{E_t}[exp(-\\sigma B y_{t+1})]}{\\sigma (R-1)}\n",
    "$$\n",
    "\n",
    "Now, to compare this value of D with the previous one, notice that using Jensen's Inequality:\n",
    "\n",
    "$$\n",
    "\\mathop{E_t}[exp(-\\sigma B y_{t+1})]>exp(-\\sigma B \\mathop{E_t}[y_{t+1}])=exp(-\\sigma B \\bar{y})\n",
    "$$\n",
    "\n",
    "Meaning that by going from $\\epsilon=0$ to $\\epsilon\\neq0$ the value of $D$ is lower. The intuition is given by the fact that this utility function exhibits $\\textit{prudence}$ so there is a precautionary motive for savings. Recall that $D$ represents the constant level of consumption that all individuals wish to maintain, since it does not vary with (a,y). So that if uncertainty is higher, this value is going to be lower to increase precautionary savings.\n",
    "\n"
   ]
  },
  {
   "cell_type": "markdown",
   "metadata": {},
   "source": [
    "# Problem 3"
   ]
  },
  {
   "cell_type": "markdown",
   "metadata": {},
   "source": [
    "## a) Arrow - Debreu Equilibrium\n",
    "For this setting, we need to keep track of the state space. In the given setting, we only have two possible states: $s\\in\\{H,L\\}$.\n",
    "Where \n",
    "$s=L$ means that the individual is on the low endowment trajectory, and analogously for the $s=H$ case. Let $c_t(s)$ be the consumption that individual with state $s$ gets at time $t$. Let $p_t$ be the price of the consumption good at time $t$. Note that since the aggregate endowment at every period is 1 (i.e. no aggregate uncertainty) the price does not depend on the state.\n",
    "\n",
    "Individuals solve:\n",
    "\n",
    "\n",
    "$$\n",
    "\\max_{\\left\\{c_t(s)\\right\\}_{t=0}^\\infty} \\mathop{E_{-1}}  \\left[\\sum_{t=0}^{\\infty} \\beta^t u(c_t(s))\\right]\n",
    "$$\n",
    "subject to: \n",
    " \n",
    "$$\\sum_{t=0}^{\\infty} \\sum_s p_t c_t(s)\\leq \\sum_{t=0}^{\\infty} \\sum_s p_t y_t(s)$$\n",
    "\n",
    "\n",
    "In this context, an Arrow-Debreu equilibrium is defined as a sequence of consumptions $\\{c_t(s)\\}_{t=0, s\\in\\{L,H\\}}^{\\infty}$ and a sequence of prices $\\{p_t\\}_{t=0}^{\\infty}$ such that they solve the individuals problem and market clears: $c_t(H)+c_t(L)=1$, for every $t$.\n",
    "\n"
   ]
  },
  {
   "cell_type": "markdown",
   "metadata": {},
   "source": [
    "## b) Computing allocations: Planner's problem\n",
    "Since there is no aggregate uncertainty and there is not any other friction by solving the planners problem for two equally weighted agents we would get a constant level of consumption across time/states. Now let's solve more formally:\n",
    "\n",
    "$$\n",
    "\\max_{\\left\\{c_t(s)\\right\\}_{t=0}^\\infty} \\mathop{E_{-1}}  \\left[\\sum_{t=0}^{\\infty} \\beta^t u(c_t(s))\\right]\n",
    "$$\n",
    " subject to: $\\sum_{t=0}^{\\infty} p_t c_t(H)+\\sum_{t=0}^{\\infty} p_t c_t(L)\\leq \\sum_{t=0}^{\\infty} p_t[0.75-(0.25)^{t+1}]+ \\sum_{t=0}^{\\infty} p_t[0.25+(0.25)^{t+1}]$.\\\\\n",
    " \n",
    " The First Order Conditions for $t$ and $t=0$ yield:\n",
    " \n",
    " $$\n",
    "[c_t(s)]: \\ \\ \\beta^t\\frac{1}{2c_t(s)}- \\lambda p_t=0 \n",
    "$$\n",
    "$$\n",
    "[c_0(s)]: \\ \\ \\frac{1}{2c_0(s)}- \\lambda=0\n",
    " $$\n",
    "\n",
    "Together,  and with $c_t(s)=c_0$ they imply that $p_t=\\beta^t$. From the Budget Constraint we get that:\n",
    "$$\n",
    "\\sum_{t=0}^{\\infty} \\beta^t \\bar{c}+\\sum_{t=0}^{\\infty} \\beta^t \\bar{c}= \\sum_{t=0}^{\\infty} \\beta^t\n",
    "$$\n",
    "so that $\\bar{c}=\\frac{1}{2}$.\n",
    "\n"
   ]
  },
  {
   "cell_type": "markdown",
   "metadata": {},
   "source": [
    "## c) Sequential incomplete market\n",
    "Now we need to be carefull with the timing of the problem. At $t=-1$ agents don't know their type, and since assets can't depend on the realization of the state of the world, there is no trade. Only once the uncertainty of types has been resolved there can be trade. In this case, individual of type $s$ solve the following problem:\n",
    "\n",
    "\n",
    "$$\n",
    "\\max_{\\left\\{c_t(s),a(s)_{t+1}\\right\\}_{t=0}^\\infty}  \\sum_{t=0}^{\\infty} \\beta^t \\ln(c_t(s))\n",
    "$$\n",
    " subject to:\n",
    " \n",
    "$$c_t(s)+a_{t+1}(s)\\leq (1+r_t)a_t(s)+y_t(s)$$ $$a_{t+1}(s)\\geq -b_{t+1} \\quad \\text{for all t}$$\n",
    "\n",
    "\n",
    "In this context, a sequence of markets equilibrium is defined as a sequence of consumptions $\\{c(H)_t,c(L)_t\\}_{t=0}^{\\infty}$, assets $\\{a(H)_{t+1},a(L)_{t+1}\\}_{t=0}^{\\infty}$, and prices $\\{r_t\\}_{t=0}^{\\infty}$ such that they solve individuals' problems and markets clear: $c_t(H)+c_t(L)=1$ and $a_{t+1}(H)+a_{t+1}(L)=0$, for every $t$.\n",
    "\n"
   ]
  },
  {
   "cell_type": "markdown",
   "metadata": {},
   "source": [
    "## d)  Computing allocation under incomplete market\n",
    "We know that the FOC for the individual's problem in this case yields the regular Euler equation:\n",
    "\n",
    "$$\n",
    "u'(c(s)_t)=\\beta u'(c(s)_{t+1})(1+r_{t+1}) \\Leftrightarrow c(s)_{t+1}=\\beta (1+r_{t+1})c(s)_{t}\n",
    "$$\n",
    "Now if we sum up both euler equations and impose market clearing in the goods market we get that: $1=\\beta (1+r_{t+1})$, for all $t$. Also from this condition and going back to the individual's euler equations we get that: $c(s)_t=c(s)_{t+1}$. With this, we can go back to the individual's intertemporal budget constraint and compute $\\bar{c}_H$ and $\\bar{c}_L$:\n",
    "\n",
    "$$\n",
    "\\sum_{t=0}^{\\infty} \\frac{\\bar{c}_H}{(1+r)^t} = \\sum_{t=0}^{\\infty} \\frac{[0.75-(0.25)^{t+1}]}{(1+r)^t}\n",
    "$$\n",
    "\n",
    "$$\n",
    "\\sum_{t=0}^{\\infty} \\frac{\\bar{c}_L}{(1+r)^t} = \\sum_{t=0}^{\\infty} \\frac{[0.25+(0.25)^{t+1}]}{(1+r)^t}\n",
    "$$\n",
    "\n",
    "After some manipulations we get:\n",
    "\n",
    "\\begin{align*}\n",
    "\\frac{\\bar{c}_H}{r}&=\\frac{0.75}{r}-0.25\\frac{1}{1-\\frac{0.25}{1+r}}\\\\&=\\frac{\\frac{1}{2}+\\beta\\frac{1}{16}}{1-0.25\\beta}\n",
    "\\end{align*}\n",
    "\n",
    "and $\\bar{c}_L=1-\\bar{c}_H$ from the goods' market clearing condition.\n",
    "\n",
    "We can tell that $\\bar{c}_H\\in(0.5,0.75)$ and is increasing in $\\beta$ as we would expect. Since the $s=H$ has an increasing income trajectory, to consume a constant amount he'll have to borrow at the beginning, whereas the situation is the exact opposite for the $s=L$ type.\n",
    "\n",
    "Of course the borrowing constraint holds with slack for both agents since the way it is constructed (natural debt limit) imposes zero consumption forever and that's clearly not optimal with the given utility functions. Also note that here we do not get that consumption is across types as we've discussed previously. The reason is that in this context it is not possible to self-insure against states, and agents can only smooth consumption throughout time.\n"
   ]
  },
  {
   "cell_type": "markdown",
   "metadata": {},
   "source": [
    "## e) No borrowing constraint\n",
    "Now we impose the restriction of $a_t(s) \\geq0$, for all $s$ and $t$. Under this scenario, we know that the agents of type H will reach the constrain, as they would like to borrow:\n",
    "\n",
    "$$\n",
    "c_t(H) = y_t(H)\n",
    "$$\n",
    "\n",
    "On the other hand, the agents of type $ L $ are not constrained because they did not want to borrow assets under the looser constraint. The Euler equation still holds for them.\n",
    "\n",
    "$$\n",
    "u'(c_t(L)) = \\beta (1+r) u'(c_{t+1}(L))\n",
    "$$\n",
    "\n",
    "By market clearing we know that agents of type $L$ wont save. The budget constraint implies that they'll have to consume their endowments every period, so that $c_t(s)=y_t(s)$ for both types. This means that:\n",
    "\n",
    "$$\n",
    "\\beta (1+r) =  \\frac{u'(c_t(L))}{u'(c_{t+1}(L))} = \\frac{y_{t+1}(L)}{y_t(L)} = \\frac{0.25+(0.25)^{t+2}}{0.25+(0.25)^{t+1}}=\\frac{5}{8} < 1\n",
    "$$\n",
    "\n",
    "Agents of type $L$ would like to save but by market clearing we know that supply and demand of assets is zero because of the no-borrowing constraint. What is happening is that price of capital is increasing to the point when agents of type $L$ are indifferent betweent holding assets or not. "
   ]
  },
  {
   "cell_type": "code",
   "execution_count": null,
   "metadata": {},
   "outputs": [],
   "source": []
  }
 ],
 "metadata": {
  "kernelspec": {
   "display_name": "Python 3",
   "language": "python",
   "name": "python3"
  },
  "language_info": {
   "codemirror_mode": {
    "name": "ipython",
    "version": 3
   },
   "file_extension": ".py",
   "mimetype": "text/x-python",
   "name": "python",
   "nbconvert_exporter": "python",
   "pygments_lexer": "ipython3",
   "version": "3.8.2"
  }
 },
 "nbformat": 4,
 "nbformat_minor": 4
}
