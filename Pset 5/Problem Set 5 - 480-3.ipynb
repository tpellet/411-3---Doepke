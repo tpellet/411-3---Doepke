{
 "cells": [
  {
   "cell_type": "code",
   "execution_count": 29,
   "metadata": {},
   "outputs": [],
   "source": [
    "import numpy as np\n",
    "import pandas as pd\n",
    "from scipy import optimize\n",
    "from scipy import stats\n",
    "import matplotlib.pyplot as plt\n",
    "import numba\n",
    "from scipy import interpolate\n",
    "import quantecon as qe\n",
    "from IPython.core.display import HTML"
   ]
  },
  {
   "cell_type": "markdown",
   "metadata": {},
   "source": [
    "# Question 5"
   ]
  },
  {
   "cell_type": "markdown",
   "metadata": {},
   "source": [
    "## a) Deriving the Bellman equations"
   ]
  },
  {
   "cell_type": "markdown",
   "metadata": {},
   "source": [
    "The only state variable in the model is current production. We can write the different value functions as:\n",
    "\n",
    "\\begin{equation}\\begin{aligned}\n",
    "Q(p) &=w(p)+\\delta((1-s) E[Q(\\tilde{p})]+s E[U(\\tilde{p})]) \\\\\n",
    "U(p) &=z+\\delta\\left(\\frac{m(u, v)}{u} E[Q(\\tilde{p})]+\\left(1-\\frac{m(u, v)}{u}\\right) E[U(\\tilde{p})]\\right) \\\\\n",
    "J(p) &=p-w(p)+\\delta((1-s) E[J(\\tilde{p})]+s E[V(\\tilde{p})]) \\\\\n",
    "V(p) &=-c(p)+\\delta\\left(\\frac{m(u, v)}{v} E[J(\\tilde{p})]+\\left(1-\\frac{m(u, v)}{v}\\right) E[V(\\tilde{p})]\\right)\n",
    "\\end{aligned}\\end{equation}\n"
   ]
  },
  {
   "cell_type": "markdown",
   "metadata": {},
   "source": [
    "## b) Getting the transition matrix from Rouwenhorst method"
   ]
  },
  {
   "cell_type": "code",
   "execution_count": 30,
   "metadata": {},
   "outputs": [],
   "source": [
    "z     = 0.4\n",
    "β     = 0.4\n",
    "l     = 0.407\n",
    "c_k   = 0.474\n",
    "c_l   = 0.11\n",
    "ξ     = 0.449\n",
    "δ     = 0.99 ** (1/12)\n",
    "s     = 0.0081\n",
    "σ     = 0.0034\n",
    "ρ     = 0.9895\n",
    "\n"
   ]
  },
  {
   "cell_type": "code",
   "execution_count": 80,
   "metadata": {},
   "outputs": [],
   "source": [
    "MC = qe.markov.approximation.rouwenhorst(10, 0, σ, ρ)"
   ]
  },
  {
   "cell_type": "code",
   "execution_count": 32,
   "metadata": {},
   "outputs": [
    {
     "data": {
      "text/html": [
       "<table border=\"1\" class=\"dataframe\">\n",
       "  <thead>\n",
       "    <tr style=\"text-align: right;\">\n",
       "      <th></th>\n",
       "      <th>0</th>\n",
       "      <th>1</th>\n",
       "      <th>2</th>\n",
       "      <th>3</th>\n",
       "      <th>4</th>\n",
       "      <th>5</th>\n",
       "      <th>6</th>\n",
       "      <th>7</th>\n",
       "      <th>8</th>\n",
       "      <th>9</th>\n",
       "    </tr>\n",
       "  </thead>\n",
       "  <tbody>\n",
       "    <tr>\n",
       "      <th>0</th>\n",
       "      <td>0.9537</td>\n",
       "      <td>0.0453</td>\n",
       "      <td>0.0010</td>\n",
       "      <td>0.0000</td>\n",
       "      <td>0.0000</td>\n",
       "      <td>0.0000</td>\n",
       "      <td>0.0000</td>\n",
       "      <td>0.0000</td>\n",
       "      <td>0.0000</td>\n",
       "      <td>0.0000</td>\n",
       "    </tr>\n",
       "    <tr>\n",
       "      <th>1</th>\n",
       "      <td>0.0050</td>\n",
       "      <td>0.9539</td>\n",
       "      <td>0.0403</td>\n",
       "      <td>0.0007</td>\n",
       "      <td>0.0000</td>\n",
       "      <td>0.0000</td>\n",
       "      <td>0.0000</td>\n",
       "      <td>0.0000</td>\n",
       "      <td>0.0000</td>\n",
       "      <td>0.0000</td>\n",
       "    </tr>\n",
       "    <tr>\n",
       "      <th>2</th>\n",
       "      <td>0.0000</td>\n",
       "      <td>0.0101</td>\n",
       "      <td>0.9541</td>\n",
       "      <td>0.0352</td>\n",
       "      <td>0.0006</td>\n",
       "      <td>0.0000</td>\n",
       "      <td>0.0000</td>\n",
       "      <td>0.0000</td>\n",
       "      <td>0.0000</td>\n",
       "      <td>0.0000</td>\n",
       "    </tr>\n",
       "    <tr>\n",
       "      <th>3</th>\n",
       "      <td>0.0000</td>\n",
       "      <td>0.0001</td>\n",
       "      <td>0.0151</td>\n",
       "      <td>0.9542</td>\n",
       "      <td>0.0302</td>\n",
       "      <td>0.0004</td>\n",
       "      <td>0.0000</td>\n",
       "      <td>0.0000</td>\n",
       "      <td>0.0000</td>\n",
       "      <td>0.0000</td>\n",
       "    </tr>\n",
       "    <tr>\n",
       "      <th>4</th>\n",
       "      <td>0.0000</td>\n",
       "      <td>0.0000</td>\n",
       "      <td>0.0002</td>\n",
       "      <td>0.0201</td>\n",
       "      <td>0.9543</td>\n",
       "      <td>0.0252</td>\n",
       "      <td>0.0003</td>\n",
       "      <td>0.0000</td>\n",
       "      <td>0.0000</td>\n",
       "      <td>0.0000</td>\n",
       "    </tr>\n",
       "    <tr>\n",
       "      <th>5</th>\n",
       "      <td>0.0000</td>\n",
       "      <td>0.0000</td>\n",
       "      <td>0.0000</td>\n",
       "      <td>0.0003</td>\n",
       "      <td>0.0252</td>\n",
       "      <td>0.9543</td>\n",
       "      <td>0.0201</td>\n",
       "      <td>0.0002</td>\n",
       "      <td>0.0000</td>\n",
       "      <td>0.0000</td>\n",
       "    </tr>\n",
       "    <tr>\n",
       "      <th>6</th>\n",
       "      <td>0.0000</td>\n",
       "      <td>0.0000</td>\n",
       "      <td>0.0000</td>\n",
       "      <td>0.0000</td>\n",
       "      <td>0.0004</td>\n",
       "      <td>0.0302</td>\n",
       "      <td>0.9542</td>\n",
       "      <td>0.0151</td>\n",
       "      <td>0.0001</td>\n",
       "      <td>0.0000</td>\n",
       "    </tr>\n",
       "    <tr>\n",
       "      <th>7</th>\n",
       "      <td>0.0000</td>\n",
       "      <td>0.0000</td>\n",
       "      <td>0.0000</td>\n",
       "      <td>0.0000</td>\n",
       "      <td>0.0000</td>\n",
       "      <td>0.0006</td>\n",
       "      <td>0.0352</td>\n",
       "      <td>0.9541</td>\n",
       "      <td>0.0101</td>\n",
       "      <td>0.0000</td>\n",
       "    </tr>\n",
       "    <tr>\n",
       "      <th>8</th>\n",
       "      <td>0.0000</td>\n",
       "      <td>0.0000</td>\n",
       "      <td>0.0000</td>\n",
       "      <td>0.0000</td>\n",
       "      <td>0.0000</td>\n",
       "      <td>0.0000</td>\n",
       "      <td>0.0007</td>\n",
       "      <td>0.0403</td>\n",
       "      <td>0.9539</td>\n",
       "      <td>0.0050</td>\n",
       "    </tr>\n",
       "    <tr>\n",
       "      <th>9</th>\n",
       "      <td>0.0000</td>\n",
       "      <td>0.0000</td>\n",
       "      <td>0.0000</td>\n",
       "      <td>0.0000</td>\n",
       "      <td>0.0000</td>\n",
       "      <td>0.0000</td>\n",
       "      <td>0.0000</td>\n",
       "      <td>0.0010</td>\n",
       "      <td>0.0453</td>\n",
       "      <td>0.9537</td>\n",
       "    </tr>\n",
       "  </tbody>\n",
       "</table>"
      ],
      "text/plain": [
       "<IPython.core.display.HTML object>"
      ]
     },
     "execution_count": 32,
     "metadata": {},
     "output_type": "execute_result"
    }
   ],
   "source": [
    "Π = MC.P\n",
    "frame = pd.DataFrame(Π)\n",
    "HTML(frame.round(4).to_html())"
   ]
  },
  {
   "cell_type": "markdown",
   "metadata": {},
   "source": [
    "This is the transition matrix of the Rouwenhorst approximation with N=10 states. $$ \\Pi_{i,j} = P(p'=j | p = i)$$"
   ]
  },
  {
   "cell_type": "code",
   "execution_count": 6,
   "metadata": {},
   "outputs": [
    {
     "data": {
      "text/plain": [
       "array([[0.00195312, 0.01757812, 0.0703125 , 0.1640625 , 0.24609375,\n",
       "        0.24609375, 0.1640625 , 0.0703125 , 0.01757812, 0.00195312]])"
      ]
     },
     "execution_count": 6,
     "metadata": {},
     "output_type": "execute_result"
    }
   ],
   "source": [
    "MC.stationary_distributions"
   ]
  },
  {
   "cell_type": "code",
   "execution_count": 7,
   "metadata": {},
   "outputs": [
    {
     "data": {
      "text/plain": [
       "array([[0.00195312, 0.01757812, 0.0703125 , 0.1640625 , 0.24609375,\n",
       "        0.24609375, 0.1640625 , 0.0703125 , 0.01757812, 0.00195312]])"
      ]
     },
     "execution_count": 7,
     "metadata": {},
     "output_type": "execute_result"
    }
   ],
   "source": [
    "MC.stationary_distributions @ Π"
   ]
  },
  {
   "cell_type": "code",
   "execution_count": 33,
   "metadata": {},
   "outputs": [],
   "source": [
    "@numba.njit\n",
    "def matching(u,v):\n",
    "    return u*v/((u**l + v**l)**(1/l))\n",
    "\n",
    "@numba.njit\n",
    "def costvac(P):\n",
    "    return c_k * P + c_l * np.power(P,ξ)\n"
   ]
  },
  {
   "cell_type": "code",
   "execution_count": 34,
   "metadata": {},
   "outputs": [],
   "source": [
    "Pss= np.mean(MC.simulate(ts_length=10_000_000))   # Productivity at steady state"
   ]
  },
  {
   "cell_type": "code",
   "execution_count": 35,
   "metadata": {},
   "outputs": [
    {
     "name": "stdout",
     "output_type": "stream",
     "text": [
      "-7.475476085130794e-05\n"
     ]
    }
   ],
   "source": [
    "print(Pss)"
   ]
  },
  {
   "cell_type": "markdown",
   "metadata": {},
   "source": [
    "## c) Solving for market tightness"
   ]
  },
  {
   "cell_type": "markdown",
   "metadata": {},
   "source": [
    "We want to derive a relationship between productivity and market tightness. By the free entry condition we know that $V(p) = 0$ for all values of p.\n",
    "\n",
    "Therefore we have:\n",
    "\n",
    "\\begin{equation}\\begin{aligned}\n",
    "    c(p) &= \\delta\\left(\\frac{m(1, \\theta)}{\\theta} E[J(\\tilde{p})]\\right)\n",
    "\\end{aligned}\\end{equation}\n",
    "\n",
    "with $ \\theta = \\frac{v}{u}$"
   ]
  },
  {
   "cell_type": "markdown",
   "metadata": {},
   "source": [
    "From the Nash Bargaining equation we get:\n",
    "\\begin{aligned}\n",
    "(1-\\beta)(Q(p)-U(p)) &=\\beta J(p) \\\\\n",
    "\\Rightarrow(1-\\beta) E[Q(p)-U(p)] &=\\beta E[J(p)]\n",
    "\\end{aligned}"
   ]
  },
  {
   "cell_type": "markdown",
   "metadata": {},
   "source": [
    "From the value function of the worker:\n",
    "\\begin{aligned}\n",
    "Q(p)-U(p) &=w(p)+\\delta((1-s) E[Q(\\tilde{p})]+s E[U(\\tilde{p})]) \\\\\n",
    "&-z-\\delta(m(1, \\theta) E[Q(\\tilde{p})]-(1-m(1, \\theta)) E[U(\\tilde{p})]) \\\\\n",
    "&=w(p)-z+\\delta(1-s-m(1, \\theta)) E[Q(\\tilde{p})-U(\\tilde{p})]\n",
    "\\end{aligned}\n",
    "\n",
    "And therefore the surplus is:\n",
    "\n",
    "\\begin{aligned}\n",
    "S(p) &=w(p)-z+\\delta(1-s-m(1, \\theta)) E[Q(\\tilde{p})-U(\\tilde{p})]+p-w(p)+\\delta(1-s) E[J(\\tilde{p})] \\\\\n",
    "&=p-z+\\delta(1-s) E[Q(\\tilde{p})-U(\\tilde{p})+J(\\tilde{p})]-\\delta m(1, \\theta) E[Q(\\tilde{p})-U(\\tilde{p})] \\\\\n",
    "&=p-z+\\delta(1-s) E[S(\\tilde{p})]-\\delta m(1, \\theta) \\beta E[S(\\tilde{p})]\n",
    "\\end{aligned}\n",
    "\n",
    "where we used the Nash Bargaining equation at the end. Now we can derive the job creation equation:\n",
    "\n",
    "\\begin{aligned}\n",
    "\\frac{1}{\\delta} \\frac{\\theta}{m(1, \\theta)} c(p) &=E[J(\\tilde{p})] \\\\\n",
    "&=(1-\\beta) E[S(\\tilde{p})] \\\\\n",
    "&=(1-\\beta) E[\\tilde{p}-z+\\delta(1-s) E[S(\\tilde{p})]-\\delta m(1, \\tilde{\\theta}) \\beta E[S(\\tilde{p})]\\\\\n",
    "&=(1-\\beta) E\\left[\\tilde{p}-z+\\delta(1-s) \\frac{1}{1-\\beta} \\frac{1}{\\delta} \\frac{\\tilde{\\theta}}{m(1, \\tilde{\\theta})} c(\\tilde{p})-\\delta m(1, \\tilde{\\theta}) \\frac{\\beta}{1-\\beta} \\frac{1}{\\delta} \\frac{\\tilde{\\theta}}{m(1, \\tilde{\\theta})} c(\\tilde{p})\\right] \\\\\n",
    "&=E\\left[(1-\\beta)(\\tilde{p}-z)+(1-s) \\frac{\\tilde{\\theta}}{m(1, \\tilde{\\theta})} c(\\tilde{p})-\\beta \\tilde{\\theta} c(\\tilde{p})\\right]\n",
    "\\end{aligned}\n",
    "\n",
    "and replacing by the functional form for $m(u,v)$ and $c(p)$ we have:\n",
    "\\begin{equation}\\frac{1}{\\delta}(1+\\theta)^{\\frac{1}{l}}\\left(c_{k} p+c_{l} p^{\\xi}\\right)=E\\left[(1-\\beta)(\\tilde{p}-z)+(1-s)(1+\\tilde{\\theta})^{\\frac{1}{l}}\\left(c_{k} \\tilde{p}+c_{l} \\tilde{p}^{\\xi}\\right)-\\beta \\tilde{\\theta}\\left(c_{k} \\tilde{p}+c_{l} \\tilde{p}^{\\xi}\\right)\\right]\\end{equation}\n"
   ]
  },
  {
   "cell_type": "code",
   "execution_count": 52,
   "metadata": {},
   "outputs": [],
   "source": [
    "def jobcreation(θ):\n",
    "    # theta (10,) for each state of P\n",
    "    P       = np.exp(MC.state_values)  # (10,)\n",
    "#     print(costvac(P))\n",
    "    LHS     = 1 / δ * (1+θ) **(1/l) * costvac(P)  # (10,)\n",
    "#     print(LHS)\n",
    "    Future  = (1-β)*(P - z) + (1 - s)*(1+θ) **(1/l) * costvac(P) - β * θ * costvac(P)\n",
    "#     print(Future)\n",
    "    RHS     = MC.P @ Future\n",
    "    return LHS - RHS\n"
   ]
  },
  {
   "cell_type": "code",
   "execution_count": 82,
   "metadata": {},
   "outputs": [
    {
     "data": {
      "text/html": [
       "<table border=\"1\" class=\"dataframe\">\n",
       "  <thead>\n",
       "    <tr style=\"text-align: right;\">\n",
       "      <th>States</th>\n",
       "      <th>theta</th>\n",
       "    </tr>\n",
       "  </thead>\n",
       "  <tbody>\n",
       "    <tr>\n",
       "      <td>1.0</td>\n",
       "      <td>1.3061</td>\n",
       "    </tr>\n",
       "    <tr>\n",
       "      <td>2.0</td>\n",
       "      <td>1.3179</td>\n",
       "    </tr>\n",
       "    <tr>\n",
       "      <td>3.0</td>\n",
       "      <td>1.3295</td>\n",
       "    </tr>\n",
       "    <tr>\n",
       "      <td>4.0</td>\n",
       "      <td>1.3408</td>\n",
       "    </tr>\n",
       "    <tr>\n",
       "      <td>5.0</td>\n",
       "      <td>1.3520</td>\n",
       "    </tr>\n",
       "    <tr>\n",
       "      <td>6.0</td>\n",
       "      <td>1.3630</td>\n",
       "    </tr>\n",
       "    <tr>\n",
       "      <td>7.0</td>\n",
       "      <td>1.3737</td>\n",
       "    </tr>\n",
       "    <tr>\n",
       "      <td>8.0</td>\n",
       "      <td>1.3843</td>\n",
       "    </tr>\n",
       "    <tr>\n",
       "      <td>9.0</td>\n",
       "      <td>1.3946</td>\n",
       "    </tr>\n",
       "    <tr>\n",
       "      <td>10.0</td>\n",
       "      <td>1.4048</td>\n",
       "    </tr>\n",
       "  </tbody>\n",
       "</table>"
      ],
      "text/plain": [
       "<IPython.core.display.HTML object>"
      ]
     },
     "execution_count": 82,
     "metadata": {},
     "output_type": "execute_result"
    }
   ],
   "source": [
    "θ_0 = np.ones(10)\n",
    "sol = optimize.root(jobcreation, θ_0)\n",
    "θ   = sol.x\n",
    "array = np.column_stack((np.arange(1,11,1), sol.x))\n",
    "\n",
    "df = pd.DataFrame(array,\n",
    "                   columns=['States', 'theta'])\n",
    "HTML(df.round(4).to_html(index=False))                       "
   ]
  },
  {
   "cell_type": "markdown",
   "metadata": {},
   "source": [
    "## d) Computing the value functions"
   ]
  },
  {
   "cell_type": "markdown",
   "metadata": {},
   "source": [
    "We first need to derive the wage setting condition in order to derive the value functions for a given p. We have:\n",
    "\\begin{equation}\\begin{aligned}\n",
    "J(p) &=p-w(p)+\\delta((1-s) E[J(\\tilde{p})]+s E[V(\\tilde{p})]) \\\\\n",
    "&=p-w(p)+\\delta(1-s) E[J(\\tilde{p})] \\\\\n",
    "&=p-w(p)+\\delta(1-s) \\frac{1}{\\delta} \\frac{\\theta}{m(1, \\theta)} c(p) \\\\\n",
    "&=p-w(p)+(1-s) \\frac{\\theta}{m(1, \\theta)} c(p) \\\\\n",
    "\\Rightarrow(1-\\beta) S(p) &=p-w(p)+(1-s) \\frac{\\theta}{m(1, \\theta)} c(p)\n",
    "\\end{aligned}\\end{equation}\n",
    "\n",
    "and:\n",
    "\n",
    "\\begin{equation}\\begin{aligned}\n",
    "S(p) &=w(p)-z+\\delta(1-s-m(1, \\theta)) E[Q(\\tilde{p})-U(\\tilde{p})]+p-w(p)+\\delta(1-s) E[J(\\tilde{p})] \\\\\n",
    "&=p-z+\\delta(1-s-m(1, \\theta)) \\frac{\\beta}{1-\\beta} E[J(\\tilde{p})]+\\delta(1-s) E[J(\\tilde{p})] \\\\\n",
    "&=p-z+\\left\\{\\delta(1-s-m(1, \\theta)) \\frac{1}{1-\\beta}+\\delta m(1, \\theta)\\right\\} E[J(\\tilde{p})] \\\\\n",
    "&=p-z+\\left\\{\\delta(1-s-m(1, \\theta)) \\frac{1}{1-\\beta}+\\delta m(1, \\theta)\\right\\} \\frac{1}{\\delta} \\frac{\\theta}{m(1, \\theta)} c(p) \\\\\n",
    "&=p-z+(1-s-m(1, \\theta) \\beta) \\frac{1}{1-\\beta} \\frac{\\theta}{m(1, \\theta)} c(p)\n",
    "\\end{aligned}\\end{equation}\n",
    "\n",
    "Substituting in the equation above we get:\n",
    "\n",
    "\\begin{equation}\\begin{aligned}\n",
    "w(p) &=\\beta p+(1-\\beta) z+\\beta \\theta c(p) \\\\\n",
    "&=\\beta p+(1-\\beta) z+\\beta \\theta\\left(c_{k} p+c_{l} p^{\\varepsilon}\\right)\n",
    "\\end{aligned}\\end{equation}\n"
   ]
  },
  {
   "cell_type": "code",
   "execution_count": 84,
   "metadata": {},
   "outputs": [],
   "source": [
    "def w(p, θ):\n",
    "    return β*p + (1- β)*z + β*θ*costvac(p)"
   ]
  },
  {
   "cell_type": "code",
   "execution_count": 92,
   "metadata": {},
   "outputs": [],
   "source": [
    "V = np.zeros(len(θ_0))\n",
    "\n",
    "def J(p, θ):\n",
    "    return p - w(p,θ) + (1 - s)*costvac(p)*(θ**l + 1)**(1/l)\n",
    "    \n",
    "def U(p, θ):\n",
    "    return Q - (β/(1-β))*J(p,θ)\n",
    "\n",
    "    "
   ]
  },
  {
   "cell_type": "markdown",
   "metadata": {},
   "source": [
    "Computing $Q(p)$ is a little more involved. From the value function, we can replace $U(p) = Q(p) - (β/(1-β))J(p)$ to get:\n",
    "\n",
    "\\begin{equation}\\begin{aligned}\n",
    "Q(p) &=w(p)+\\delta((1-s) E[Q(\\tilde{p})]+s E[U(\\tilde{p})]) \\\\\n",
    "&=w(p)+\\delta\\left((1-s) E[Q(\\tilde{p})]+s E\\left[Q(\\tilde{p})-\\frac{\\beta}{1-\\beta} J(\\tilde{p})\\right]\\right) \\\\\n",
    "&=w(p)+\\delta E[Q(\\tilde{p})]-\\delta s \\frac{\\beta}{1-\\beta} \\frac{1}{\\delta} \\frac{\\theta}{m(1, \\theta)} c(p) \\\\\n",
    "&=w(p)+\\delta E[Q(\\tilde{p})]-s \\frac{\\beta}{1-\\beta}\\left(\\theta^{l}+1\\right)^{\\frac{1}{l}}\\left(c_{k} p+c_{l} p^{\\varepsilon}\\right)\n",
    "\\end{aligned}\\end{equation}"
   ]
  },
  {
   "cell_type": "code",
   "execution_count": 86,
   "metadata": {},
   "outputs": [],
   "source": [
    "def solveQ(Q):\n",
    "    P       = np.exp(MC.state_values)\n",
    "    LHS = Q # (10,1)\n",
    "    EQ  = MC.P @ Q\n",
    "    RHS = w(P, θ) + δ*EQ - s*(β/(1-β)) * (θ**l + 1)**(1/l) * costvac(P) \n",
    "    return LHS - RHS"
   ]
  },
  {
   "cell_type": "code",
   "execution_count": 87,
   "metadata": {},
   "outputs": [],
   "source": [
    "Q_0 = np.ones(10)\n",
    "sol = optimize.root(solveQ, Q_0)\n",
    "Q   = sol.x\n"
   ]
  },
  {
   "cell_type": "code",
   "execution_count": 96,
   "metadata": {},
   "outputs": [
    {
     "data": {
      "text/html": [
       "<table border=\"1\" class=\"dataframe\">\n",
       "  <thead>\n",
       "    <tr style=\"text-align: right;\">\n",
       "      <th>State</th>\n",
       "      <th>Tightness</th>\n",
       "      <th>Employed</th>\n",
       "      <th>Unemployed</th>\n",
       "      <th>Active</th>\n",
       "      <th>Vacant</th>\n",
       "    </tr>\n",
       "  </thead>\n",
       "  <tbody>\n",
       "    <tr>\n",
       "      <td>1.0</td>\n",
       "      <td>1.3061</td>\n",
       "      <td>1114.2403</td>\n",
       "      <td>1111.9352</td>\n",
       "      <td>3.4576</td>\n",
       "      <td>0.0</td>\n",
       "    </tr>\n",
       "    <tr>\n",
       "      <td>2.0</td>\n",
       "      <td>1.3179</td>\n",
       "      <td>1115.3477</td>\n",
       "      <td>1112.9979</td>\n",
       "      <td>3.5246</td>\n",
       "      <td>0.0</td>\n",
       "    </tr>\n",
       "    <tr>\n",
       "      <td>3.0</td>\n",
       "      <td>1.3295</td>\n",
       "      <td>1116.4632</td>\n",
       "      <td>1114.0681</td>\n",
       "      <td>3.5926</td>\n",
       "      <td>0.0</td>\n",
       "    </tr>\n",
       "    <tr>\n",
       "      <td>4.0</td>\n",
       "      <td>1.3408</td>\n",
       "      <td>1117.5869</td>\n",
       "      <td>1115.1460</td>\n",
       "      <td>3.6614</td>\n",
       "      <td>0.0</td>\n",
       "    </tr>\n",
       "    <tr>\n",
       "      <td>5.0</td>\n",
       "      <td>1.3520</td>\n",
       "      <td>1118.7190</td>\n",
       "      <td>1116.2316</td>\n",
       "      <td>3.7311</td>\n",
       "      <td>0.0</td>\n",
       "    </tr>\n",
       "    <tr>\n",
       "      <td>6.0</td>\n",
       "      <td>1.3630</td>\n",
       "      <td>1119.8595</td>\n",
       "      <td>1117.3250</td>\n",
       "      <td>3.8018</td>\n",
       "      <td>0.0</td>\n",
       "    </tr>\n",
       "    <tr>\n",
       "      <td>7.0</td>\n",
       "      <td>1.3737</td>\n",
       "      <td>1121.0085</td>\n",
       "      <td>1118.4262</td>\n",
       "      <td>3.8735</td>\n",
       "      <td>0.0</td>\n",
       "    </tr>\n",
       "    <tr>\n",
       "      <td>8.0</td>\n",
       "      <td>1.3843</td>\n",
       "      <td>1122.1662</td>\n",
       "      <td>1119.5355</td>\n",
       "      <td>3.9461</td>\n",
       "      <td>0.0</td>\n",
       "    </tr>\n",
       "    <tr>\n",
       "      <td>9.0</td>\n",
       "      <td>1.3946</td>\n",
       "      <td>1123.3325</td>\n",
       "      <td>1120.6527</td>\n",
       "      <td>4.0197</td>\n",
       "      <td>0.0</td>\n",
       "    </tr>\n",
       "    <tr>\n",
       "      <td>10.0</td>\n",
       "      <td>1.4048</td>\n",
       "      <td>1124.5076</td>\n",
       "      <td>1121.7781</td>\n",
       "      <td>4.0943</td>\n",
       "      <td>0.0</td>\n",
       "    </tr>\n",
       "  </tbody>\n",
       "</table>"
      ],
      "text/plain": [
       "<IPython.core.display.HTML object>"
      ]
     },
     "execution_count": 96,
     "metadata": {},
     "output_type": "execute_result"
    }
   ],
   "source": [
    "P = np.exp(MC.state_values)\n",
    "array = np.column_stack((np.arange(1,11,1),θ, Q, U(P,θ), J(P, θ), V))\n",
    "\n",
    "df2 = pd.DataFrame(array,\n",
    "                   columns=['State', 'Tightness', 'Employed', 'Unemployed', 'Active', 'Vacant'])\n",
    "HTML(df2.round(4).to_html(index=False))  "
   ]
  },
  {
   "cell_type": "code",
   "execution_count": 88,
   "metadata": {},
   "outputs": [
    {
     "data": {
      "text/plain": [
       "array([1114.24029749, 1115.3476544 , 1116.46316584, 1117.58692046,\n",
       "       1118.71900782, 1119.85951842, 1121.00854365, 1122.16617588,\n",
       "       1123.33250842, 1124.50763558])"
      ]
     },
     "execution_count": 88,
     "metadata": {},
     "output_type": "execute_result"
    }
   ],
   "source": [
    "Q"
   ]
  },
  {
   "cell_type": "code",
   "execution_count": null,
   "metadata": {},
   "outputs": [],
   "source": []
  }
 ],
 "metadata": {
  "kernelspec": {
   "display_name": "Python 3",
   "language": "python",
   "name": "python3"
  },
  "language_info": {
   "codemirror_mode": {
    "name": "ipython",
    "version": 3
   },
   "file_extension": ".py",
   "mimetype": "text/x-python",
   "name": "python",
   "nbconvert_exporter": "python",
   "pygments_lexer": "ipython3",
   "version": "3.8.2"
  }
 },
 "nbformat": 4,
 "nbformat_minor": 4
}
