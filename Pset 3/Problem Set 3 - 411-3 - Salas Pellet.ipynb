{
 "cells": [
  {
   "cell_type": "code",
   "execution_count": 603,
   "metadata": {},
   "outputs": [],
   "source": [
    "import numpy as np\n",
    "from scipy import optimize\n",
    "from scipy import stats\n",
    "import matplotlib.pyplot as plt\n",
    "import numba\n",
    "from scipy import interpolate\n"
   ]
  },
  {
   "cell_type": "markdown",
   "metadata": {},
   "source": [
    "# Aiyagari Model with Aggregate Uncertainty"
   ]
  },
  {
   "cell_type": "markdown",
   "metadata": {},
   "source": [
    "$$\n",
    "\\max_{\\left\\{c_t, a_{t+1}\\right\\}_{t=0}^\\infty} \\mathbb{E}_t \\left[\\sum_{t=0}^{\\infty} \\beta^t \\ln c_t\\right]\n",
    "$$\n",
    "subject to: \n",
    "\n",
    "$$\n",
    " c_t + k_{t+1}\\leq r_t k_t + w l_t + (1 - \\delta) k_t ,\\ \\forall t\n",
    "$$\n",
    " where $ \\mathbb{L} = \\{0,1\\}$\n",
    " \n",
    "and the natural borrowing limit\n",
    "$$\n",
    "a_{t}\\geq - b,\\ \\forall t\n",
    "$$\n",
    "Note that \n",
    "$$\\min_{\\mathbb{L}} l_{t} = 0 ,\\ \\forall t$$\n",
    "\n",
    "so that the natural debt limit is 0 for all consumers. \n",
    "\n",
    "The Bellman equation for this problem is:\n",
    "\n",
    "$$\n",
    "V(l,a) = \\max_{c,a'} \\left[ \\frac{c^{1- \\sigma}}{1-\\sigma} + \\beta \\sum_{l' \\in \\mathbb{L}}  V(l',a') \\Pi(l' | l) \\right]\n",
    "$$ \n",
    "subject to:\n",
    "$$\n",
    " c + a' = (1+r) a + w l\n",
    "$$\n",
    "$$\n",
    "a'\\geq - b\n",
    "$$"
   ]
  },
  {
   "cell_type": "code",
   "execution_count": 626,
   "metadata": {},
   "outputs": [
    {
     "name": "stdout",
     "output_type": "stream",
     "text": [
      "[36.4696834  34.19032818]\n",
      "[0.09375 0.35    0.03125 0.525  ]\n"
     ]
    }
   ],
   "source": [
    "β  = 0.99\n",
    "α  = 0.36\n",
    "δ  = 0.025\n",
    "\n",
    "# Aggregate and idiosyncratic shocks\n",
    "Z  = np.array([1.01, 0.99])\n",
    "π  = np.array([[1/8, 7/8], [7/8, 1/8]])\n",
    "L  = np.array([1, 0])\n",
    "# Π  = np.array([[0.8507, 0.1229, 7/12, 3/32],\n",
    "#               [0.1159, 0.8361, 1/32, 7/20],\n",
    "#               [0.0243, 0.0021, 7/24, 1/32],\n",
    "#               [0.0091, 0.0389, 3/32, 21/40]])\n",
    "Π  = np.array([[[0.8507, 0.1159, 0.0243, 0.0091],[0.1229, 0.8361, 0.0021, 0.0389]],\n",
    "              [[7/12, 1/32, 7/24, 3/32],[3/32, 7/20, 1/32, 21/40]]])\n",
    "\n",
    "#Unemployment levels conditional on aggregate state\n",
    "U = np.array([.04, 0.1])\n",
    "\n",
    "lstar = 1 - U\n",
    "kstar = ( (1/β - 1+δ) /(α*(lstar)**(1-α))) ** (1 / (α - 1))\n",
    "print(kstar)\n",
    "\n",
    "@numba.njit\n",
    "def labor(z):\n",
    "    if z > 1:\n",
    "        return 1 - 0.04\n",
    "    else:\n",
    "        return 1 - 0.1\n",
    "\n",
    "@numba.njit\n",
    "def f(K, z):\n",
    "    Lsupply = labor(z)\n",
    "    return z * K**α * Lsupply**(1 - α)\n",
    "\n",
    "@numba.njit\n",
    "def mpk(K, z):\n",
    "    Lsupply = labor(z)\n",
    "    return α * z *(Lsupply/K)**(1-α) - δ\n",
    "\n",
    "@numba.njit\n",
    "def util(c):\n",
    "        return np.log(max(c, 1E-10))\n",
    "    \n",
    "# @numba.njit\n",
    "# def K_D(r, z):\n",
    "#     return (α/(r + δ))**(1/(1-α)) * lstar\n",
    "\n",
    "@numba.njit\n",
    "def wage(K, z):\n",
    "    Lsupply = labor(z)\n",
    "    return (1 - α) * z * (K/Lsupply) ** α\n",
    "\n",
    "@numba.njit\n",
    "def K_LOM(alpha, beta, K):\n",
    "    return alpha + beta * np.log(K)\n",
    "\n",
    "print(Π[1][1])"
   ]
  },
  {
   "cell_type": "code",
   "execution_count": 605,
   "metadata": {},
   "outputs": [
    {
     "name": "stdout",
     "output_type": "stream",
     "text": [
      "(101, 8, 2, 2)\n",
      "(8, 2)\n"
     ]
    }
   ],
   "source": [
    "def build_grid(Nk, NK, klbar=0, kubar=100, Klbar=3, Kubar=80):\n",
    "    grid = np.linspace(Klbar, Kubar, NK)\n",
    "    K = np.repeat(grid[:, np.newaxis], 2, axis=1)\n",
    "    k = klbar + np.divide(np.linspace(0, 0.5, Nk),0.5)**7 * (kubar - klbar)\n",
    "    k = np.repeat(k[:, np.newaxis], 8, axis=1)\n",
    "    k = np.repeat(k[:, :, np.newaxis], 2, axis=2)\n",
    "    k = np.repeat(k[:, :, :, np.newaxis], 2, axis=3)\n",
    "    return K, k\n",
    "\n",
    "K, k = build_grid(101, 8)\n",
    "print(k.shape)\n",
    "print(K.shape)"
   ]
  },
  {
   "cell_type": "code",
   "execution_count": 606,
   "metadata": {},
   "outputs": [],
   "source": [
    "#Initial guess law of motion for capital\n",
    "alpha_guess     = np.array([0, 0])\n",
    "beta_guess      = np.array([1, 1])\n",
    "test = alpha_guess + beta_guess * np.log(K)\n",
    "# print(alpha_g)"
   ]
  },
  {
   "cell_type": "markdown",
   "metadata": {},
   "source": [
    "## Solving step 2: Finding the policy functions"
   ]
  },
  {
   "cell_type": "markdown",
   "metadata": {},
   "source": [
    "### Deriving the Euler equation and household budget constraint"
   ]
  },
  {
   "cell_type": "markdown",
   "metadata": {},
   "source": [
    "The euler equation is given by:\n",
    "\n",
    "$$\n",
    "u'(c(k,K,s,z)) = \\beta \\mathbb{E}_{s,z} \\left(f_k(K_+, L_+, z_+) \\ u'\\left[c(k_+(k, K, s, z),K_+,s_+,z_+) \\right] \\right)\n",
    "$$\n",
    "\n",
    "and the budget constraint is:\n",
    "\n",
    "$$\n",
    " c + k_+\\leq r(K,L,z) k + w(K,L,z) l(s) + (1 - \\delta) k ,\\ \\forall t\n",
    "$$"
   ]
  },
  {
   "cell_type": "markdown",
   "metadata": {},
   "source": [
    "Abstracting from L and z, our guess gives us $k_+(k,K)$, a function of individual and aggregate capital. Fitting a bivariate spline over k and K we know have an approximation function $g(k, K)$ for any point on the grid. Iterating forward the approximate policy function we get $k_{++}(k_{+}, K_{+}) = g(g(k, K), K_+(K))$. Note that $K_+(K) = \\alpha + \\beta K$ is not a free element. It is pinned downed by the choice of K the period before. Only k is chosen on the grid by the agent."
   ]
  },
  {
   "cell_type": "code",
   "execution_count": 607,
   "metadata": {},
   "outputs": [],
   "source": [
    "#Fit bivariate spline over all states. \n",
    "def multispline(k, K, Y):\n",
    "\n",
    "    tck = []\n",
    "    for il, li in enumerate(L):\n",
    "        tckiz = []\n",
    "        for iz, zi in enumerate(Z):\n",
    "            tckiz.append(interpolate.RectBivariateSpline(k[:,0,0,0], K[:,iz], Y[:,:,il,iz]))\n",
    "        tck.append(tckiz)\n",
    "\n",
    "    return tck\n",
    "\n",
    "\n",
    "\n",
    "#Evaluate the spline over all states\n",
    "def multispline_eval(kplus, Kplus, tck):\n",
    "\n",
    "    output = np.empty((len(k), len(K), len(L), len(Z)))\n",
    "    for iK, Ki in enumerate(Kplus):\n",
    "        for il, li in enumerate(L):\n",
    "            for iz, zi in enumerate(Z):\n",
    "                output[:,iK,il,iz] =  tck[il][iz](kplus[:,iK,il,iz], Kplus[iK,iz]).flatten() # For a given K and so a given Kprime\n",
    "\n",
    "    return output\n",
    "\n",
    "kplus = np.zeros((len(k), len(K), len(L), len(Z))) + 0.9*k\n",
    "\n",
    "tck = multispline(k, K, kplus)\n",
    "# test = multispline_eval(k, K, tck)\n",
    "# print(kplus)\n",
    "# print(multispline_eval(kplus, K, tck))\n"
   ]
  },
  {
   "cell_type": "code",
   "execution_count": 608,
   "metadata": {},
   "outputs": [],
   "source": [
    "@numba.njit\n",
    "def BC(w, r, L, kplus, kpplus):\n",
    "    income = L*w + (1 + r - δ)*kplus\n",
    "    c  = max(income - kpplus, 10E-10)\n",
    "    return c\n",
    "\n",
    "@numba.njit\n",
    "def BCK(w, r, L, c, k):\n",
    "    income = L*w + (1 + r - δ)*k\n",
    "    kplus  = max(income - c, 10E-10)\n",
    "    return kplus\n",
    "\n",
    "@numba.njit\n",
    "def Euler(kplus, kpplus, Kplus, transition):\n",
    "    \n",
    "    index = 0\n",
    "    income = np.empty((len(L)*len(Z),1))\n",
    "    cplus = np.empty_like(income)\n",
    "    Uplus = np.empty_like(income)\n",
    "    \n",
    "    for indexL, L_curr in enumerate(L):\n",
    "\n",
    "        for indexZ, Z_curr in enumerate(Z):\n",
    "\n",
    "            wplus = wage(Kplus, Z_curr)\n",
    "            rplus = mpk(Kplus, Z_curr)\n",
    "            cplus[index,0]  = BC(wplus, rplus, L_curr, kplus, kpplus[indexL, indexZ]) #Budget constraint tomorrow\n",
    "            Uplus[index,0]  = cplus[index,0]/(1+rplus-δ)\n",
    "            \n",
    "            index = index + 1\n",
    "    \n",
    "    \n",
    "    # Get consumption from Euler\n",
    "    expectedU = transition.T @ Uplus\n",
    "    euler = expectedU / β\n",
    "    return euler\n",
    "\n",
    "\n",
    "\n",
    "\n",
    "# @numba.njit\n",
    "def backward_iterate_II(kplus, k, K, alpha_guess, beta_guess):\n",
    "    # init\n",
    "    kpplus = np.empty_like(kplus)\n",
    "    cendog = np.empty_like(kplus)\n",
    "    kendog = np.empty_like(kplus)\n",
    "    cplus  = np.empty_like(kplus)\n",
    "    \n",
    "    #Using aggregate law of motion\n",
    "    Kplus  = alpha_guess + beta_guess * np.log(K)\n",
    "    \n",
    "    # Use policy function to get K''\n",
    "    \n",
    "    tck = multispline(k, K, kplus)\n",
    "    kpplus = multispline_eval(kplus, Kplus, tck)\n",
    "\n",
    "    # Use BC tomorrow, Euler today and BC today to get back policy func\n",
    "    for iZ, Z_cur in enumerate(Z):\n",
    "        \n",
    "        for iK, K_cur in enumerate(K[:,iZ]):\n",
    "\n",
    "            w = wage(K_cur, Z_cur)\n",
    "            r = mpk(K_cur, Z_cur)\n",
    "            \n",
    "            #Compute possible future incomes\n",
    "            for iL, L_cur in enumerate(L):\n",
    "\n",
    "                for ik, k_cur in enumerate(k[:,0,0,0]):\n",
    "                    transition   = Π[iL][iZ][:, np.newaxis]\n",
    "                    cendog[ik, iK, iL, iZ]   = Euler(kplus[ik, iK, iL, iZ], kpplus[ik, iK, :, :], Kplus[iK, iZ], transition)  # Euler equation today\n",
    "                    kendog[ik, iK, iL, iZ]   = BCK(w, r, L_cur, cendog[ik, iK, iL, iZ], k_cur) # Budget constraint today lower bar = 0, upper bar to define\n",
    "\n",
    "    return kendog\n"
   ]
  },
  {
   "cell_type": "code",
   "execution_count": 609,
   "metadata": {},
   "outputs": [],
   "source": [
    "def ss_policy_II(k, K, alpha_guess, beta_guess):\n",
    "    \n",
    "    kplus = 0.9*k\n",
    "    knew = np.empty_like(kplus)\n",
    "    \n",
    "    for it in range(1000):\n",
    "#         print(\"Iteration number:\", it)\n",
    "        knew = backward_iterate_II(kplus, k, K, alpha_guess, beta_guess) \n",
    "#         print(np.linalg.norm(knew - kplus))\n",
    "        if it % 10 == 1 and  np.linalg.norm(knew - kplus) < 1E-5:\n",
    "            print(f'convergence in {it} iterations!')\n",
    "            tck_out = multispline(k, K, knew)\n",
    "            return tck_out\n",
    "        \n",
    "        kplus = 0.7*knew + 0.3*kplus\n",
    "    "
   ]
  },
  {
   "cell_type": "code",
   "execution_count": 610,
   "metadata": {},
   "outputs": [
    {
     "name": "stdout",
     "output_type": "stream",
     "text": [
      "convergence in 31 iterations!\n",
      "CPU times: user 1.04 s, sys: 4.02 ms, total: 1.05 s\n",
      "Wall time: 1.05 s\n"
     ]
    }
   ],
   "source": [
    "%time tck = ss_policy_II(k, K, alpha_guess, beta_guess)"
   ]
  },
  {
   "cell_type": "code",
   "execution_count": 611,
   "metadata": {
    "scrolled": true
   },
   "outputs": [
    {
     "data": {
      "image/png": "[encoded data removed]",
      "text/plain": [
       "<Figure size 720x288 with 2 Axes>"
      ]
     },
     "metadata": {
      "needs_background": "light"
     },
     "output_type": "display_data"
    }
   ],
   "source": [
    "savings = multispline_eval(k, K, tck)\n",
    "\n",
    "\n",
    "def savings_to_c(savings, k, K, tck):\n",
    "    c       = np.empty_like(savings)\n",
    "    for iL, L_curr in enumerate(L):\n",
    "        for iZ, Z_curr in enumerate(Z):\n",
    "            for iK, K_cur in enumerate(K[:,iZ]):\n",
    "                for ik, k_cur in enumerate(k[:,0,0,0]):\n",
    "                    c[ik, iK, iL, iZ] = BC(wage(K_cur, Z_curr), mpk(K_cur, Z_curr), L_curr, k_cur, savings[ik, iK, iL, iZ])\n",
    "    return c\n",
    "\n",
    "\n",
    "c = savings_to_c(savings, k, K, tck)\n",
    "_, (ax1, ax2) = plt.subplots(1, 2, figsize=(10, 4))\n",
    "ax1.set_title('Consumption')\n",
    "ax2.set_title('Savings')\n",
    "for iL, L_curr in enumerate(L):\n",
    "    for iZ, Z_curr in enumerate(Z):\n",
    "        ax1.plot(k[:,0,0,0], c[:,5, iL, iZ], label=r'$L = {j}, Z= {i} $'.format(j=L_curr, i=Z_curr))\n",
    "        ax2.plot(k[:,0,0,0], savings[:,5, iL, iZ])\n",
    "ax1.legend()\n",
    "ax1.set(xlabel=\"Capital\", ylabel=\"Consumption\")\n",
    "ax2.set(xlabel=\"Capital\", ylabel=\"Savings\")\n",
    "plt.tight_layout()"
   ]
  },
  {
   "cell_type": "markdown",
   "metadata": {},
   "source": [
    "## Solve the model"
   ]
  },
  {
   "cell_type": "markdown",
   "metadata": {},
   "source": [
    "### Draw random aggregate and idiosyncratic shocks to simulate aggregate economy"
   ]
  },
  {
   "cell_type": "code",
   "execution_count": 690,
   "metadata": {},
   "outputs": [
    {
     "name": "stdout",
     "output_type": "stream",
     "text": [
      "Average employment status 0.7961\n",
      "Average State of the economy 1.0\n",
      "18.46502280470408\n"
     ]
    }
   ],
   "source": [
    "@numba.njit\n",
    "def update(iz):\n",
    "    # then do random draw for the state\n",
    "    iz_plus = 1 - np.random.binomial(1, π[1,iz])\n",
    "#     print(Π[(1-zi),0])\n",
    "    return iz_plus\n",
    "\n",
    "@numba.njit\n",
    "def update_idio(il, iz, iz_plus):\n",
    "    # then do random draw for the state\n",
    "    transition = Π[il][iz][:2]         #Select states today and proba of healthy tomorrow\n",
    "#     print(\"Proba employed\", transition[iz_plus])\n",
    "    il_plus = 1 - np.random.binomial(1, transition[iz_plus])\n",
    "\n",
    "    return il_plus\n",
    "\n",
    "# @numba.njit\n",
    "def simu_agg(tck, k, K0, izstart=0, T=10, T_drop=1):\n",
    "#     z_t       = np.empty(T, dtype=int)\n",
    "#     z_t[0]    = izstart\n",
    "    z_t       = np.zeros(T, dtype=int)\n",
    "    K_t       = np.empty(T)\n",
    "    K_t[0]    = K0\n",
    "    kplus     = np.empty_like(k)\n",
    "    l         = np.zeros_like(k, dtype=int)\n",
    "#     print(tck)\n",
    "#     print(l.shape)\n",
    "    \n",
    "    np.random.seed(0)\n",
    "        \n",
    "    for t in range(T-1):\n",
    "#         print(\"period\", t)\n",
    "#         print(z_t[t])\n",
    "#         z_t[t+1] = update(z_t[t])\n",
    "#         print(type(tck))\n",
    "#         print(t)\n",
    "        for ik, k_cur in enumerate(k):\n",
    "            \n",
    "            policy = tck[l[ik]][z_t[t]]\n",
    "            kplus[ik]  = policy(k[ik], K_t[t])\n",
    "#             print(\"Status today\", 1 - l[ik])\n",
    "            l[ik] = update_idio(l[ik], z_t[t], z_t[t+1])\n",
    "#             print(\"Status tomorrow\", 1 - l[ik])\n",
    "        K_t[t+1] = np.average(kplus)\n",
    "        k = kplus\n",
    "#     print(l)\n",
    "    print(\"Average employment status\", np.average(1-l)) \n",
    "    #trim data\n",
    "    K_t = K_t[T_drop:]\n",
    "    z_t = z_t[T_drop:]    \n",
    "    # return averages\n",
    "    print(\"Average State of the economy\",np.average((1-z_t)))\n",
    "          \n",
    "    return K_t, z_t\n",
    "\n",
    "distrib = np.ones(10000)*40\n",
    "K_t, z_t = simu_agg(tck, distrib, 30)\n",
    "# update(0)\n",
    "print(np.average(K_t))"
   ]
  },
  {
   "cell_type": "markdown",
   "metadata": {},
   "source": [
    "### update aggregate law of motion"
   ]
  },
  {
   "cell_type": "code",
   "execution_count": 596,
   "metadata": {},
   "outputs": [],
   "source": [
    "@numba.njit\n",
    "def regression(x,y):\n",
    "    X = np.empty((len(x),2))\n",
    "    c  = np.ones_like(x)\n",
    "    X[:,0]  = c\n",
    "    X[:,1]  = np.log(x)\n",
    "    Y       = np.log(y)\n",
    "    beta = np.dot(np.linalg.inv(np.dot(X.T,X)),np.dot(X.T,Y.T))\n",
    "    slope = beta[1]\n",
    "#     print(slope)\n",
    "    intercept = beta[0]\n",
    "    return slope, intercept\n",
    "\n",
    "\n",
    "    \n",
    "# @numba.njit\n",
    "def param_update(K_t, z_t):\n",
    "    Ksub = K_t[:len(K_t)-1]\n",
    "    zsub = z_t[:len(K_t)-1]\n",
    "    Kb = Ksub[zsub == 1]\n",
    "    Kg = Ksub[zsub == 0]\n",
    "    \n",
    "    Kbplus = K_t[np.array(np.where(zsub == 1)) + 1]\n",
    "    Kgplus = K_t[np.array(np.where(zsub == 0)) + 1]\n",
    "    \n",
    "    betab, alphab = regression(Kb, Kbplus)\n",
    "    betag, alphag = regression(Kg, Kgplus)\n",
    "    \n",
    "    alpha = np.array([alphag, alphab])\n",
    "    beta = np.array([betag, betab])\n",
    "    \n",
    "    return alpha.T, beta.T"
   ]
  },
  {
   "cell_type": "code",
   "execution_count": 597,
   "metadata": {},
   "outputs": [
    {
     "name": "stdout",
     "output_type": "stream",
     "text": [
      "(1, 2)\n"
     ]
    }
   ],
   "source": [
    "alpha, beta = param_update(K_t, z_t)\n",
    "print(alpha.shape)"
   ]
  },
  {
   "cell_type": "markdown",
   "metadata": {},
   "source": [
    "## Iterate over aggregate law of motion"
   ]
  },
  {
   "cell_type": "code",
   "execution_count": 599,
   "metadata": {},
   "outputs": [],
   "source": [
    "def solve_ks(k, K):\n",
    "    \n",
    "    alpha_guess     = np.array([0, 0])\n",
    "    beta_guess     = np.array([1, 1])\n",
    "    distrib = np.linspace(0,100, 1000) # initial distribution of individual\n",
    "    \n",
    "    for it in range(1000):\n",
    "#         print(\"Iteration number:\", it)\n",
    "        tck = ss_policy_II(k, K, alpha_guess, beta_guess)\n",
    "\n",
    "        K_t, z_t = simu_agg(tck, distrib, 90)\n",
    "        print(\"Kss\", np.average(K_t))\n",
    "        alpha, beta = param_update(K_t, z_t)\n",
    "#         print(alpha)\n",
    "        err = np.linalg.norm(np.array([alpha, beta]) - np.array([alpha_guess, beta_guess]))\n",
    "        print(\"Parameter updating error\", err)\n",
    "        if it % 10 == 1 and err  < 1E-5:\n",
    "            print(f'convergence in {it} iterations!')\n",
    "            \n",
    "            return alpha, beta, tck\n",
    "        \n",
    "        alpha_guess = 0.5*alpha + 0.5*alpha_guess\n",
    "        beta_guess  = 0.5*beta + 0.5*beta_guess\n",
    "    "
   ]
  },
  {
   "cell_type": "code",
   "execution_count": 600,
   "metadata": {},
   "outputs": [
    {
     "name": "stdout",
     "output_type": "stream",
     "text": [
      "convergence in 41 iterations!\n",
      "Kss 5.2904426399919835\n",
      "Parameter updating error 1.659184923307506\n",
      "convergence in 41 iterations!\n",
      "Kss 5.118304579319578\n",
      "Parameter updating error 0.2145215138937104\n",
      "convergence in 41 iterations!\n",
      "Kss 5.1648777962161825\n",
      "Parameter updating error 0.07999985518413318\n",
      "convergence in 41 iterations!\n",
      "Kss 5.185950107979189\n",
      "Parameter updating error 0.10847768398502707\n",
      "convergence in 41 iterations!\n",
      "Kss 5.162054096930333\n",
      "Parameter updating error 0.1208581338336005\n",
      "convergence in 41 iterations!\n",
      "Kss 5.195537586313884\n",
      "Parameter updating error 0.06510134821708613\n",
      "convergence in 41 iterations!\n",
      "Kss 5.18117981335902\n",
      "Parameter updating error 0.049320388626454444\n",
      "convergence in 41 iterations!\n",
      "Kss 5.163916457132463\n",
      "Parameter updating error 0.052411894933302734\n",
      "convergence in 41 iterations!\n",
      "Kss 5.063193011085146\n",
      "Parameter updating error 0.062455129783036044\n",
      "convergence in 41 iterations!\n",
      "Kss 5.138583921705256\n",
      "Parameter updating error 0.031129560028082686\n",
      "convergence in 41 iterations!\n",
      "Kss 5.1220406369979425\n",
      "Parameter updating error 0.023808431797025277\n",
      "convergence in 41 iterations!\n",
      "Kss 5.090480926460779\n",
      "Parameter updating error 0.04644648295775703\n",
      "convergence in 41 iterations!\n",
      "Kss 5.147573489359476\n",
      "Parameter updating error 0.03147789467755007\n",
      "convergence in 41 iterations!\n",
      "Kss 5.159063578630898\n",
      "Parameter updating error 0.05526105424714728\n",
      "convergence in 41 iterations!\n",
      "Kss 5.147372432626161\n",
      "Parameter updating error 0.023558180713051338\n",
      "convergence in 41 iterations!\n",
      "Kss 5.133830737711812\n",
      "Parameter updating error 0.06371741202796347\n",
      "convergence in 41 iterations!\n",
      "Kss 5.165998999172191\n",
      "Parameter updating error 0.014784869516923527\n",
      "convergence in 41 iterations!\n",
      "Kss 5.065066032758457\n",
      "Parameter updating error 0.06493990930997696\n",
      "convergence in 41 iterations!\n",
      "Kss 5.115409289257109\n",
      "Parameter updating error 0.007526618383528097\n",
      "convergence in 41 iterations!\n",
      "Kss 5.150038654252834\n",
      "Parameter updating error 0.014594479708564511\n",
      "convergence in 41 iterations!\n",
      "Kss 5.158172075594513\n",
      "Parameter updating error 0.04165344047718491\n",
      "convergence in 41 iterations!\n",
      "Kss 5.1819094941252\n",
      "Parameter updating error 0.02291361192012604\n",
      "convergence in 41 iterations!\n",
      "Kss 5.119282733470269\n",
      "Parameter updating error 0.03610798712174605\n",
      "convergence in 41 iterations!\n",
      "Kss 5.134037055894077\n",
      "Parameter updating error 0.07627522197373615\n",
      "convergence in 41 iterations!\n",
      "Kss 5.1270195091181305\n",
      "Parameter updating error 0.04195120282605679\n",
      "convergence in 41 iterations!\n",
      "Kss 5.148023776805413\n",
      "Parameter updating error 0.0419649938809913\n"
     ]
    },
    {
     "ename": "KeyboardInterrupt",
     "evalue": "",
     "output_type": "error",
     "traceback": [
      "\u001b[0;31m---------------------------------------------------------------------------\u001b[0m",
      "\u001b[0;31mKeyboardInterrupt\u001b[0m                         Traceback (most recent call last)",
      "\u001b[0;32m<ipython-input-600-50e0e886aea5>\u001b[0m in \u001b[0;36m<module>\u001b[0;34m\u001b[0m\n\u001b[0;32m----> 1\u001b[0;31m \u001b[0malpha\u001b[0m\u001b[0;34m,\u001b[0m \u001b[0mbeta\u001b[0m\u001b[0;34m,\u001b[0m \u001b[0mtck\u001b[0m \u001b[0;34m=\u001b[0m \u001b[0msolve_ks\u001b[0m\u001b[0;34m(\u001b[0m\u001b[0mk\u001b[0m\u001b[0;34m,\u001b[0m \u001b[0mK\u001b[0m\u001b[0;34m)\u001b[0m\u001b[0;34m\u001b[0m\u001b[0;34m\u001b[0m\u001b[0m\n\u001b[0m",
      "\u001b[0;32m<ipython-input-599-c53e3a395828>\u001b[0m in \u001b[0;36msolve_ks\u001b[0;34m(k, K)\u001b[0m\n\u001b[1;32m      7\u001b[0m     \u001b[0;32mfor\u001b[0m \u001b[0mit\u001b[0m \u001b[0;32min\u001b[0m \u001b[0mrange\u001b[0m\u001b[0;34m(\u001b[0m\u001b[0;36m1000\u001b[0m\u001b[0;34m)\u001b[0m\u001b[0;34m:\u001b[0m\u001b[0;34m\u001b[0m\u001b[0;34m\u001b[0m\u001b[0m\n\u001b[1;32m      8\u001b[0m \u001b[0;31m#         print(\"Iteration number:\", it)\u001b[0m\u001b[0;34m\u001b[0m\u001b[0;34m\u001b[0m\u001b[0;34m\u001b[0m\u001b[0m\n\u001b[0;32m----> 9\u001b[0;31m         \u001b[0mtck\u001b[0m \u001b[0;34m=\u001b[0m \u001b[0mss_policy_II\u001b[0m\u001b[0;34m(\u001b[0m\u001b[0mk\u001b[0m\u001b[0;34m,\u001b[0m \u001b[0mK\u001b[0m\u001b[0;34m,\u001b[0m \u001b[0malpha_guess\u001b[0m\u001b[0;34m,\u001b[0m \u001b[0mbeta_guess\u001b[0m\u001b[0;34m)\u001b[0m\u001b[0;34m\u001b[0m\u001b[0;34m\u001b[0m\u001b[0m\n\u001b[0m\u001b[1;32m     10\u001b[0m \u001b[0;34m\u001b[0m\u001b[0m\n\u001b[1;32m     11\u001b[0m         \u001b[0mK_t\u001b[0m\u001b[0;34m,\u001b[0m \u001b[0mz_t\u001b[0m \u001b[0;34m=\u001b[0m \u001b[0msimu_agg\u001b[0m\u001b[0;34m(\u001b[0m\u001b[0mtck\u001b[0m\u001b[0;34m,\u001b[0m \u001b[0mdistrib\u001b[0m\u001b[0;34m,\u001b[0m \u001b[0;36m90\u001b[0m\u001b[0;34m)\u001b[0m\u001b[0;34m\u001b[0m\u001b[0;34m\u001b[0m\u001b[0m\n",
      "\u001b[0;32m<ipython-input-591-becdf0d03f54>\u001b[0m in \u001b[0;36mss_policy_II\u001b[0;34m(k, K, alpha_guess, beta_guess)\u001b[0m\n\u001b[1;32m      6\u001b[0m     \u001b[0;32mfor\u001b[0m \u001b[0mit\u001b[0m \u001b[0;32min\u001b[0m \u001b[0mrange\u001b[0m\u001b[0;34m(\u001b[0m\u001b[0;36m1000\u001b[0m\u001b[0;34m)\u001b[0m\u001b[0;34m:\u001b[0m\u001b[0;34m\u001b[0m\u001b[0;34m\u001b[0m\u001b[0m\n\u001b[1;32m      7\u001b[0m \u001b[0;31m#         print(\"Iteration number:\", it)\u001b[0m\u001b[0;34m\u001b[0m\u001b[0;34m\u001b[0m\u001b[0;34m\u001b[0m\u001b[0m\n\u001b[0;32m----> 8\u001b[0;31m         \u001b[0mknew\u001b[0m \u001b[0;34m=\u001b[0m \u001b[0mbackward_iterate_II\u001b[0m\u001b[0;34m(\u001b[0m\u001b[0mkplus\u001b[0m\u001b[0;34m,\u001b[0m \u001b[0mk\u001b[0m\u001b[0;34m,\u001b[0m \u001b[0mK\u001b[0m\u001b[0;34m,\u001b[0m \u001b[0malpha_guess\u001b[0m\u001b[0;34m,\u001b[0m \u001b[0mbeta_guess\u001b[0m\u001b[0;34m)\u001b[0m\u001b[0;34m\u001b[0m\u001b[0;34m\u001b[0m\u001b[0m\n\u001b[0m\u001b[1;32m      9\u001b[0m \u001b[0;31m#         print(np.linalg.norm(knew - kplus))\u001b[0m\u001b[0;34m\u001b[0m\u001b[0;34m\u001b[0m\u001b[0;34m\u001b[0m\u001b[0m\n\u001b[1;32m     10\u001b[0m         \u001b[0;32mif\u001b[0m \u001b[0mit\u001b[0m \u001b[0;34m%\u001b[0m \u001b[0;36m10\u001b[0m \u001b[0;34m==\u001b[0m \u001b[0;36m1\u001b[0m \u001b[0;32mand\u001b[0m  \u001b[0mnp\u001b[0m\u001b[0;34m.\u001b[0m\u001b[0mlinalg\u001b[0m\u001b[0;34m.\u001b[0m\u001b[0mnorm\u001b[0m\u001b[0;34m(\u001b[0m\u001b[0mknew\u001b[0m \u001b[0;34m-\u001b[0m \u001b[0mkplus\u001b[0m\u001b[0;34m)\u001b[0m \u001b[0;34m<\u001b[0m \u001b[0;36m1E-5\u001b[0m\u001b[0;34m:\u001b[0m\u001b[0;34m\u001b[0m\u001b[0;34m\u001b[0m\u001b[0m\n",
      "\u001b[0;32m<ipython-input-586-ca01cb752aa4>\u001b[0m in \u001b[0;36mbackward_iterate_II\u001b[0;34m(kplus, k, K, alpha_guess, beta_guess)\u001b[0m\n\u001b[1;32m     69\u001b[0m                     \u001b[0mtransition\u001b[0m   \u001b[0;34m=\u001b[0m \u001b[0mΠ\u001b[0m\u001b[0;34m[\u001b[0m\u001b[0miL\u001b[0m\u001b[0;34m]\u001b[0m\u001b[0;34m[\u001b[0m\u001b[0miZ\u001b[0m\u001b[0;34m]\u001b[0m\u001b[0;34m[\u001b[0m\u001b[0;34m:\u001b[0m\u001b[0;34m,\u001b[0m \u001b[0mnp\u001b[0m\u001b[0;34m.\u001b[0m\u001b[0mnewaxis\u001b[0m\u001b[0;34m]\u001b[0m\u001b[0;34m\u001b[0m\u001b[0;34m\u001b[0m\u001b[0m\n\u001b[1;32m     70\u001b[0m                     \u001b[0mcendog\u001b[0m\u001b[0;34m[\u001b[0m\u001b[0mik\u001b[0m\u001b[0;34m,\u001b[0m \u001b[0miK\u001b[0m\u001b[0;34m,\u001b[0m \u001b[0miL\u001b[0m\u001b[0;34m,\u001b[0m \u001b[0miZ\u001b[0m\u001b[0;34m]\u001b[0m   \u001b[0;34m=\u001b[0m \u001b[0mEuler\u001b[0m\u001b[0;34m(\u001b[0m\u001b[0mkplus\u001b[0m\u001b[0;34m[\u001b[0m\u001b[0mik\u001b[0m\u001b[0;34m,\u001b[0m \u001b[0miK\u001b[0m\u001b[0;34m,\u001b[0m \u001b[0miL\u001b[0m\u001b[0;34m,\u001b[0m \u001b[0miZ\u001b[0m\u001b[0;34m]\u001b[0m\u001b[0;34m,\u001b[0m \u001b[0mkpplus\u001b[0m\u001b[0;34m[\u001b[0m\u001b[0mik\u001b[0m\u001b[0;34m,\u001b[0m \u001b[0miK\u001b[0m\u001b[0;34m,\u001b[0m \u001b[0;34m:\u001b[0m\u001b[0;34m,\u001b[0m \u001b[0;34m:\u001b[0m\u001b[0;34m]\u001b[0m\u001b[0;34m,\u001b[0m \u001b[0mKplus\u001b[0m\u001b[0;34m[\u001b[0m\u001b[0miK\u001b[0m\u001b[0;34m,\u001b[0m \u001b[0miZ\u001b[0m\u001b[0;34m]\u001b[0m\u001b[0;34m,\u001b[0m \u001b[0mtransition\u001b[0m\u001b[0;34m)\u001b[0m  \u001b[0;31m# Euler equation today\u001b[0m\u001b[0;34m\u001b[0m\u001b[0;34m\u001b[0m\u001b[0m\n\u001b[0;32m---> 71\u001b[0;31m                     \u001b[0mkendog\u001b[0m\u001b[0;34m[\u001b[0m\u001b[0mik\u001b[0m\u001b[0;34m,\u001b[0m \u001b[0miK\u001b[0m\u001b[0;34m,\u001b[0m \u001b[0miL\u001b[0m\u001b[0;34m,\u001b[0m \u001b[0miZ\u001b[0m\u001b[0;34m]\u001b[0m   \u001b[0;34m=\u001b[0m \u001b[0mBCK\u001b[0m\u001b[0;34m(\u001b[0m\u001b[0mw\u001b[0m\u001b[0;34m,\u001b[0m \u001b[0mr\u001b[0m\u001b[0;34m,\u001b[0m \u001b[0mL_cur\u001b[0m\u001b[0;34m,\u001b[0m \u001b[0mcendog\u001b[0m\u001b[0;34m[\u001b[0m\u001b[0mik\u001b[0m\u001b[0;34m,\u001b[0m \u001b[0miK\u001b[0m\u001b[0;34m,\u001b[0m \u001b[0miL\u001b[0m\u001b[0;34m,\u001b[0m \u001b[0miZ\u001b[0m\u001b[0;34m]\u001b[0m\u001b[0;34m,\u001b[0m \u001b[0mk_cur\u001b[0m\u001b[0;34m)\u001b[0m \u001b[0;31m# Budget constraint today lower bar = 0, upper bar to define\u001b[0m\u001b[0;34m\u001b[0m\u001b[0;34m\u001b[0m\u001b[0m\n\u001b[0m\u001b[1;32m     72\u001b[0m \u001b[0;34m\u001b[0m\u001b[0m\n\u001b[1;32m     73\u001b[0m     \u001b[0;32mreturn\u001b[0m \u001b[0mkendog\u001b[0m\u001b[0;34m\u001b[0m\u001b[0;34m\u001b[0m\u001b[0m\n",
      "\u001b[0;31mKeyboardInterrupt\u001b[0m: "
     ]
    }
   ],
   "source": [
    "alpha, beta, tck = solve_ks(k, K)"
   ]
  },
  {
   "cell_type": "code",
   "execution_count": 658,
   "metadata": {},
   "outputs": [
    {
     "data": {
      "text/plain": [
       "0.35"
      ]
     },
     "execution_count": 658,
     "metadata": {},
     "output_type": "execute_result"
    }
   ],
   "source": [
    "7/20"
   ]
  },
  {
   "cell_type": "code",
   "execution_count": null,
   "metadata": {},
   "outputs": [],
   "source": []
  }
 ],
 "metadata": {
  "kernelspec": {
   "display_name": "Python 3",
   "language": "python",
   "name": "python3"
  },
  "language_info": {
   "codemirror_mode": {
    "name": "ipython",
    "version": 3
   },
   "file_extension": ".py",
   "mimetype": "text/x-python",
   "name": "python",
   "nbconvert_exporter": "python",
   "pygments_lexer": "ipython3",
   "version": "3.8.2"
  }
 },
 "nbformat": 4,
 "nbformat_minor": 4
}
